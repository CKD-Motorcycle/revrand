{
 "cells": [
  {
   "cell_type": "code",
   "execution_count": 80,
   "metadata": {
    "collapsed": false
   },
   "outputs": [],
   "source": [
    "import numpy as np\n",
    "from sklearn.datasets import load_boston\n",
    "from sklearn.cross_validation import KFold\n",
    "\n",
    "import revrand.basis_functions as bf\n",
    "from revrand.metrics import smse, msll\n",
    "from revrand.regression import learn, predict\n",
    "from revrand.btypes import Parameter, Positive\n",
    "\n",
    "import revrand.legacygp as gp\n",
    "import revrand.legacygp.kernels as kern\n"
   ]
  },
  {
   "cell_type": "code",
   "execution_count": 100,
   "metadata": {
    "collapsed": false
   },
   "outputs": [],
   "source": [
    "# Load the data\n",
    "boston = load_boston()\n",
    "X = boston.data\n",
    "y = boston.target - boston.target.mean()\n",
    "\n",
    "N, D = X.shape\n",
    "lenscale = 1000.\n",
    "lenARD = lenscale * np.ones(D)\n"
   ]
  },
  {
   "cell_type": "code",
   "execution_count": 101,
   "metadata": {
    "collapsed": false
   },
   "outputs": [],
   "source": [
    "# Construct basis functions\n",
    "base = bf.RandomMatern32(Xdim=D, nbases=200, lenscale_init=Parameter(lenARD, Positive())) #\\\n",
    "    #+bf.RandomRBF(Xdim=D, nbases=50, lenscale_init=Parameter(lenARD, Positive()))\n",
    "    "
   ]
  },
  {
   "cell_type": "code",
   "execution_count": 102,
   "metadata": {
    "collapsed": false
   },
   "outputs": [],
   "source": [
    "# Construct a GP kernel to compare to\n",
    "def kdef(h, k):\n",
    "    return (h(1e-5, 10., 0.5) * k(kern.matern3on2, [h(1e-5, 1e5, l) for l in lenARD]) +\n",
    "            k(kern.lognoise, h(-4, 1, 0)))\n"
   ]
  },
  {
   "cell_type": "code",
   "execution_count": 103,
   "metadata": {
    "collapsed": false
   },
   "outputs": [
    {
     "name": "stdout",
     "output_type": "stream",
     "text": [
      "Fold: 0,\n",
      "\trevrand: SMSE = 0.11515026692844521, MSLL = -1.136777829359582\n",
      "Fold: 1,\n",
      "\trevrand: SMSE = 0.21883184976540862, MSLL = -0.7547862845380295\n",
      "Fold: 2,\n",
      "\trevrand: SMSE = 0.14010044301498245, MSLL = -1.138129200617719\n",
      "Fold: 3,\n",
      "\trevrand: SMSE = 0.4171394023359003, MSLL = -0.17629713462449503\n",
      "Fold: 4,\n",
      "\trevrand: SMSE = 0.0761734422806629, MSLL = -1.3134234137596041\n"
     ]
    }
   ],
   "source": [
    "# Cross val\n",
    "folds = 5\n",
    "av_smse, av_msll = 0., 0.\n",
    "av_smse_gp, av_msll_gp = 0., 0\n",
    "\n",
    "for i, (tr_ind, ts_ind) in enumerate(KFold(len(y), n_folds=folds, shuffle=True)):\n",
    "    \n",
    "    # Training\n",
    "    params = learn(X[tr_ind], y[tr_ind], base)\n",
    "     \n",
    "    #hyper_params = gp.learn(X[tr_ind], y[tr_ind], kdef, verbose=False, ftol=1e-15)\n",
    "    #regressor = gp.condition(X[tr_ind], y[tr_ind], kdef, hyper_params)\n",
    "    \n",
    "    # Prediction\n",
    "    Ey, Vf, Vy = predict(X[ts_ind], base, *params)\n",
    "    \n",
    "    #query = gp.query(regressor, X[ts_ind])\n",
    "    #Ey_gp = gp.mean(query)\n",
    "    #Vy_gp = gp.variance(query, noise=True)\n",
    "\n",
    "    \n",
    "    # Validation\n",
    "    f_smse, f_msll = smse(y[ts_ind], Ey), msll(y[ts_ind], Ey, Vy, y[tr_ind])\n",
    "    #f_smse_gp, f_msll_gp = smse(y[ts_ind], Ey_gp), msll(y[ts_ind], Ey_gp, Vy_gp, y[tr_ind])\n",
    "\n",
    "    av_smse += f_smse\n",
    "    av_msll += f_msll\n",
    "    #av_smse_gp += f_smse_gp\n",
    "    #av_msll_gp += f_msll_gp\n",
    "    \n",
    "    print(\"Fold: {},\\n\\trevrand: SMSE = {}, MSLL = {}\"\n",
    "          #\"\\n\\tGP: SMSE = {}, MSLL = {}\"\n",
    "          .format(i, f_smse, f_msll))#, f_smse_gp, f_smse_gp))\n",
    "    \n",
    "av_smse /= folds\n",
    "av_msll /= folds\n",
    "#av_smse_gp /= folds\n",
    "#av_msll_gp /= folds"
   ]
  },
  {
   "cell_type": "code",
   "execution_count": 104,
   "metadata": {
    "collapsed": false
   },
   "outputs": [
    {
     "name": "stdout",
     "output_type": "stream",
     "text": [
      "Final:\n",
      "\trevrand: SMSE = 0.1934790808650799, MSLL = -0.903882772579886\n"
     ]
    }
   ],
   "source": [
    "# Print results\n",
    "print(\"Final:\\n\\trevrand: SMSE = {}, MSLL = {}\"\n",
    "      #\"\\n\\tGP: SMSE = {}, MSLL = {}\"\n",
    "      .format(av_smse, av_msll))#, av_smse_gp, av_msll_gp))\n"
   ]
  },
  {
   "cell_type": "code",
   "execution_count": null,
   "metadata": {
    "collapsed": true
   },
   "outputs": [],
   "source": []
  }
 ],
 "metadata": {
  "kernelspec": {
   "display_name": "Python 3",
   "language": "python",
   "name": "python3"
  },
  "language_info": {
   "codemirror_mode": {
    "name": "ipython",
    "version": 3
   },
   "file_extension": ".py",
   "mimetype": "text/x-python",
   "name": "python",
   "nbconvert_exporter": "python",
   "pygments_lexer": "ipython3",
   "version": "3.5.1"
  }
 },
 "nbformat": 4,
 "nbformat_minor": 0
}
