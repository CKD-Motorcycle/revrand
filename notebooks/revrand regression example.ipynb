{
 "cells": [
  {
   "cell_type": "code",
   "execution_count": 1,
   "metadata": {
    "collapsed": false
   },
   "outputs": [],
   "source": [
    "import numpy as np\n",
    "from sklearn.datasets import load_boston\n",
    "from sklearn.cross_validation import KFold\n",
    "\n",
    "import revrand.basis_functions as bf\n",
    "from revrand.validation import smse, msll\n",
    "from revrand.regression import learn, predict"
   ]
  },
  {
   "cell_type": "code",
   "execution_count": 3,
   "metadata": {
    "collapsed": false
   },
   "outputs": [],
   "source": [
    "# Load the data\n",
    "boston = load_boston()\n",
    "X = boston.data\n",
    "y = boston.target - boston.target.mean()\n",
    "\n",
    "N, D = X.shape"
   ]
  },
  {
   "cell_type": "code",
   "execution_count": 23,
   "metadata": {
    "collapsed": false
   },
   "outputs": [],
   "source": [
    "# Construct basis functions\n",
    "base = bf.RandomRBF_ARD(Xdim=D, nbases=50) + bf.RandomRBF(Xdim=D, nbases=50)\n",
    "init_params = [1000. * np.ones(D), 1000.]"
   ]
  },
  {
   "cell_type": "code",
   "execution_count": 24,
   "metadata": {
    "collapsed": false
   },
   "outputs": [
    {
     "name": "stdout",
     "output_type": "stream",
     "text": [
      "Fold: 0, SMSE = 0.11324296588632327, MSLL = -1.1999955192365723\n",
      "Fold: 1, SMSE = 0.31539845857876325, MSLL = -0.607155852688254\n",
      "Fold: 2, SMSE = 0.1571350685045705, MSLL = -0.9177251662903533\n",
      "Fold: 3, SMSE = 0.1118159441690557, MSLL = -1.1281885011196762\n",
      "Fold: 4, SMSE = 0.2815883496707695, MSLL = -0.6059645717247217\n"
     ]
    }
   ],
   "source": [
    "# Cross val\n",
    "folds = 5\n",
    "av_smse = 0.\n",
    "av_msll = 0.\n",
    "for i, (tr_ind, ts_ind) in enumerate(KFold(len(y), n_folds=folds, shuffle=True)):\n",
    "    \n",
    "    # Training\n",
    "    params = learn(X[tr_ind], y[tr_ind], base, init_params)\n",
    "    \n",
    "    # Prediction\n",
    "    Ey, Vf, Vy = predict(X[ts_ind], base, *params)\n",
    "    \n",
    "    # Validation\n",
    "    f_smse = smse(y[ts_ind], Ey)\n",
    "    f_msll = msll(y[ts_ind], Ey, Vy, y[tr_ind])\n",
    "    av_smse += f_smse\n",
    "    av_msll += f_msll\n",
    "    \n",
    "    print(\"Fold: {}, SMSE = {}, MSLL = {}\".format(i, f_smse, f_msll))\n",
    "    \n",
    "av_smse /= folds\n",
    "av_msll /= folds"
   ]
  },
  {
   "cell_type": "code",
   "execution_count": 25,
   "metadata": {
    "collapsed": false
   },
   "outputs": [
    {
     "name": "stdout",
     "output_type": "stream",
     "text": [
      "Final: SMSE = 0.19583615736189647, MSLL = -0.8918059222119155\n"
     ]
    }
   ],
   "source": [
    "# Print results\n",
    "print(\"Final: SMSE = {}, MSLL = {}\".format(av_smse, av_msll))"
   ]
  },
  {
   "cell_type": "code",
   "execution_count": null,
   "metadata": {
    "collapsed": true
   },
   "outputs": [],
   "source": []
  }
 ],
 "metadata": {
  "kernelspec": {
   "display_name": "Python 3",
   "language": "python",
   "name": "python3"
  },
  "language_info": {
   "codemirror_mode": {
    "name": "ipython",
    "version": 3
   },
   "file_extension": ".py",
   "mimetype": "text/x-python",
   "name": "python",
   "nbconvert_exporter": "python",
   "pygments_lexer": "ipython3",
   "version": "3.5.1"
  }
 },
 "nbformat": 4,
 "nbformat_minor": 0
}
