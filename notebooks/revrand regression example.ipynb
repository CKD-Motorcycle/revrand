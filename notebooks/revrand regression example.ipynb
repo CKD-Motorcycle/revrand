{
 "cells": [
  {
   "cell_type": "markdown",
   "metadata": {},
   "source": [
    "Boston Housing Dataset Test\n",
    "===========================\n",
    "\n",
    "In this notebook we test ravrand's ARD basis functions on the Boston housing dataset."
   ]
  },
  {
   "cell_type": "code",
   "execution_count": 1,
   "metadata": {
    "collapsed": false
   },
   "outputs": [],
   "source": [
    "import numpy as np\n",
    "from sklearn.datasets import load_boston\n",
    "from sklearn.cross_validation import KFold\n",
    "\n",
    "import revrand.basis_functions as bf\n",
    "from revrand.metrics import smse, msll\n",
    "from revrand.slm import learn, predict\n",
    "from revrand.btypes import Parameter, Positive, Bound\n",
    "\n",
    "import revrand.legacygp as gp\n",
    "import revrand.legacygp.kernels as kern\n",
    "\n",
    "# Log output to the terminal attached to this notebook\n",
    "import logging\n",
    "logger = logging.getLogger()\n",
    "logger.setLevel(logging.DEBUG)\n",
    "logging.debug(\"test\")\n"
   ]
  },
  {
   "cell_type": "code",
   "execution_count": 2,
   "metadata": {
    "collapsed": false
   },
   "outputs": [],
   "source": [
    "# Load the data\n",
    "boston = load_boston()\n",
    "X = boston.data\n",
    "y = boston.target - boston.target.mean()\n",
    "\n",
    "N, D = X.shape\n",
    "lenscale = 10.\n",
    "nbases = 200\n",
    "lenARD = lenscale * np.ones(D)\n"
   ]
  },
  {
   "cell_type": "code",
   "execution_count": 3,
   "metadata": {
    "collapsed": false
   },
   "outputs": [],
   "source": [
    "# Construct basis functions\n",
    "base = bf.RandomMatern32(Xdim=D, nbases=nbases, lenscale_init=Parameter(lenARD, Positive())) + \\\n",
    "    bf.LinearBasis(onescol=True)\n",
    "#base = bf.SigmoidalBasis(centres=X[np.random.choice(N, 10), :], lenscale_init=Parameter(lenARD, Positive())) + \\\n",
    "#    bf.LinearBasis(onescol=True)\n",
    "#base = bf.FastFoodRBF(Xdim=D, nbases=nbases, lenscale_init=Parameter(lenARD, Positive())) + \\\n",
    "#    bf.LinearBasis(onescol=True)\n",
    "    "
   ]
  },
  {
   "cell_type": "code",
   "execution_count": 4,
   "metadata": {
    "collapsed": false
   },
   "outputs": [],
   "source": [
    "# Construct a GP kernel to compare to\n",
    "def kdef(h, k):\n",
    "    return (h(1e-5, 10., 0.5) * k(kern.matern3on2, [h(1e-5, 1e5, l) for l in lenARD]) +\n",
    "            k(kern.lognoise, h(-4, 1, 0)))\n"
   ]
  },
  {
   "cell_type": "code",
   "execution_count": 5,
   "metadata": {
    "collapsed": false
   },
   "outputs": [
    {
     "name": "stdout",
     "output_type": "stream",
     "text": [
      "Fold: 0,\n",
      "\trevrand: SMSE = 0.28239808889711826, MSLL = -0.6501849375034063\n",
      "Fold: 1,\n",
      "\trevrand: SMSE = 0.33226267948199495, MSLL = -0.39085857963926146\n",
      "Fold: 2,\n",
      "\trevrand: SMSE = 0.3300863661903386, MSLL = -0.4351833254704734\n",
      "Fold: 3,\n",
      "\trevrand: SMSE = 0.2525967498573402, MSLL = -0.6634710722416051\n"
     ]
    },
    {
     "name": "stderr",
     "output_type": "stream",
     "text": [
      "/home/dsteinberg/Code/revrand/revrand/optimize/base.py:547: RuntimeWarning: overflow encountered in exp\n",
      "  for xi, pos in zip(x, ispos)])\n"
     ]
    },
    {
     "name": "stdout",
     "output_type": "stream",
     "text": [
      "Fold: 4,\n",
      "\trevrand: SMSE = 0.17945283234099624, MSLL = -0.8270982530420484\n"
     ]
    },
    {
     "name": "stderr",
     "output_type": "stream",
     "text": [
      "/home/dsteinberg/Code/revrand/revrand/optimize/base.py:549: RuntimeWarning: overflow encountered in exp\n",
      "  for lxi, gi, pos in zip(logx, g, ispos)])\n",
      "/home/dsteinberg/Code/revrand/revrand/optimize/base.py:549: RuntimeWarning: invalid value encountered in double_scalars\n",
      "  for lxi, gi, pos in zip(logx, g, ispos)])\n"
     ]
    }
   ],
   "source": [
    "# Cross val\n",
    "folds = 5\n",
    "av_smse, av_msll = 0., 0.\n",
    "av_smse_gp, av_msll_gp = 0., 0\n",
    "\n",
    "for i, (tr_ind, ts_ind) in enumerate(KFold(len(y), n_folds=folds, shuffle=True)):\n",
    "    \n",
    "    # Training\n",
    "    params = learn(X[tr_ind], y[tr_ind], base)\n",
    "     \n",
    "    #hyper_params = gp.learn(X[tr_ind], y[tr_ind], kdef, verbose=False, ftol=1e-15)\n",
    "    #regressor = gp.condition(X[tr_ind], y[tr_ind], kdef, hyper_params)\n",
    "    \n",
    "    # Prediction\n",
    "    Ey, Vf, Vy = predict(X[ts_ind], base, *params)\n",
    "    \n",
    "    #query = gp.query(regressor, X[ts_ind])\n",
    "    #Ey_gp = gp.mean(query)\n",
    "    #Vy_gp = gp.variance(query, noise=True)\n",
    "\n",
    "    \n",
    "    # Validation\n",
    "    f_smse, f_msll = smse(y[ts_ind], Ey), msll(y[ts_ind], Ey, Vy, y[tr_ind])\n",
    "    #f_smse_gp, f_msll_gp = smse(y[ts_ind], Ey_gp), msll(y[ts_ind], Ey_gp, Vy_gp, y[tr_ind])\n",
    "\n",
    "    av_smse += f_smse\n",
    "    av_msll += f_msll\n",
    "    #av_smse_gp += f_smse_gp\n",
    "    #av_msll_gp += f_msll_gp\n",
    "    \n",
    "    print(\"Fold: {},\\n\\trevrand: SMSE = {}, MSLL = {}\"\n",
    "          #\"\\n\\tGP: SMSE = {}, MSLL = {}\"\n",
    "          .format(i, f_smse, f_msll))#, f_smse_gp, f_smse_gp))\n",
    "    \n",
    "av_smse /= folds\n",
    "av_msll /= folds\n",
    "#av_smse_gp /= folds\n",
    "#av_msll_gp /= folds"
   ]
  },
  {
   "cell_type": "code",
   "execution_count": 6,
   "metadata": {
    "collapsed": false
   },
   "outputs": [
    {
     "name": "stdout",
     "output_type": "stream",
     "text": [
      "Final:\n",
      "\trevrand: SMSE = 0.27535934335355766, MSLL = -0.5933592335793589\n"
     ]
    }
   ],
   "source": [
    "# Print results\n",
    "print(\"Final:\\n\\trevrand: SMSE = {}, MSLL = {}\"\n",
    "      #\"\\n\\tGP: SMSE = {}, MSLL = {}\"\n",
    "      .format(av_smse, av_msll))#, av_smse_gp, av_msll_gp))\n"
   ]
  },
  {
   "cell_type": "code",
   "execution_count": null,
   "metadata": {
    "collapsed": true
   },
   "outputs": [],
   "source": []
  }
 ],
 "metadata": {
  "kernelspec": {
   "display_name": "Python 3",
   "language": "python",
   "name": "python3"
  },
  "language_info": {
   "codemirror_mode": {
    "name": "ipython",
    "version": 3
   },
   "file_extension": ".py",
   "mimetype": "text/x-python",
   "name": "python",
   "nbconvert_exporter": "python",
   "pygments_lexer": "ipython3",
   "version": "3.5.1"
  }
 },
 "nbformat": 4,
 "nbformat_minor": 0
}
