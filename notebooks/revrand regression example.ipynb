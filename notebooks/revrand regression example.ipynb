{
 "cells": [
  {
   "cell_type": "code",
   "execution_count": 1,
   "metadata": {
    "collapsed": false
   },
   "outputs": [],
   "source": [
    "import numpy as np\n",
    "from sklearn.datasets import load_boston\n",
    "from sklearn.cross_validation import KFold\n",
    "\n",
    "import revrand.basis_functions as bf\n",
    "from revrand.validation import smse, msll\n",
    "from revrand.regression import learn, predict\n",
    "from revrand.btypes import Parameter, Positive"
   ]
  },
  {
   "cell_type": "code",
   "execution_count": 2,
   "metadata": {
    "collapsed": false
   },
   "outputs": [],
   "source": [
    "# Load the data\n",
    "boston = load_boston()\n",
    "X = boston.data\n",
    "y = boston.target - boston.target.mean()\n",
    "\n",
    "N, D = X.shape"
   ]
  },
  {
   "cell_type": "code",
   "execution_count": 5,
   "metadata": {
    "collapsed": false
   },
   "outputs": [],
   "source": [
    "# Construct basis functions\n",
    "base = bf.RandomRBF(Xdim=D, nbases=50, lenscale_init=Parameter(1000*np.ones(D), Positive())) \\\n",
    "    + bf.RandomRBF(Xdim=D, nbases=50, lenscale_init=Parameter(1000, Positive()))"
   ]
  },
  {
   "cell_type": "code",
   "execution_count": 6,
   "metadata": {
    "collapsed": false
   },
   "outputs": [
    {
     "name": "stdout",
     "output_type": "stream",
     "text": [
      "Fold: 0, SMSE = 0.1348670474410108, MSLL = -1.121755601718169\n",
      "Fold: 1, SMSE = 0.12502128230768073, MSLL = -1.1045212809749994\n",
      "Fold: 2, SMSE = 0.35207851560968784, MSLL = -0.30482597967425873\n",
      "Fold: 3, SMSE = 0.16490815289525493, MSLL = -0.9426245569401307\n",
      "Fold: 4, SMSE = 0.16450563576183283, MSLL = -0.8372288685995053\n"
     ]
    }
   ],
   "source": [
    "# Cross val\n",
    "folds = 5\n",
    "av_smse = 0.\n",
    "av_msll = 0.\n",
    "for i, (tr_ind, ts_ind) in enumerate(KFold(len(y), n_folds=folds, shuffle=True)):\n",
    "    \n",
    "    # Training\n",
    "    params = learn(X[tr_ind], y[tr_ind], base)\n",
    "    \n",
    "    # Prediction\n",
    "    Ey, Vf, Vy = predict(X[ts_ind], base, *params)\n",
    "    \n",
    "    # Validation\n",
    "    f_smse = smse(y[ts_ind], Ey)\n",
    "    f_msll = msll(y[ts_ind], Ey, Vy, y[tr_ind])\n",
    "    av_smse += f_smse\n",
    "    av_msll += f_msll\n",
    "    \n",
    "    print(\"Fold: {}, SMSE = {}, MSLL = {}\".format(i, f_smse, f_msll))\n",
    "    \n",
    "av_smse /= folds\n",
    "av_msll /= folds"
   ]
  },
  {
   "cell_type": "code",
   "execution_count": 7,
   "metadata": {
    "collapsed": false
   },
   "outputs": [
    {
     "name": "stdout",
     "output_type": "stream",
     "text": [
      "Final: SMSE = 0.1882761268030934, MSLL = -0.8621912575814126\n"
     ]
    }
   ],
   "source": [
    "# Print results\n",
    "print(\"Final: SMSE = {}, MSLL = {}\".format(av_smse, av_msll))"
   ]
  }
 ],
 "metadata": {
  "kernelspec": {
   "display_name": "Python 3",
   "language": "python",
   "name": "python3"
  },
  "language_info": {
   "codemirror_mode": {
    "name": "ipython",
    "version": 3
   },
   "file_extension": ".py",
   "mimetype": "text/x-python",
   "name": "python",
   "nbconvert_exporter": "python",
   "pygments_lexer": "ipython3",
   "version": "3.5.1"
  }
 },
 "nbformat": 4,
 "nbformat_minor": 0
}
