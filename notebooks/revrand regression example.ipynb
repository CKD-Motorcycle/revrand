{
 "cells": [
  {
   "cell_type": "code",
   "execution_count": 52,
   "metadata": {
    "collapsed": false
   },
   "outputs": [],
   "source": [
    "import numpy as np\n",
    "from sklearn.datasets import load_boston\n",
    "from sklearn.cross_validation import KFold\n",
    "\n",
    "import revrand.basis_functions as bf\n",
    "from revrand.validation import smse, msll\n",
    "from revrand.regression import learn, predict\n",
    "from revrand.btypes import Parameter, Positive\n",
    "\n",
    "import revrand.legacygp as gp\n",
    "import revrand.legacygp.kernels as kern\n"
   ]
  },
  {
   "cell_type": "code",
   "execution_count": 53,
   "metadata": {
    "collapsed": false
   },
   "outputs": [],
   "source": [
    "# Load the data\n",
    "boston = load_boston()\n",
    "X = boston.data\n",
    "y = boston.target - boston.target.mean()\n",
    "\n",
    "N, D = X.shape\n",
    "lenscale = 1000"
   ]
  },
  {
   "cell_type": "code",
   "execution_count": 54,
   "metadata": {
    "collapsed": false
   },
   "outputs": [],
   "source": [
    "# Construct basis functions\n",
    "base = bf.RandomRBF(Xdim=D, nbases=50, lenscale_init=Parameter(lenscale*np.ones(D), Positive())) \\\n",
    "    + bf.RandomRBF(Xdim=D, nbases=50, lenscale_init=Parameter(lenscale, Positive()))\n",
    "    "
   ]
  },
  {
   "cell_type": "code",
   "execution_count": 55,
   "metadata": {
    "collapsed": false
   },
   "outputs": [],
   "source": [
    "# Construct a GP kernel to compare to\n",
    "def kdef(h, k):\n",
    "    return (h(1e-5, 10., 0.5) * k(kern.gaussian, h(1e-5, 1e5, 1.)) +\n",
    "            k(kern.lognoise, h(-4, 1, 0)))\n"
   ]
  },
  {
   "cell_type": "code",
   "execution_count": 56,
   "metadata": {
    "collapsed": false
   },
   "outputs": [
    {
     "name": "stdout",
     "output_type": "stream",
     "text": [
      "      fun: 2232.1988450530002\n",
      " hess_inv: <3x3 LbfgsInvHessProduct with dtype=float64>\n",
      "      jac: array([ -90.04779713,    0.        , -244.77531042])\n",
      "  message: b'CONVERGENCE: NORM_OF_PROJECTED_GRADIENT_<=_PGTOL'\n",
      "     nfev: 24\n",
      "      nit: 2\n",
      "   status: 0\n",
      "  success: True\n",
      "        x: (10.0, 1.0000000017384991e-05, 1.0)\n",
      "Fold: 0,\n",
      "\trevrand: SMSE = 0.14592126041401096, MSLL = -0.9885358286104551\n",
      "\tGP: SMSE = 1.001903054407219, MSLL = 1.001903054407219\n",
      "      fun: 1910.9313905185788\n",
      " hess_inv: <3x3 LbfgsInvHessProduct with dtype=float64>\n",
      "      jac: array([ -65.39462447,    0.        , -227.90029561])\n",
      "  message: b'CONVERGENCE: NORM_OF_PROJECTED_GRADIENT_<=_PGTOL'\n",
      "     nfev: 68\n",
      "      nit: 8\n",
      "   status: 0\n",
      "  success: True\n",
      "        x: (10.0, 8.832284762628452, 1.0)\n",
      "Fold: 1,\n",
      "\trevrand: SMSE = 0.3263870305004232, MSLL = -0.5093013267088291\n",
      "\tGP: SMSE = 0.4522816620168146, MSLL = 0.4522816620168146\n",
      "      fun: 1878.0812793312948\n",
      " hess_inv: <3x3 LbfgsInvHessProduct with dtype=float64>\n",
      "      jac: array([ -61.94136404,    0.        , -233.66364985])\n",
      "  message: b'CONVERGENCE: NORM_OF_PROJECTED_GRADIENT_<=_PGTOL'\n",
      "     nfev: 60\n",
      "      nit: 7\n",
      "   status: 0\n",
      "  success: True\n",
      "        x: (10.0, 9.350337189606615, 1.0)\n",
      "Fold: 2,\n",
      "\trevrand: SMSE = 0.11154011139922408, MSLL = -1.0909438174128037\n",
      "\tGP: SMSE = 0.48183632937452076, MSLL = 0.48183632937452076\n",
      "      fun: 1893.4094999586148\n",
      " hess_inv: <3x3 LbfgsInvHessProduct with dtype=float64>\n",
      "      jac: array([ -61.23798357,    0.        , -261.76296615])\n",
      "  message: b'CONVERGENCE: NORM_OF_PROJECTED_GRADIENT_<=_PGTOL'\n",
      "     nfev: 84\n",
      "      nit: 8\n",
      "   status: 0\n",
      "  success: True\n",
      "        x: (10.0, 9.801782415437923, 1.0)\n",
      "Fold: 3,\n",
      "\trevrand: SMSE = 0.26757927890385624, MSLL = -0.4783940040540941\n",
      "\tGP: SMSE = 0.4669507675981146, MSLL = 0.4669507675981146\n",
      "      fun: 2142.9006523157473\n",
      " hess_inv: <3x3 LbfgsInvHessProduct with dtype=float64>\n",
      "      jac: array([ -82.81504051,    0.        , -225.11462703])\n",
      "  message: b'CONVERGENCE: NORM_OF_PROJECTED_GRADIENT_<=_PGTOL'\n",
      "     nfev: 24\n",
      "      nit: 2\n",
      "   status: 0\n",
      "  success: True\n",
      "        x: (10.0, 1.0000000003174137e-05, 1.0)\n",
      "Fold: 4,\n",
      "\trevrand: SMSE = 0.08745737046017343, MSLL = -1.3094359853873956\n",
      "\tGP: SMSE = 1.000013176475346, MSLL = 1.000013176475346\n"
     ]
    }
   ],
   "source": [
    "# Cross val\n",
    "folds = 5\n",
    "av_smse, av_msll = 0., 0.\n",
    "av_smse_gp, av_msll_gp = 0., 0\n",
    "\n",
    "for i, (tr_ind, ts_ind) in enumerate(KFold(len(y), n_folds=folds, shuffle=True)):\n",
    "    \n",
    "    # Training\n",
    "    params = learn(X[tr_ind], y[tr_ind], base)\n",
    "     \n",
    "    hyper_params = gp.learn(X[tr_ind], y[tr_ind], kdef, verbose=False, ftol=1e-15)\n",
    "    regressor = gp.condition(X[tr_ind], y[tr_ind], kdef, hyper_params)\n",
    "    \n",
    "    # Prediction\n",
    "    Ey, Vf, Vy = predict(X[ts_ind], base, *params)\n",
    "    \n",
    "    query = gp.query(regressor, X[ts_ind])\n",
    "    Ey_gp = gp.mean(query)\n",
    "    Vy_gp = gp.variance(query, noise=True)\n",
    "\n",
    "    \n",
    "    # Validation\n",
    "    f_smse, f_msll = smse(y[ts_ind], Ey), msll(y[ts_ind], Ey, Vy, y[tr_ind])\n",
    "    f_smse_gp, f_msll_gp = smse(y[ts_ind], Ey_gp), msll(y[ts_ind], Ey_gp, Vy_gp, y[tr_ind])\n",
    "\n",
    "    av_smse += f_smse\n",
    "    av_msll += f_msll\n",
    "    av_smse_gp += f_smse_gp\n",
    "    av_msll_gp += f_msll_gp\n",
    "    \n",
    "    print(\"Fold: {},\\n\\trevrand: SMSE = {}, MSLL = {}\"\n",
    "          \"\\n\\tGP: SMSE = {}, MSLL = {}\"\n",
    "          .format(i, f_smse, f_msll, f_smse_gp, f_smse_gp))\n",
    "    \n",
    "av_smse /= folds\n",
    "av_msll /= folds\n",
    "av_smse_gp /= folds\n",
    "av_msll_gp /= folds"
   ]
  },
  {
   "cell_type": "code",
   "execution_count": 57,
   "metadata": {
    "collapsed": false
   },
   "outputs": [
    {
     "name": "stdout",
     "output_type": "stream",
     "text": [
      "Final:\n",
      "\trevrand: SMSE = 0.18777701033553756, MSLL = -0.8753221924347155\n",
      "\tGP: SMSE = 0.680596997974403, MSLL = 1.151122070110981\n"
     ]
    }
   ],
   "source": [
    "# Print results\n",
    "print(\"Final:\\n\\trevrand: SMSE = {}, MSLL = {}\"\n",
    "      \"\\n\\tGP: SMSE = {}, MSLL = {}\"\n",
    "      .format(av_smse, av_msll, av_smse_gp, av_msll_gp))\n"
   ]
  },
  {
   "cell_type": "code",
   "execution_count": null,
   "metadata": {
    "collapsed": true
   },
   "outputs": [],
   "source": []
  }
 ],
 "metadata": {
  "kernelspec": {
   "display_name": "Python 3",
   "language": "python",
   "name": "python3"
  },
  "language_info": {
   "codemirror_mode": {
    "name": "ipython",
    "version": 3
   },
   "file_extension": ".py",
   "mimetype": "text/x-python",
   "name": "python",
   "nbconvert_exporter": "python",
   "pygments_lexer": "ipython3",
   "version": "3.5.1"
  }
 },
 "nbformat": 4,
 "nbformat_minor": 0
}
