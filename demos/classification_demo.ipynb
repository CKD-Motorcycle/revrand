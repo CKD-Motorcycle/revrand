{
 "cells": [
  {
   "cell_type": "markdown",
   "metadata": {},
   "source": [
    "\n",
    "# Using the GLM for Classification\n",
    "In this notebook we test the GLM for binary classification on the USPS handwritten digits dataset. We compare to select models in scikit learn too."
   ]
  },
  {
   "cell_type": "code",
   "execution_count": 1,
   "metadata": {
    "collapsed": false
   },
   "outputs": [],
   "source": [
    "%matplotlib inline\n",
    "import logging\n",
    "import numpy as np\n",
    "from scipy.stats import gamma\n",
    "import matplotlib.pyplot as pl\n",
    "pl.style.use('ggplot')\n",
    "from sklearn.linear_model import LogisticRegression\n",
    "from sklearn.svm import SVC\n",
    "from sklearn.gaussian_process import GaussianProcessClassifier\n",
    "from sklearn.gaussian_process.kernels import RBF, WhiteKernel\n",
    "from sklearn.metrics import log_loss, accuracy_score\n",
    "from sklearn.model_selection import GridSearchCV\n",
    "from sklearn.ensemble import RandomForestClassifier\n",
    "\n",
    "from revrand import GeneralizedLinearModel, Parameter, Positive\n",
    "from revrand.utils.datasets import fetch_gpml_usps_resampled_data\n",
    "from revrand.basis_functions import RandomRBF\n",
    "from revrand.likelihoods import Bernoulli\n",
    "from revrand.optimize import AdaDelta, Adam\n",
    "\n",
    "# Log output to the terminal attached to this notebook\n",
    "logging.basicConfig(level=logging.INFO)"
   ]
  },
  {
   "cell_type": "markdown",
   "metadata": {},
   "source": [
    "### Settings"
   ]
  },
  {
   "cell_type": "code",
   "execution_count": 2,
   "metadata": {
    "collapsed": false
   },
   "outputs": [],
   "source": [
    "# Which digits to classify\n",
    "dig1 = 3\n",
    "dig2 = 5\n",
    "\n",
    "# Algorith settings\n",
    "nbases = 800\n",
    "lenscale = gamma(1, scale=6.)\n",
    "random_state = 150\n",
    "nsamples = 50\n",
    "maxiter = 10000\n",
    "updater = Adam(epsilon=1e-8)\n",
    "\n",
    "# Bounded variables\n",
    "lenscale_init = Parameter(lenscale, Positive())\n",
    "\n",
    "# Feature Transform\n",
    "basis = RandomRBF(nbases, 256, lenscale=lenscale_init, random_state=random_state)\n",
    "\n",
    "# SVR settings\n",
    "svc_params = {\n",
    "    'gamma': np.logspace(-1, 2, 10),\n",
    "    'C': np.linspace(0.1, 10, 5)\n",
    "}\n",
    "\n",
    "# Gaussian Process settings\n",
    "n_restarts = 10\n",
    "kernel = 1**2 * RBF(length_scale=lenscale.mean(), length_scale_bounds=(1e-2, 1e2)) + WhiteKernel()"
   ]
  },
  {
   "cell_type": "markdown",
   "metadata": {},
   "source": [
    "### Get and load data"
   ]
  },
  {
   "cell_type": "code",
   "execution_count": 3,
   "metadata": {
    "collapsed": false
   },
   "outputs": [],
   "source": [
    "# Fetch/load\n",
    "usps_resampled = fetch_gpml_usps_resampled_data()\n",
    "\n",
    "# Training dataset\n",
    "ind_fals = usps_resampled.train.targets == dig1\n",
    "ind_true = usps_resampled.train.targets == dig2\n",
    "ind_all = np.logical_or(ind_fals, ind_true) \n",
    "\n",
    "X = usps_resampled.train.data[ind_all]\n",
    "Y = (usps_resampled.train.targets[ind_all] == dig2).astype(float)\n",
    "\n",
    "# Test dataset\n",
    "ind_fals = usps_resampled.test.targets == dig1\n",
    "ind_true = usps_resampled.test.targets == dig2\n",
    "ind_all = np.logical_or(ind_fals, ind_true) \n",
    "\n",
    "Xs = usps_resampled.test.data[ind_all]\n",
    "Ys = (usps_resampled.test.targets[ind_all] == dig2).astype(float)\n"
   ]
  },
  {
   "cell_type": "markdown",
   "metadata": {},
   "source": [
    "### Classify using *revrand*"
   ]
  },
  {
   "cell_type": "code",
   "execution_count": 4,
   "metadata": {
    "collapsed": false
   },
   "outputs": [
    {
     "name": "stderr",
     "output_type": "stream",
     "text": [
      "INFO:revrand.glm:Optimising parameters...\n",
      "INFO:revrand.optimize.decorators:Evaluating random starts...\n",
      "INFO:revrand.glm:Random starts: Iter -500: ELBO = -5656.793211685731, reg = 0.253406216378982, like_hypers = [], basis_hypers = 7.295168991387261\n",
      "INFO:revrand.optimize.decorators:Best start found with objective = 1615.2967163964163\n",
      "INFO:revrand.glm:Iter 0: ELBO = -1767.987652533809, reg = 2.2810477010071613, like_hypers = [], basis_hypers = 6.25412680989254\n",
      "INFO:revrand.glm:Iter 500: ELBO = -499.0590802366584, reg = 3.5565383048981993, like_hypers = [], basis_hypers = 4.778698299921703\n",
      "INFO:revrand.glm:Iter 1000: ELBO = -515.209497150816, reg = 4.406957974022703, like_hypers = [], basis_hypers = 4.569620764563347\n",
      "INFO:revrand.glm:Iter 1500: ELBO = -409.28094979085705, reg = 5.039283430995326, like_hypers = [], basis_hypers = 4.613621946779851\n",
      "INFO:revrand.glm:Iter 2000: ELBO = -445.357983449804, reg = 5.582208540765181, like_hypers = [], basis_hypers = 4.808277678337811\n",
      "INFO:revrand.glm:Iter 2500: ELBO = -421.00940104717785, reg = 5.98938432997258, like_hypers = [], basis_hypers = 4.754803526716088\n",
      "INFO:revrand.glm:Iter 3000: ELBO = -401.9144215460573, reg = 6.386663430860647, like_hypers = [], basis_hypers = 4.780127859587692\n",
      "INFO:revrand.glm:Iter 3500: ELBO = -466.740884498409, reg = 6.652956853287503, like_hypers = [], basis_hypers = 4.947203275231476\n",
      "INFO:revrand.glm:Iter 4000: ELBO = -445.61606951961704, reg = 6.923781257016669, like_hypers = [], basis_hypers = 4.5869318258718375\n",
      "INFO:revrand.glm:Iter 4500: ELBO = -436.4063205669755, reg = 7.157824775332062, like_hypers = [], basis_hypers = 5.158434255067629\n",
      "INFO:revrand.glm:Iter 5000: ELBO = -448.56370108044405, reg = 7.290201289514519, like_hypers = [], basis_hypers = 4.757076130678274\n",
      "INFO:revrand.glm:Iter 5500: ELBO = -420.51595975594364, reg = 7.428074004368439, like_hypers = [], basis_hypers = 4.697369789614059\n",
      "INFO:revrand.glm:Iter 6000: ELBO = -404.282584066576, reg = 7.575276334583827, like_hypers = [], basis_hypers = 4.794932989968227\n",
      "INFO:revrand.glm:Iter 6500: ELBO = -441.1982688297304, reg = 7.663948191015947, like_hypers = [], basis_hypers = 4.71595527055678\n",
      "INFO:revrand.glm:Iter 7000: ELBO = -404.518826093686, reg = 7.759813651988363, like_hypers = [], basis_hypers = 4.82248887513812\n",
      "INFO:revrand.glm:Iter 7500: ELBO = -379.2834821978814, reg = 7.865463399879842, like_hypers = [], basis_hypers = 4.688107565288598\n",
      "INFO:revrand.glm:Iter 8000: ELBO = -398.7435483353421, reg = 7.923530546021679, like_hypers = [], basis_hypers = 4.349173725330818\n",
      "INFO:revrand.glm:Iter 8500: ELBO = -552.4936170653793, reg = 7.984965242063296, like_hypers = [], basis_hypers = 4.705995626001421\n",
      "INFO:revrand.glm:Iter 9000: ELBO = -463.24557726709435, reg = 8.017223142478667, like_hypers = [], basis_hypers = 4.944896410580306\n",
      "INFO:revrand.glm:Iter 9500: ELBO = -452.1602750977797, reg = 8.095423703572214, like_hypers = [], basis_hypers = 4.583834763557641\n",
      "INFO:revrand.glm:Iter 9999: ELBO = -405.4033872818201, reg = 8.112221131107157, like_hypers = [], basis_hypers = 4.739208243495937\n",
      "INFO:revrand.glm:Finished! reg = 8.116604513970342, likelihood_hypers = [], basis_hypers = 4.731641353183766, message: maxiter reached.\n"
     ]
    }
   ],
   "source": [
    "llhood = Bernoulli()\n",
    "glm = GeneralizedLinearModel(llhood,\n",
    "                             basis,\n",
    "                             random_state=random_state,\n",
    "                             maxiter=maxiter,\n",
    "                             nsamples=nsamples,\n",
    "                             updater=updater\n",
    "                             )\n",
    "glm.fit(X, Y)\n",
    "\n",
    "# Predict\n",
    "pys_l = glm.predict(Xs)\n",
    "pys_l = np.vstack((1 - pys_l, pys_l)).T\n",
    "Eys_l = pys_l[:, 0] > 0.5"
   ]
  },
  {
   "cell_type": "markdown",
   "metadata": {},
   "source": [
    "### Classify using *Scikit Learn* Logistic regression with bases"
   ]
  },
  {
   "cell_type": "code",
   "execution_count": 5,
   "metadata": {
    "collapsed": false
   },
   "outputs": [],
   "source": [
    "lreg = LogisticRegression(penalty='l2', class_weight='balanced')\n",
    "lreg.fit(basis.transform(X, lenscale.mean()), Y)\n",
    "\n",
    "pys_r = lreg.predict_proba(basis.transform(Xs, lenscale.mean()))\n",
    "Eys_r = 1 - lreg.predict(basis.transform(Xs, lenscale.mean()))"
   ]
  },
  {
   "cell_type": "markdown",
   "metadata": {},
   "source": [
    "### Classify using *Scikit Learn* SVC"
   ]
  },
  {
   "cell_type": "code",
   "execution_count": 6,
   "metadata": {
    "collapsed": false
   },
   "outputs": [],
   "source": [
    "svc = GridSearchCV(SVC(class_weight='balanced', probability=True), svc_params, n_jobs=-1)\n",
    "svc.fit(X, Y)\n",
    "\n",
    "pys_s = svc.predict_proba(Xs)\n",
    "Eys_s = 1 - svc.predict(Xs)"
   ]
  },
  {
   "cell_type": "markdown",
   "metadata": {},
   "source": [
    "### Classify using *Scikit Learn* GPC"
   ]
  },
  {
   "cell_type": "code",
   "execution_count": 7,
   "metadata": {
    "collapsed": false
   },
   "outputs": [],
   "source": [
    "gpc = GaussianProcessClassifier(kernel=kernel, n_restarts_optimizer=n_restarts)\n",
    "gpc.fit(X, Y)\n",
    "\n",
    "pys_g = gpc.predict_proba(Xs)\n",
    "Eys_g = 1 - gpc.predict(Xs)"
   ]
  },
  {
   "cell_type": "markdown",
   "metadata": {},
   "source": [
    "### Classify using *Scikit Learn* Random Forest"
   ]
  },
  {
   "cell_type": "code",
   "execution_count": 8,
   "metadata": {
    "collapsed": true
   },
   "outputs": [],
   "source": [
    "rfc = RandomForestClassifier(n_estimators=40, class_weight='balanced', random_state=random_state)\n",
    "rfc.fit(X, Y)\n",
    "\n",
    "pys_f = rfc.predict_proba(Xs)\n",
    "Eys_f = 1 - rfc.predict(Xs)"
   ]
  },
  {
   "cell_type": "markdown",
   "metadata": {},
   "source": [
    "### Score results"
   ]
  },
  {
   "cell_type": "code",
   "execution_count": 9,
   "metadata": {
    "collapsed": false
   },
   "outputs": [
    {
     "name": "stdout",
     "output_type": "stream",
     "text": [
      "GLM: av log loss = 0.1138, error rate = 0.0207\n",
      "Logistic: av log loss = 0.1734, error rate = 0.0362\n",
      "SVC: av log loss = 0.1008, error rate = 0.0699\n",
      "GPC: av log loss = 0.1405, error rate = 0.0259\n",
      "RFC: av log loss = 0.1368, error rate = 0.0272\n"
     ]
    }
   ],
   "source": [
    "def print_scores(alg_name, y_true, y_pred, y_prob):\n",
    "    print(\"{}: av log loss = {:.4f}, error rate = {:.4f}\"\n",
    "          .format(alg_name,\n",
    "                  log_loss(y_true, y_prob),\n",
    "                  accuracy_score(y_true, y_pred)\n",
    "                 )\n",
    "         )\n",
    "\n",
    "print_scores('GLM', Ys, Eys_l, pys_l)\n",
    "print_scores('Logistic', Ys, Eys_r, pys_r)\n",
    "print_scores('SVC', Ys, Eys_s, pys_s)\n",
    "print_scores('GPC', Ys, Eys_g, pys_g)\n",
    "print_scores('RFC', Ys, Eys_f, pys_f)"
   ]
  },
  {
   "cell_type": "markdown",
   "metadata": {
    "collapsed": true
   },
   "source": [
    "### Distribution of probabilistic outputs"
   ]
  },
  {
   "cell_type": "code",
   "execution_count": 10,
   "metadata": {
    "collapsed": false
   },
   "outputs": [
    {
     "data": {
      "image/png": "[encoded data removed]",
      "text/plain": [
       "<matplotlib.figure.Figure at 0x7fe667666518>"
      ]
     },
     "metadata": {},
     "output_type": "display_data"
    }
   ],
   "source": [
    "Ns = len(Xs)\n",
    "pl.figure(figsize=(15, 10))\n",
    "pl.hist([pys_l[:, 0], pys_r[:, 0]], 50, label=['GLM', 'logisitic'])\n",
    "pl.ylabel('Count')\n",
    "pl.xlabel('$p(y = 1)$')\n",
    "pl.title('Histogram of Prediction Probabilities')\n",
    "pl.legend()\n",
    "pl.show()\n"
   ]
  },
  {
   "cell_type": "code",
   "execution_count": null,
   "metadata": {
    "collapsed": true
   },
   "outputs": [],
   "source": []
  }
 ],
 "metadata": {
  "kernelspec": {
   "display_name": "Python 3",
   "language": "python",
   "name": "python3"
  },
  "language_info": {
   "codemirror_mode": {
    "name": "ipython",
    "version": 3
   },
   "file_extension": ".py",
   "mimetype": "text/x-python",
   "name": "python",
   "nbconvert_exporter": "python",
   "pygments_lexer": "ipython3",
   "version": "3.5.2"
  }
 },
 "nbformat": 4,
 "nbformat_minor": 0
}
