{
 "cells": [
  {
   "cell_type": "markdown",
   "metadata": {},
   "source": [
    "\n",
    "# Using the GLM for Classification\n",
    "In this notebook we test the GLM for binary classification on the USPS handwritten digits dataset. We compare to select models in scikit learn too."
   ]
  },
  {
   "cell_type": "code",
   "execution_count": 1,
   "metadata": {
    "collapsed": true
   },
   "outputs": [],
   "source": [
    "import logging\n",
    "import numpy as np\n",
    "from sklearn.linear_model import LogisticRegression\n",
    "from sklearn.metrics import log_loss, accuracy_score\n",
    "\n",
    "from revrand.utils.datasets import fetch_gpml_usps_resampled_data\n",
    "from revrand import GeneralisedLinearModel\n",
    "from revrand.btypes import Parameter, Positive\n",
    "from revrand.basis_functions import RandomMatern52, BiasBasis, LinearBasis\n",
    "from revrand.likelihoods import Bernoulli\n",
    "from revrand.optimize import AdaDelta\n",
    "\n",
    "# Log output to the terminal attached to this notebook\n",
    "import logging\n",
    "logger = logging.getLogger()\n",
    "logger.setLevel(logging.DEBUG)\n"
   ]
  },
  {
   "cell_type": "markdown",
   "metadata": {},
   "source": [
    "### Settings"
   ]
  },
  {
   "cell_type": "code",
   "execution_count": 2,
   "metadata": {
    "collapsed": false
   },
   "outputs": [],
   "source": [
    "# Which digits to classify\n",
    "dig1 = 3\n",
    "dig2 = 5\n",
    "\n",
    "# Algorith settings\n",
    "nbases = 50\n",
    "lenscale = 1\n",
    "regulariser = 10.\n",
    "maxiter = 3000\n",
    "batch_size = 10\n",
    "updater = AdaDelta()\n",
    "\n",
    "# Feature Transform\n",
    "lenscale_init = Parameter(lenscale, Positive())\n",
    "basis = RandomMatern52(nbases, 256, lenscale_init=lenscale_init) \\\n",
    "    + LinearBasis(onescol=True)\n"
   ]
  },
  {
   "cell_type": "markdown",
   "metadata": {},
   "source": [
    "### Get and load data"
   ]
  },
  {
   "cell_type": "code",
   "execution_count": 3,
   "metadata": {
    "collapsed": false
   },
   "outputs": [],
   "source": [
    "# Fetch/load\n",
    "usps_resampled = fetch_gpml_usps_resampled_data()\n",
    "\n",
    "# Training dataset\n",
    "ind_fals = usps_resampled.train.targets == dig1\n",
    "ind_true = usps_resampled.train.targets == dig2\n",
    "ind_all = np.logical_or(ind_fals, ind_true) \n",
    "\n",
    "X = usps_resampled.train.data[ind_all]\n",
    "Y = (usps_resampled.train.targets[ind_all] == dig2).astype(float)\n",
    "\n",
    "# Test dataset\n",
    "ind_fals = usps_resampled.test.targets == dig1\n",
    "ind_true = usps_resampled.test.targets == dig2\n",
    "ind_all = np.logical_or(ind_fals, ind_true) \n",
    "\n",
    "Xs = usps_resampled.test.data[ind_all]\n",
    "Ys = (usps_resampled.test.targets[ind_all] == dig2).astype(float)\n"
   ]
  },
  {
   "cell_type": "markdown",
   "metadata": {},
   "source": [
    "### Classify using *revrand*"
   ]
  },
  {
   "cell_type": "code",
   "execution_count": 4,
   "metadata": {
    "collapsed": false
   },
   "outputs": [],
   "source": [
    "llhood = Bernoulli()\n",
    "regulariser_init = Parameter(regulariser, Positive())\n",
    "glm = GeneralisedLinearModel(llhood,\n",
    "                             basis,\n",
    "                             regulariser=regulariser_init,\n",
    "                             maxiter=maxiter,\n",
    "                             batch_size=batch_size,\n",
    "                             updater=updater\n",
    "                            )\n",
    "glm.fit(X, Y)\n",
    "\n",
    "# Predict\n",
    "pys_l = glm.predict(Xs)\n",
    "pys_l = np.vstack((1 - pys_l, pys_l)).T\n",
    "Eys_l = pys_l[:, 0] > 0.5\n"
   ]
  },
  {
   "cell_type": "markdown",
   "metadata": {},
   "source": [
    "### Classify using *Scikit Learn*"
   ]
  },
  {
   "cell_type": "code",
   "execution_count": 5,
   "metadata": {
    "collapsed": false
   },
   "outputs": [],
   "source": [
    "lreg = LogisticRegression(penalty='l2', class_weight='balanced')\n",
    "lreg.fit(basis.transform(X, lenscale), Y)\n",
    "pys_r = lreg.predict_proba(basis.transform(Xs, lenscale))\n",
    "Eys_r = 1 - lreg.predict(basis.transform(Xs, lenscale))\n"
   ]
  },
  {
   "cell_type": "markdown",
   "metadata": {},
   "source": [
    "### Score results"
   ]
  },
  {
   "cell_type": "code",
   "execution_count": 6,
   "metadata": {
    "collapsed": false
   },
   "outputs": [
    {
     "name": "stdout",
     "output_type": "stream",
     "text": [
      "GLM: av log loss = 0.156631, error rate = 0.037516\n",
      "Logistic Scikit: av log loss = 0.119944, error rate = 0.038810\n"
     ]
    }
   ],
   "source": [
    "print(\"GLM: av log loss = {:.6f}, error rate = {:.6f}\"\n",
    "      .format(log_loss(Ys, pys_l), accuracy_score(Ys, Eys_l)))\n",
    "\n",
    "print(\"Logistic Scikit: av log loss = {:.6f}, error rate = {:.6f}\"\n",
    "      .format(log_loss(Ys, pys_r), accuracy_score(Ys, Eys_r)))\n"
   ]
  },
  {
   "cell_type": "code",
   "execution_count": null,
   "metadata": {
    "collapsed": true
   },
   "outputs": [],
   "source": []
  }
 ],
 "metadata": {
  "kernelspec": {
   "display_name": "Python 3",
   "language": "python",
   "name": "python3"
  },
  "language_info": {
   "codemirror_mode": {
    "name": "ipython",
    "version": 3
   },
   "file_extension": ".py",
   "mimetype": "text/x-python",
   "name": "python",
   "nbconvert_exporter": "python",
   "pygments_lexer": "ipython3",
   "version": "3.5.2"
  }
 },
 "nbformat": 4,
 "nbformat_minor": 0
}
