{
 "cells": [
  {
   "cell_type": "markdown",
   "metadata": {},
   "source": [
    "# Mixture gradient experiments"
   ]
  },
  {
   "cell_type": "code",
   "execution_count": 2,
   "metadata": {
    "collapsed": true
   },
   "outputs": [],
   "source": [
    "%matplotlib inline\n",
    "import numpy as np\n",
    "import matplotlib.pyplot as pl\n",
    "from scipy.misc import derivative\n",
    "from scipy.stats import norm\n"
   ]
  },
  {
   "cell_type": "code",
   "execution_count": 50,
   "metadata": {
    "collapsed": false
   },
   "outputs": [],
   "source": [
    "normjk = lambda mk, mj, Sk, Sj: norm.pdf(mk, loc=mj, scale=np.sqrt(Sk + Sj))\n",
    "normk = lambda k, m, S: np.sum([normjk(m[k], mj, S[k], Sj) for mj, Sj in zip(m, S)])\n",
    "    \n",
    "def EntropyLB(m, S):\n",
    "\n",
    "    K = len(m)\n",
    "    H = np.sum([np.log(normk(k, m, S) / K) for k in range(K)]) / K\n",
    "    return H\n"
   ]
  },
  {
   "cell_type": "code",
   "execution_count": 57,
   "metadata": {
    "collapsed": false
   },
   "outputs": [],
   "source": [
    "m = np.array([0., 1., 2., -1., -2.])\n",
    "S = np.ones(5)\n",
    "\n",
    "\n",
    "def EntropLB0(m0):\n",
    "    \n",
    "    mt = m.copy()\n",
    "    mt[0] = m0\n",
    "    return EntropyLB(mt, S)\n",
    "\n",
    "\n",
    "def dEntropLB0(m0):\n",
    "    \n",
    "    K = len(m)\n",
    "    \n",
    "    dm0 = 0\n",
    "    for l in range(K):\n",
    "        dnorm = (m[0] - m[l]) / (S[0] + S[l])\n",
    "        norm0l = normjk(m[0], m[l], S[0], S[l])\n",
    "        z0 = normk(0, m, S)\n",
    "        zl = normk(l, m, S)\n",
    "        dm0 += (norm0l / z0 + norm0l / zl) * dnorm / K\n",
    "    \n",
    "    return dm0 / K\n"
   ]
  },
  {
   "cell_type": "code",
   "execution_count": 58,
   "metadata": {
    "collapsed": false
   },
   "outputs": [],
   "source": [
    "m0 = np.linspace(-10, 10, 100)\n",
    "H = [EntropLB0(m0i) for m0i in m0]\n",
    "dm0_num = [derivative(EntropLB0, m0i) for m0i in m0]\n",
    "dm0_ana = [dEntropLB0(m0i) for m0i in m0]\n"
   ]
  },
  {
   "cell_type": "code",
   "execution_count": 60,
   "metadata": {
    "collapsed": false
   },
   "outputs": [
    {
     "data": {
      "image/png": "[encoded data removed]",
      "text/plain": [
       "<matplotlib.figure.Figure at 0x7ff99746cc88>"
      ]
     },
     "metadata": {},
     "output_type": "display_data"
    }
   ],
   "source": [
    "pl.figure(figsize=(15, 10))\n",
    "pl.plot(m0, H, 'r', label='Entropy')\n",
    "pl.plot(m0, dm0, 'b', linewidth=2, alpha=0.5, label='dH/dm Numerical')\n",
    "pl.plot(m0, dm0, 'g--', label='dH/dm Analytical')\n",
    "pl.show()\n"
   ]
  },
  {
   "cell_type": "code",
   "execution_count": null,
   "metadata": {
    "collapsed": true
   },
   "outputs": [],
   "source": []
  }
 ],
 "metadata": {
  "kernelspec": {
   "display_name": "Python 3",
   "language": "python",
   "name": "python3"
  },
  "language_info": {
   "codemirror_mode": {
    "name": "ipython",
    "version": 3
   },
   "file_extension": ".py",
   "mimetype": "text/x-python",
   "name": "python",
   "nbconvert_exporter": "python",
   "pygments_lexer": "ipython3",
   "version": "3.5.2"
  }
 },
 "nbformat": 4,
 "nbformat_minor": 0
}
