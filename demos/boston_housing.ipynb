{
 "cells": [
  {
   "cell_type": "markdown",
   "metadata": {},
   "source": [
    "Boston Housing Dataset Test\n",
    "===========================\n",
    "\n",
    "In this notebook we test revrand's ARD basis functions on the Boston housing dataset."
   ]
  },
  {
   "cell_type": "code",
   "execution_count": 27,
   "metadata": {
    "collapsed": false
   },
   "outputs": [],
   "source": [
    "import numpy as np\n",
    "from scipy.stats import gamma\n",
    "\n",
    "from sklearn.datasets import load_boston\n",
    "from sklearn.model_selection import KFold\n",
    "from sklearn.metrics import r2_score\n",
    "\n",
    "from revrand import StandardLinearModel\n",
    "import revrand.basis_functions as bf\n",
    "from revrand.metrics import smse, msll\n",
    "from revrand.btypes import Parameter, Positive, Bound\n",
    "\n",
    "# Log output to the terminal attached to this notebook\n",
    "import logging\n",
    "logger = logging.getLogger()\n",
    "logger.setLevel(logging.DEBUG)\n",
    "logging.debug(\"test\")\n"
   ]
  },
  {
   "cell_type": "code",
   "execution_count": 28,
   "metadata": {
    "collapsed": false
   },
   "outputs": [],
   "source": [
    "# Load the data\n",
    "boston = load_boston()\n",
    "X = boston.data\n",
    "y = boston.target - boston.target.mean()\n",
    "\n",
    "N, D = X.shape\n",
    "#lenscale = 10.\n",
    "nbases = 50\n",
    "#lenARD = lenscale * np.ones(D)\n",
    "lenARD = gamma(10, scale=10)"
   ]
  },
  {
   "cell_type": "code",
   "execution_count": 29,
   "metadata": {
    "collapsed": false
   },
   "outputs": [],
   "source": [
    "# Construct basis functions\n",
    "base = bf.RandomMatern32(Xdim=D, nbases=nbases, lenscale_init=Parameter(lenARD, Positive(), shape=(D,))) + \\\n",
    "    bf.LinearBasis(onescol=True)\n",
    "#base = bf.spectralmixture(Xdim=D, bases_per_component=5, lenscales_init=[Parameter(l, Positive()) for l in lenARD]) + \\\n",
    "#    bf.LinearBasis(onescol=True)\n",
    "#base = bf.SigmoidalBasis(centres=X[np.random.choice(N, 10), :], lenscale_init=Parameter(lenARD, Positive())) + \\\n",
    "#    bf.LinearBasis(onescol=True)\n",
    "#base = bf.FastFoodRBF(Xdim=D, nbases=nbases, lenscale_init=Parameter(lenARD, Positive())) + \\\n",
    "#    bf.LinearBasis(onescol=True)\n",
    "    "
   ]
  },
  {
   "cell_type": "code",
   "execution_count": 30,
   "metadata": {
    "collapsed": false
   },
   "outputs": [
    {
     "name": "stdout",
     "output_type": "stream",
     "text": [
      "Fold: 0,\n",
      "\trevrand: R2 = 0.8608783901477889, SMSE = 0.13912160985221111, MSLL = -1.0140701459227046\n",
      "Fold: 1,\n",
      "\trevrand: R2 = 0.8176721928802634, SMSE = 0.1823278071197366, MSLL = -0.7045919191670094\n",
      "Fold: 2,\n",
      "\trevrand: R2 = 0.7996052319718943, SMSE = 0.20039476802810569, MSLL = -0.8477514975629168\n",
      "Fold: 3,\n",
      "\trevrand: R2 = 0.7503681542012091, SMSE = 0.24963184579879094, MSLL = -0.6804532620037262\n",
      "Fold: 4,\n",
      "\trevrand: R2 = 0.8871939915252015, SMSE = 0.11280600847479845, MSLL = -1.142316310425567\n"
     ]
    }
   ],
   "source": [
    "# Cross val\n",
    "folds = 5\n",
    "av_smse, av_msll, av_r2 = 0., 0., 0.\n",
    "\n",
    "slm = StandardLinearModel(base)\n",
    "foldgen = KFold(n_splits=folds, shuffle=True)\n",
    "\n",
    "for i, (tr_ind, ts_ind) in enumerate(foldgen.split(X)):\n",
    "    \n",
    "    # Training\n",
    "    slm.fit(X[tr_ind], y[tr_ind])\n",
    "    \n",
    "    # Prediction\n",
    "    Ey, Vy = slm.predict_moments(X[ts_ind])\n",
    "\n",
    "    # Validation\n",
    "    f_smse = smse(y[ts_ind], Ey)\n",
    "    f_msll = msll(y[ts_ind], Ey, Vy, y[tr_ind])\n",
    "    f_r2 = r2_score(y[ts_ind], Ey)\n",
    "    \n",
    "    av_smse += f_smse\n",
    "    av_msll += f_msll\n",
    "    av_r2 += f_r2\n",
    "    \n",
    "    \n",
    "    print(\"Fold: {},\\n\\trevrand: R2 = {}, SMSE = {}, MSLL = {}\".format(i, f_r2, f_smse, f_msll))\n",
    "    \n",
    "av_smse /= folds\n",
    "av_msll /= folds\n",
    "av_r2 /= folds"
   ]
  },
  {
   "cell_type": "code",
   "execution_count": 31,
   "metadata": {
    "collapsed": false
   },
   "outputs": [
    {
     "name": "stdout",
     "output_type": "stream",
     "text": [
      "Final:\n",
      "\trevrand: R2 = 0.8231435921452714, SMSE = 0.1768564078547286, MSLL = -0.8778366270163849\n"
     ]
    }
   ],
   "source": [
    "# Print results\n",
    "print(\"Final:\\n\\trevrand: R2 = {}, SMSE = {}, MSLL = {}\".format(av_r2, av_smse, av_msll))\n"
   ]
  },
  {
   "cell_type": "code",
   "execution_count": null,
   "metadata": {
    "collapsed": true
   },
   "outputs": [],
   "source": []
  }
 ],
 "metadata": {
  "kernelspec": {
   "display_name": "Python 3",
   "language": "python",
   "name": "python3"
  },
  "language_info": {
   "codemirror_mode": {
    "name": "ipython",
    "version": 3
   },
   "file_extension": ".py",
   "mimetype": "text/x-python",
   "name": "python",
   "nbconvert_exporter": "python",
   "pygments_lexer": "ipython3",
   "version": "3.5.2"
  }
 },
 "nbformat": 4,
 "nbformat_minor": 0
}
