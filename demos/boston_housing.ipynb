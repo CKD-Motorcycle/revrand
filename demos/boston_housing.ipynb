{
 "cells": [
  {
   "cell_type": "markdown",
   "metadata": {},
   "source": [
    "Boston Housing Dataset Test\n",
    "===========================\n",
    "\n",
    "In this notebook we test revrand's ARD basis functions on the Boston housing dataset."
   ]
  },
  {
   "cell_type": "code",
   "execution_count": 28,
   "metadata": {
    "collapsed": false
   },
   "outputs": [],
   "source": [
    "import numpy as np\n",
    "from sklearn.datasets import load_boston\n",
    "from sklearn.cross_validation import KFold\n",
    "from sklearn.metrics import r2_score\n",
    "\n",
    "from revrand import StandardLinearModel\n",
    "import revrand.basis_functions as bf\n",
    "from revrand.metrics import smse, msll\n",
    "from revrand.btypes import Parameter, Positive, Bound\n",
    "\n",
    "# Log output to the terminal attached to this notebook\n",
    "import logging\n",
    "logger = logging.getLogger()\n",
    "logger.setLevel(logging.DEBUG)\n",
    "logging.debug(\"test\")\n"
   ]
  },
  {
   "cell_type": "code",
   "execution_count": 29,
   "metadata": {
    "collapsed": false
   },
   "outputs": [],
   "source": [
    "# Load the data\n",
    "boston = load_boston()\n",
    "X = boston.data\n",
    "y = boston.target - boston.target.mean()\n",
    "\n",
    "N, D = X.shape\n",
    "lenscale = 10.\n",
    "nbases = 400\n",
    "lenARD = lenscale * np.ones(D)\n"
   ]
  },
  {
   "cell_type": "code",
   "execution_count": 30,
   "metadata": {
    "collapsed": false
   },
   "outputs": [],
   "source": [
    "# Construct basis functions\n",
    "base = bf.RandomMatern32(Xdim=D, nbases=nbases, lenscale_init=Parameter(lenARD, Positive())) + \\\n",
    "    bf.LinearBasis(onescol=True)\n",
    "#base = bf.spectralmixture(Xdim=D, bases_per_component=5, lenscales_init=[Parameter(l, Positive()) for l in lenARD]) + \\\n",
    "#    bf.LinearBasis(onescol=True)\n",
    "#base = bf.SigmoidalBasis(centres=X[np.random.choice(N, 10), :], lenscale_init=Parameter(lenARD, Positive())) + \\\n",
    "#    bf.LinearBasis(onescol=True)\n",
    "#base = bf.FastFoodRBF(Xdim=D, nbases=nbases, lenscale_init=Parameter(lenARD, Positive())) + \\\n",
    "#    bf.LinearBasis(onescol=True)\n",
    "    "
   ]
  },
  {
   "cell_type": "code",
   "execution_count": 31,
   "metadata": {
    "collapsed": false
   },
   "outputs": [
    {
     "name": "stdout",
     "output_type": "stream",
     "text": [
      "Fold: 0,\n",
      "\trevrand: R2 = 0.7903753490882924, SMSE = 0.2096246509117076, MSLL = -0.6111224653206332\n",
      "Fold: 1,\n",
      "\trevrand: R2 = 0.7794265338728856, SMSE = 0.2205734661271144, MSLL = -0.7396646691336631\n",
      "Fold: 2,\n",
      "\trevrand: R2 = 0.7868480723799158, SMSE = 0.21315192762008414, MSLL = -0.8065068397239648\n",
      "Fold: 3,\n",
      "\trevrand: R2 = 0.7011603786224245, SMSE = 0.29883962137757547, MSLL = -0.6924375737240718\n",
      "Fold: 4,\n",
      "\trevrand: R2 = 0.798786078102757, SMSE = 0.20121392189724296, MSLL = -0.8547457020584834\n"
     ]
    }
   ],
   "source": [
    "# Cross val\n",
    "folds = 5\n",
    "av_smse, av_msll, av_r2 = 0., 0., 0.\n",
    "\n",
    "slm = StandardLinearModel(base)\n",
    "\n",
    "for i, (tr_ind, ts_ind) in enumerate(KFold(len(y), n_folds=folds, shuffle=True)):\n",
    "    \n",
    "    # Training\n",
    "    slm.fit(X[tr_ind], y[tr_ind])\n",
    "    \n",
    "    # Prediction\n",
    "    Ey, Vy = slm.predict_moments(X[ts_ind])\n",
    "\n",
    "    # Validation\n",
    "    f_smse = smse(y[ts_ind], Ey)\n",
    "    f_msll = msll(y[ts_ind], Ey, Vy, y[tr_ind])\n",
    "    f_r2 = r2_score(y[ts_ind], Ey)\n",
    "    \n",
    "    av_smse += f_smse\n",
    "    av_msll += f_msll\n",
    "    av_r2 += f_r2\n",
    "    \n",
    "    \n",
    "    print(\"Fold: {},\\n\\trevrand: R2 = {}, SMSE = {}, MSLL = {}\".format(i, f_r2, f_smse, f_msll))\n",
    "    \n",
    "av_smse /= folds\n",
    "av_msll /= folds\n",
    "av_r2 /= folds"
   ]
  },
  {
   "cell_type": "code",
   "execution_count": 32,
   "metadata": {
    "collapsed": false
   },
   "outputs": [
    {
     "name": "stdout",
     "output_type": "stream",
     "text": [
      "Final:\n",
      "\trevrand: R2 = 0.771319282413255, SMSE = 0.2286807175867449, MSLL = -0.7408954499921633\n"
     ]
    }
   ],
   "source": [
    "# Print results\n",
    "print(\"Final:\\n\\trevrand: R2 = {}, SMSE = {}, MSLL = {}\".format(av_r2, av_smse, av_msll))\n"
   ]
  },
  {
   "cell_type": "code",
   "execution_count": null,
   "metadata": {
    "collapsed": true
   },
   "outputs": [],
   "source": []
  }
 ],
 "metadata": {
  "kernelspec": {
   "display_name": "Python 3",
   "language": "python",
   "name": "python3"
  },
  "language_info": {
   "codemirror_mode": {
    "name": "ipython",
    "version": 3
   },
   "file_extension": ".py",
   "mimetype": "text/x-python",
   "name": "python",
   "nbconvert_exporter": "python",
   "pygments_lexer": "ipython3",
   "version": "3.5.2"
  }
 },
 "nbformat": 4,
 "nbformat_minor": 0
}
