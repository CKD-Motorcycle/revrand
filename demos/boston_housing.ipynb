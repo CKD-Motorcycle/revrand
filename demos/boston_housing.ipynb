{
 "cells": [
  {
   "cell_type": "markdown",
   "metadata": {},
   "source": [
    "Boston Housing Dataset Test\n",
    "===========================\n",
    "\n",
    "In this notebook we test revrand's ARD basis functions on the Boston housing dataset."
   ]
  },
  {
   "cell_type": "code",
   "execution_count": 1,
   "metadata": {
    "collapsed": false
   },
   "outputs": [],
   "source": [
    "import numpy as np\n",
    "from sklearn.datasets import load_boston\n",
    "from sklearn.cross_validation import KFold\n",
    "\n",
    "from revrand import StandardLinearModel\n",
    "import revrand.basis_functions as bf\n",
    "from revrand.metrics import smse, msll\n",
    "from revrand.btypes import Parameter, Positive, Bound\n",
    "\n",
    "# Log output to the terminal attached to this notebook\n",
    "import logging\n",
    "logger = logging.getLogger()\n",
    "logger.setLevel(logging.DEBUG)\n",
    "logging.debug(\"test\")\n"
   ]
  },
  {
   "cell_type": "code",
   "execution_count": 2,
   "metadata": {
    "collapsed": false
   },
   "outputs": [],
   "source": [
    "# Load the data\n",
    "boston = load_boston()\n",
    "X = boston.data\n",
    "y = boston.target - boston.target.mean()\n",
    "\n",
    "N, D = X.shape\n",
    "lenscale = 10.\n",
    "nbases = 200\n",
    "lenARD = lenscale * np.ones(D)\n"
   ]
  },
  {
   "cell_type": "code",
   "execution_count": 3,
   "metadata": {
    "collapsed": false
   },
   "outputs": [],
   "source": [
    "# Construct basis functions\n",
    "base = bf.RandomMatern32(Xdim=D, nbases=nbases, lenscale_init=Parameter(lenARD, Positive())) + \\\n",
    "    bf.LinearBasis(onescol=True)\n",
    "#base = bf.spectralmixture(Xdim=D, bases_per_component=5, lenscales_init=[Parameter(l, Positive()) for l in lenARD]) + \\\n",
    "#    bf.LinearBasis(onescol=True)\n",
    "#base = bf.SigmoidalBasis(centres=X[np.random.choice(N, 10), :], lenscale_init=Parameter(lenARD, Positive())) + \\\n",
    "#    bf.LinearBasis(onescol=True)\n",
    "#base = bf.FastFoodRBF(Xdim=D, nbases=nbases, lenscale_init=Parameter(lenARD, Positive())) + \\\n",
    "#    bf.LinearBasis(onescol=True)\n",
    "    "
   ]
  },
  {
   "cell_type": "code",
   "execution_count": 4,
   "metadata": {
    "collapsed": false
   },
   "outputs": [
    {
     "name": "stdout",
     "output_type": "stream",
     "text": [
      "Fold: 0,\n",
      "\trevrand: SMSE = 0.19151829247906846, MSLL = -0.8444097880080966\n",
      "Fold: 1,\n",
      "\trevrand: SMSE = 0.2539768410760672, MSLL = -0.7052400360824306\n",
      "Fold: 2,\n",
      "\trevrand: SMSE = 0.25730056361000564, MSLL = -0.717408313130109\n",
      "Fold: 3,\n",
      "\trevrand: SMSE = 0.2624221337658452, MSLL = -0.1807631527854384\n",
      "Fold: 4,\n",
      "\trevrand: SMSE = 0.2034590580297917, MSLL = -0.835076876944985\n"
     ]
    }
   ],
   "source": [
    "# Cross val\n",
    "folds = 5\n",
    "av_smse, av_msll = 0., 0.\n",
    "av_smse_gp, av_msll_gp = 0., 0\n",
    "\n",
    "slm = StandardLinearModel(base)\n",
    "\n",
    "for i, (tr_ind, ts_ind) in enumerate(KFold(len(y), n_folds=folds, shuffle=True)):\n",
    "    \n",
    "    # Training\n",
    "    slm.fit(X[tr_ind], y[tr_ind])\n",
    "    \n",
    "    # Prediction\n",
    "    Ey, Vf, Vy = slm.predict_moments(X[ts_ind])\n",
    "\n",
    "    # Validation\n",
    "    f_smse, f_msll = smse(y[ts_ind], Ey), msll(y[ts_ind], Ey, Vy, y[tr_ind])\n",
    "\n",
    "    av_smse += f_smse\n",
    "    av_msll += f_msll\n",
    "    \n",
    "    print(\"Fold: {},\\n\\trevrand: SMSE = {}, MSLL = {}\".format(i, f_smse, f_msll))\n",
    "    \n",
    "av_smse /= folds\n",
    "av_msll /= folds\n"
   ]
  },
  {
   "cell_type": "code",
   "execution_count": 5,
   "metadata": {
    "collapsed": false
   },
   "outputs": [
    {
     "name": "stdout",
     "output_type": "stream",
     "text": [
      "Final:\n",
      "\trevrand: SMSE = 0.23373537779215567, MSLL = -0.6565796333902119\n"
     ]
    }
   ],
   "source": [
    "# Print results\n",
    "print(\"Final:\\n\\trevrand: SMSE = {}, MSLL = {}\".format(av_smse, av_msll))\n"
   ]
  },
  {
   "cell_type": "code",
   "execution_count": null,
   "metadata": {
    "collapsed": true
   },
   "outputs": [],
   "source": []
  }
 ],
 "metadata": {
  "kernelspec": {
   "display_name": "Python 3",
   "language": "python",
   "name": "python3"
  },
  "language_info": {
   "codemirror_mode": {
    "name": "ipython",
    "version": 3
   },
   "file_extension": ".py",
   "mimetype": "text/x-python",
   "name": "python",
   "nbconvert_exporter": "python",
   "pygments_lexer": "ipython3",
   "version": "3.5.2"
  }
 },
 "nbformat": 4,
 "nbformat_minor": 0
}
