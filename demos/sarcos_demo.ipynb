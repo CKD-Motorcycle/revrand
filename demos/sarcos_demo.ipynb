{
 "cells": [
  {
   "cell_type": "markdown",
   "metadata": {},
   "source": [
    "# Comparison of *revrand*'s algorithms on the SARCOS dataset\n",
    "\n",
    "In this notebook we test how the GLM in *revrand* performs on the inverse dynamics experiment conducted in Gaussian Processes for Machine Learning, Chapter 8, page 182. In this experiment there are 21 dimensions, and 44,484 training examples. All GP's are using square exponential covariance functions, with a seperate lengthscale for each dimension."
   ]
  },
  {
   "cell_type": "code",
   "execution_count": 7,
   "metadata": {
    "collapsed": false
   },
   "outputs": [],
   "source": [
    "import logging\n",
    "import numpy as np\n",
    "from scipy.stats import gamma \n",
    "\n",
    "from sklearn.preprocessing import StandardScaler\n",
    "from sklearn.gaussian_process import GaussianProcessRegressor\n",
    "from sklearn.gaussian_process.kernels import WhiteKernel, RBF\n",
    "\n",
    "from revrand import GeneralizedLinearModel, Parameter, Positive\n",
    "from revrand.basis_functions import OrthogonalRBF\n",
    "from revrand.likelihoods import Gaussian\n",
    "from revrand.metrics import smse, msll\n",
    "from revrand.utils.datasets import fetch_gpml_sarcos_data\n",
    "from revrand.optimize import Adam, AdaDelta\n",
    "\n",
    "from plotting import fancy_yyplot\n",
    "import matplotlib.pyplot as pl\n",
    "%matplotlib inline\n",
    "\n",
    "logging.basicConfig(level=logging.INFO)"
   ]
  },
  {
   "cell_type": "markdown",
   "metadata": {},
   "source": [
    "### Settings"
   ]
  },
  {
   "cell_type": "code",
   "execution_count": 8,
   "metadata": {
    "collapsed": false
   },
   "outputs": [],
   "source": [
    "lenscale = gamma(2, scale=50)\n",
    "regularizer = gamma(2, scale=10)\n",
    "var = gamma(2, scale=50)\n",
    "nbases = 256\n",
    "random_state = 100\n",
    "nsamples = 10\n",
    "\n",
    "batch_size = 10\n",
    "#maxiter = int(1e6)\n",
    "maxiter = int(2e5)\n",
    "updater = Adam()\n",
    "\n",
    "doGP = False\n",
    "m = 1024\n",
    "n_restarts=1"
   ]
  },
  {
   "cell_type": "markdown",
   "metadata": {},
   "source": [
    "### Load the data"
   ]
  },
  {
   "cell_type": "code",
   "execution_count": 9,
   "metadata": {
    "collapsed": false
   },
   "outputs": [
    {
     "name": "stdout",
     "output_type": "stream",
     "text": [
      "Training data shape = (44484, 21)\n",
      "Testing data shape = (4449, 21)\n"
     ]
    }
   ],
   "source": [
    "gpml_sarcos = fetch_gpml_sarcos_data()\n",
    "\n",
    "X_train = gpml_sarcos.train.data\n",
    "y_train = gpml_sarcos.train.targets\n",
    "\n",
    "X_test = gpml_sarcos.test.data\n",
    "y_test = gpml_sarcos.test.targets\n",
    "\n",
    "Ntrain, D = X_train.shape\n",
    "\n",
    "print(\"Training data shape = {}\".format(X_train.shape))\n",
    "print(\"Testing data shape = {}\".format(X_test.shape))\n"
   ]
  },
  {
   "cell_type": "markdown",
   "metadata": {},
   "source": [
    "### Transform targets and inputs\n",
    "As per GPML p23"
   ]
  },
  {
   "cell_type": "code",
   "execution_count": 10,
   "metadata": {
    "collapsed": false
   },
   "outputs": [],
   "source": [
    "# Targets\n",
    "ymean = y_train.mean()\n",
    "y_train -= ymean\n",
    "y_test -= ymean\n",
    "\n",
    "# Inputs\n",
    "Xscaler = StandardScaler()\n",
    "Xscaler.fit(X_train)\n",
    "X_train = Xscaler.transform(X_train)\n",
    "X_test = Xscaler.transform(X_test)"
   ]
  },
  {
   "cell_type": "markdown",
   "metadata": {},
   "source": [
    "### Initialise the algorithms"
   ]
  },
  {
   "cell_type": "code",
   "execution_count": null,
   "metadata": {
    "collapsed": false
   },
   "outputs": [],
   "source": [
    "if not doGP:\n",
    "    lenscale_init = Parameter(lenscale, Positive(), shape=(D,))\n",
    "    var_init = Parameter(var, Positive())\n",
    "    regularizer_init = Parameter(regularizer, Positive())\n",
    "\n",
    "    base = OrthogonalRBF(nbases=nbases,\n",
    "                         Xdim=D,\n",
    "                         lenscale=lenscale_init,\n",
    "                         random_state=random_state,\n",
    "                         regularizer=regularizer_init\n",
    "                         )\n",
    "    llhood = Gaussian(var=var_init)\n",
    "\n",
    "    alg = GeneralizedLinearModel(llhood,\n",
    "                                 base,\n",
    "                                 updater=updater,\n",
    "                                 batch_size=batch_size,\n",
    "                                 maxiter=maxiter,\n",
    "                                 nsamples=nsamples,\n",
    "                                 random_state=random_state\n",
    "                                )\n",
    "else:\n",
    "    kern = 3**2 * RBF(length_scale=np.ones(D), length_scale_bounds=(1e-3, 1e7)) \\\n",
    "        + WhiteKernel(noise_level=1)\n",
    "    alg = GaussianProcessRegressor(kernel=kern, n_restarts_optimizer=n_restarts)"
   ]
  },
  {
   "cell_type": "markdown",
   "metadata": {},
   "source": [
    "### Train the algorithms"
   ]
  },
  {
   "cell_type": "code",
   "execution_count": null,
   "metadata": {
    "collapsed": false,
    "scrolled": true
   },
   "outputs": [
    {
     "name": "stderr",
     "output_type": "stream",
     "text": [
      "INFO:revrand.glm:Optimising parameters...\n",
      "INFO:revrand.optimize.decorators:Evaluating random starts...\n",
      "INFO:revrand.glm:Random starts: Iter -500: ELBO = -289545.04477265326, reg = 9.980620460674071, like_hypers = 170.06777231286802, basis_hypers = [  14.19876928   74.6792396   176.21044633  351.62225112   70.15981801\n",
      "  307.40350798   62.14054287  248.87801898   42.28770451   79.81240218\n",
      "  129.58761983  197.11652637   23.09789818   82.93217478   71.79684822\n",
      "   51.71420735  124.15671645   29.04110943  128.59201912  112.15952212\n",
      "  113.83099516]\n",
      "INFO:revrand.optimize.decorators:Best start found with objective = 152584.4062762729\n",
      "INFO:revrand.glm:Iter 0: ELBO = -301970.88600359304, reg = 7.088966359978286, like_hypers = 84.42554056146852, basis_hypers = [  90.29575854  230.81568867   30.03376273   77.09585798  193.12896031\n",
      "   36.72616076  126.32955839   89.47898565   99.61560001  158.04433344\n",
      "   49.27692827  172.81445062    4.77985957  114.32427778  187.71644172\n",
      "   93.41180981   88.92696588  153.21134522    6.82032962   30.10676804\n",
      "   10.53201384]\n",
      "INFO:revrand.glm:Iter 500: ELBO = -233926.2872654316, reg = 3.771522108157651, like_hypers = 298.2088175772614, basis_hypers = [   9.65105135   26.42517065   26.50417448   85.58568929   62.48504435\n",
      "    2.22632274   77.40847078   95.53608184  106.25887219  261.23716199\n",
      "   79.27326824  117.50238082   11.7088286    68.31964192    3.07039128\n",
      "   45.50710629    8.47886026   81.64156152    1.44958853    3.92255807\n",
      "    2.10298223]\n",
      "INFO:revrand.glm:Iter 1000: ELBO = -159620.8290501639, reg = 9.79976712534569, like_hypers = 139.67564247839022, basis_hypers = [   2.73952162   21.48290492   62.01151491  768.26252258  100.60308047\n",
      "    3.77137104  552.86346157  217.59565168  147.65399315  416.70351202\n",
      "  114.76205403   38.24886336   29.38485855  151.67970589    2.58568161\n",
      "   84.42895739   10.09596755  355.64176068    5.0129419     6.56712842\n",
      "    3.4504114 ]\n",
      "INFO:revrand.glm:Iter 1500: ELBO = -181898.9739693814, reg = 15.475652351169995, like_hypers = 94.02045561092135, basis_hypers = [  2.50110713e+00   1.88038329e+01   1.09866225e+02   4.88150404e+03\n",
      "   4.29066229e+02   8.80093080e+00   1.27916092e+03   2.82871016e+02\n",
      "   7.53314508e+01   6.01236399e+02   1.14575177e+02   2.41786315e+01\n",
      "   1.47097821e+01   1.88262352e+02   2.67092072e+00   6.81122648e+01\n",
      "   1.08326614e+01   1.86773533e+03   8.83488579e+00   1.04245401e+01\n",
      "   3.58290217e+00]\n",
      "INFO:revrand.glm:Iter 2000: ELBO = -156487.2563927686, reg = 20.085169967987564, like_hypers = 90.37439367293034, basis_hypers = [  2.58161956e+00   1.45770864e+01   2.73163641e+02   2.60875532e+04\n",
      "   1.03998338e+03   1.19062779e+01   8.97008017e+02   2.65184275e+02\n",
      "   4.47160075e+01   9.34734662e+02   6.24134334e+01   2.41779649e+01\n",
      "   1.10078947e+01   1.99420749e+02   2.97592811e+00   4.78658196e+01\n",
      "   1.11533659e+01   1.23917425e+04   1.39119534e+01   1.58505178e+01\n",
      "   3.36507931e+00]\n",
      "INFO:revrand.glm:Iter 2500: ELBO = -154520.81386667438, reg = 23.623562517061213, like_hypers = 73.33640720970796, basis_hypers = [  2.80112103e+00   1.36464151e+01   7.22730693e+02   1.34535592e+05\n",
      "   2.90081463e+03   2.05026961e+01   3.99935525e+02   3.67536229e+02\n",
      "   2.85319147e+01   1.65015495e+03   3.14226437e+01   1.87443735e+01\n",
      "   9.86544797e+00   2.34022864e+02   3.20926850e+00   3.00866295e+01\n",
      "   1.23578038e+01   8.53016179e+04   1.77367976e+01   1.75681051e+01\n",
      "   3.59506308e+00]\n",
      "INFO:revrand.glm:Iter 3000: ELBO = -167572.1286921338, reg = 26.503174648349084, like_hypers = 69.44553281902596, basis_hypers = [  2.88484678e+00   1.04699726e+01   1.62684187e+03   6.81331326e+05\n",
      "   6.85758147e+03   2.69221133e+01   1.46826181e+02   4.34730254e+02\n",
      "   2.49613170e+01   2.51405572e+03   2.31545713e+01   2.16355589e+01\n",
      "   8.15790918e+00   2.21686153e+02   3.20770221e+00   2.33221214e+01\n",
      "   1.00859476e+01   5.42010580e+05   2.13296712e+01   1.80539577e+01\n",
      "   2.98879221e+00]\n",
      "INFO:revrand.glm:Iter 3500: ELBO = -154208.70226343098, reg = 27.7677618189683, like_hypers = 63.953787143476255, basis_hypers = [  2.78839207e+00   1.37380046e+01   3.62422266e+03   3.29005210e+06\n",
      "   1.45822076e+04   3.22316402e+01   5.07774957e+01   5.31225906e+02\n",
      "   1.70514518e+01   3.35105375e+03   1.70311380e+01   2.53089244e+01\n",
      "   8.21566544e+00   1.82154939e+02   3.71358661e+00   1.72878889e+01\n",
      "   1.14532734e+01   3.33695337e+06   2.63391274e+01   1.57461030e+01\n",
      "   3.03048178e+00]\n",
      "INFO:revrand.glm:Iter 4000: ELBO = -144102.4232010522, reg = 29.928439854206292, like_hypers = 69.98947908313701, basis_hypers = [  2.93885119e+00   1.50868249e+01   7.40090303e+03   1.86229143e+07\n",
      "   2.67636147e+04   3.52515575e+01   1.56795635e+01   8.30176991e+02\n",
      "   1.35897867e+01   7.23223323e+03   1.33888826e+01   1.96728373e+01\n",
      "   8.38965498e+00   2.02699303e+02   3.47613495e+00   1.68543933e+01\n",
      "   1.00311665e+01   2.04899138e+07   2.63403529e+01   1.43949718e+01\n",
      "   2.56089796e+00]\n",
      "INFO:revrand.glm:Iter 4500: ELBO = -144585.29568762035, reg = 31.71391600801287, like_hypers = 64.85748561852442, basis_hypers = [  2.96927820e+00   1.09962970e+01   1.54241555e+04   8.93384669e+07\n",
      "   3.38933488e+04   2.68314075e+01   7.85211280e+00   1.32960693e+03\n",
      "   1.35729986e+01   1.33620726e+04   8.80695462e+00   1.94319670e+01\n",
      "   7.81750491e+00   1.73737080e+02   3.84909914e+00   1.39354425e+01\n",
      "   1.08976736e+01   1.13329114e+08   2.61735341e+01   1.27606905e+01\n",
      "   2.42873488e+00]\n",
      "INFO:revrand.glm:Iter 5000: ELBO = -140146.65823151552, reg = 34.23996595115732, like_hypers = 72.32799599615429, basis_hypers = [  3.05652926e+00   1.11960214e+01   2.28512748e+04   3.41888807e+08\n",
      "   3.47261568e+04   2.11632355e+01   6.09988391e+00   1.85030332e+03\n",
      "   1.15535707e+01   2.30083018e+04   9.41683980e+00   2.09894722e+01\n",
      "   6.95946052e+00   1.39129188e+02   3.59128893e+00   1.26933190e+01\n",
      "   9.36582661e+00   4.23313683e+08   2.04035916e+01   1.12713816e+01\n",
      "   2.62271067e+00]\n",
      "INFO:revrand.glm:Iter 5500: ELBO = -170092.23941889478, reg = 35.60701455248301, like_hypers = 62.17807990336252, basis_hypers = [  2.96561736e+00   1.41187848e+01   3.01852650e+04   8.24650934e+08\n",
      "   2.63800956e+04   1.69751533e+01   5.98407495e+00   3.32341547e+03\n",
      "   9.43072346e+00   5.09660902e+04   9.17093874e+00   2.43390981e+01\n",
      "   6.22367162e+00   1.18173223e+02   3.94386779e+00   1.36401171e+01\n",
      "   1.03933710e+01   9.71895797e+08   2.22218927e+01   1.24928362e+01\n",
      "   2.47141837e+00]\n",
      "INFO:revrand.glm:Iter 6000: ELBO = -149781.67495299823, reg = 37.55082846843048, like_hypers = 65.86831063989463, basis_hypers = [  3.10910843e+00   1.51031042e+01   4.63138774e+04   1.42560835e+09\n",
      "   1.93668647e+04   1.90691097e+01   6.21303072e+00   4.88773749e+03\n",
      "   7.36784247e+00   9.09846593e+04   1.18891596e+01   2.07639148e+01\n",
      "   6.17522845e+00   1.10500237e+02   3.60046073e+00   1.17136324e+01\n",
      "   1.01879231e+01   1.60247351e+09   2.85388799e+01   1.24752526e+01\n",
      "   2.70144984e+00]\n",
      "INFO:revrand.glm:Iter 6500: ELBO = -147724.59480446702, reg = 38.94771090168486, like_hypers = 54.042494007005445, basis_hypers = [  3.15719418e+00   1.33404637e+01   7.32996603e+04   2.17795997e+09\n",
      "   1.74709371e+04   2.04522350e+01   5.81717042e+00   9.97545305e+03\n",
      "   7.77859568e+00   1.78628856e+05   1.08509358e+01   1.74292440e+01\n",
      "   6.03807865e+00   1.00335013e+02   3.76291732e+00   1.07898913e+01\n",
      "   1.05316322e+01   2.31701453e+09   3.31453103e+01   1.18301838e+01\n",
      "   2.32584177e+00]\n",
      "INFO:revrand.glm:Iter 7000: ELBO = -179559.01235494786, reg = 40.739681053268654, like_hypers = 56.26773371746209, basis_hypers = [  3.20173701e+00   9.23255839e+00   7.71551487e+04   2.97610033e+09\n",
      "   1.02721793e+04   1.80775508e+01   6.01974629e+00   1.27551220e+04\n",
      "   7.26885838e+00   2.73865788e+05   8.68446384e+00   1.58091292e+01\n",
      "   5.92225724e+00   8.44831147e+01   3.68197338e+00   9.55682010e+00\n",
      "   1.13186144e+01   3.04054327e+09   3.69699617e+01   1.42812516e+01\n",
      "   2.52175205e+00]\n",
      "INFO:revrand.glm:Iter 7500: ELBO = -141225.39818815177, reg = 42.568184132858285, like_hypers = 58.958614149791494, basis_hypers = [  2.99960768e+00   6.72384664e+00   8.89947909e+04   3.85960379e+09\n",
      "   9.02693093e+03   2.10240210e+01   4.88972544e+00   1.99722942e+04\n",
      "   7.98908891e+00   4.51508596e+05   7.79443718e+00   1.70597656e+01\n",
      "   4.11030083e+00   7.27253197e+01   3.82718696e+00   9.28577307e+00\n",
      "   1.05492641e+01   3.80874660e+09   3.60674244e+01   1.27347464e+01\n",
      "   2.25567187e+00]\n",
      "INFO:revrand.glm:Iter 8000: ELBO = -138896.39861007596, reg = 43.99504576105341, like_hypers = 51.03180585241031, basis_hypers = [  3.15232199e+00   6.81797371e+00   7.70936630e+04   4.76209411e+09\n",
      "   4.71247980e+03   1.64269839e+01   5.45447661e+00   2.78237207e+04\n",
      "   7.09670322e+00   1.07139533e+06   8.60065226e+00   1.65541704e+01\n",
      "   3.78677965e+00   5.21098952e+01   3.85480191e+00   8.02326750e+00\n",
      "   1.07061127e+01   4.55388663e+09   4.45591556e+01   1.33881623e+01\n",
      "   2.49452434e+00]\n",
      "INFO:revrand.glm:Iter 8500: ELBO = -136011.93004162703, reg = 45.553659958370226, like_hypers = 56.15434447087933, basis_hypers = [  3.12105662e+00   6.04908273e+00   9.05995752e+04   5.73425417e+09\n",
      "   4.63025698e+03   1.90389793e+01   4.21518442e+00   5.48065159e+04\n",
      "   6.40044771e+00   2.39178502e+06   8.27612269e+00   1.45747402e+01\n",
      "   3.90311552e+00   6.01826506e+01   3.83855463e+00   9.26959802e+00\n",
      "   1.06292373e+01   5.34310345e+09   4.82359265e+01   1.31365732e+01\n",
      "   2.33231990e+00]\n",
      "INFO:revrand.glm:Iter 9000: ELBO = -142611.85561962493, reg = 47.31192793413131, like_hypers = 58.05282573150813, basis_hypers = [  3.01785460e+00   6.39432412e+00   7.67828827e+04   6.71959703e+09\n",
      "   2.86297008e+03   1.86052769e+01   3.40938173e+00   9.11204460e+04\n",
      "   7.56618293e+00   3.66731065e+06   7.95941132e+00   2.01170373e+01\n",
      "   3.56527035e+00   4.97693672e+01   3.63372587e+00   9.71534996e+00\n",
      "   1.10950887e+01   6.08134689e+09   4.46807362e+01   1.29069109e+01\n",
      "   2.45330363e+00]\n",
      "INFO:revrand.glm:Iter 9500: ELBO = -143599.83588224312, reg = 48.650424923962746, like_hypers = 53.089454051949254, basis_hypers = [  3.02848364e+00   5.24468923e+00   6.26003085e+04   7.68685957e+09\n",
      "   1.13620792e+03   1.73392080e+01   2.90664957e+00   1.48598367e+05\n",
      "   7.55802545e+00   7.47550774e+06   7.77830717e+00   1.49068688e+01\n",
      "   3.37615741e+00   6.14555119e+01   3.76799418e+00   9.33125140e+00\n",
      "   1.06312900e+01   6.78084084e+09   5.52170201e+01   1.22887959e+01\n",
      "   2.30416618e+00]\n",
      "INFO:revrand.glm:Iter 10000: ELBO = -163533.1555001251, reg = 50.19216639943124, like_hypers = 55.814226689372255, basis_hypers = [  3.04086818e+00   5.46372189e+00   4.62189774e+04   8.70536199e+09\n",
      "   5.24765492e+02   1.46706997e+01   2.68409796e+00   2.70285481e+05\n",
      "   5.47138501e+00   1.40074663e+07   6.29457452e+00   1.34227551e+01\n",
      "   4.01070929e+00   5.75620924e+01   3.86037092e+00   9.79170959e+00\n",
      "   1.10565984e+01   7.49691515e+09   5.47308183e+01   1.29928518e+01\n",
      "   2.42564836e+00]\n",
      "INFO:revrand.glm:Iter 10500: ELBO = -133422.47257416678, reg = 52.01901286246652, like_hypers = 51.63488407258778, basis_hypers = [  2.90880529e+00   6.21605837e+00   2.40029428e+04   9.76313920e+09\n",
      "   3.01562164e+02   1.96041725e+01   2.94493563e+00   3.89136311e+05\n",
      "   7.04976754e+00   2.07094875e+07   6.16795081e+00   1.85151870e+01\n",
      "   3.58223622e+00   4.70836022e+01   3.76496097e+00   1.08044235e+01\n",
      "   1.07478296e+01   8.18005855e+09   6.07648762e+01   1.42000773e+01\n",
      "   2.43783130e+00]\n",
      "INFO:revrand.glm:Iter 11000: ELBO = -135028.37045868134, reg = 53.59580543898196, like_hypers = 52.33906516036497, basis_hypers = [  2.89868263e+00   5.92247367e+00   2.42971186e+04   1.07501294e+10\n",
      "   2.64664861e+02   2.12828969e+01   2.36131320e+00   5.40321920e+05\n",
      "   8.59281376e+00   3.62625252e+07   6.83627376e+00   1.46176567e+01\n",
      "   3.80818699e+00   4.43254489e+01   3.60062653e+00   1.07053355e+01\n",
      "   1.03489664e+01   8.86017954e+09   7.15516393e+01   1.23586760e+01\n",
      "   2.21286612e+00]\n",
      "INFO:revrand.glm:Iter 11500: ELBO = -225726.7075093409, reg = 54.68248336899063, like_hypers = 48.98624092124703, basis_hypers = [  2.91832076e+00   4.86291710e+00   1.79228346e+04   1.17875824e+10\n",
      "   1.72796251e+02   2.07330974e+01   2.44418657e+00   7.86493021e+05\n",
      "   6.40335071e+00   4.58536758e+07   5.75636726e+00   1.65393404e+01\n",
      "   4.22563692e+00   3.42765420e+01   3.71053202e+00   1.00687677e+01\n",
      "   1.14453419e+01   9.58584496e+09   8.00418546e+01   1.20470250e+01\n",
      "   2.37230867e+00]\n",
      "INFO:revrand.glm:Iter 12000: ELBO = -142750.25877319503, reg = 56.65851979813903, like_hypers = 56.28438493107042, basis_hypers = [  2.87591053e+00   4.58751070e+00   2.15909815e+04   1.28200796e+10\n",
      "   1.06149122e+02   2.37371797e+01   2.41410762e+00   1.87123594e+06\n",
      "   6.52962281e+00   6.20436108e+07   5.33871306e+00   1.56381167e+01\n",
      "   4.28797004e+00   3.16069772e+01   3.68510147e+00   1.02495945e+01\n",
      "   1.01470557e+01   1.02698436e+10   7.33921611e+01   1.30131489e+01\n",
      "   2.31513997e+00]\n",
      "INFO:revrand.glm:Iter 12500: ELBO = -140846.6208452578, reg = 57.99636537312749, like_hypers = 50.347814910905804, basis_hypers = [  2.87973025e+00   4.54810448e+00   1.47856182e+04   1.38081498e+10\n",
      "   4.28869285e+01   2.17712210e+01   2.15418590e+00   2.75241525e+06\n",
      "   6.05276863e+00   9.72017976e+07   5.34372297e+00   1.48512538e+01\n",
      "   4.23246070e+00   4.39911016e+01   3.72303694e+00   9.36350537e+00\n",
      "   1.09870732e+01   1.09352891e+10   7.80646127e+01   1.21674733e+01\n",
      "   2.34527306e+00]\n",
      "INFO:revrand.glm:Iter 13000: ELBO = -142954.48995041786, reg = 58.79538012311119, like_hypers = 51.182606963579225, basis_hypers = [  3.00352027e+00   4.65324317e+00   9.12923958e+03   1.48703825e+10\n",
      "   2.18317304e+01   2.60809977e+01   2.10227972e+00   4.74284734e+06\n",
      "   6.33922136e+00   1.37936053e+08   6.68725268e+00   1.26298898e+01\n",
      "   3.64821358e+00   5.08220507e+01   3.70977770e+00   9.39841760e+00\n",
      "   9.25926293e+00   1.16835963e+10   7.29529651e+01   1.37623529e+01\n",
      "   2.19119109e+00]\n",
      "INFO:revrand.glm:Iter 13500: ELBO = -144706.95066241763, reg = 60.04700147927534, like_hypers = 51.30037787900098, basis_hypers = [  2.97011302e+00   5.39077002e+00   4.75929140e+03   1.58417371e+10\n",
      "   9.38144135e+00   2.32032324e+01   1.90477970e+00   1.07491071e+07\n",
      "   6.99738092e+00   1.24381821e+08   5.24443898e+00   1.39228794e+01\n",
      "   4.21711094e+00   3.42196361e+01   3.59687806e+00   9.09298385e+00\n",
      "   9.49249214e+00   1.23272012e+10   9.11414054e+01   1.49881414e+01\n",
      "   2.30057619e+00]\n",
      "INFO:revrand.glm:Iter 14000: ELBO = -148593.37797941905, reg = 61.200114851557714, like_hypers = 50.55537976777101, basis_hypers = [  2.88304090e+00   4.26502953e+00   2.05409960e+03   1.68845885e+10\n",
      "   6.42141032e+00   2.78239156e+01   1.97201183e+00   1.98207241e+07\n",
      "   6.49075605e+00   1.56461127e+08   5.07309961e+00   1.31618447e+01\n",
      "   3.98719299e+00   3.06915899e+01   3.44272992e+00   1.01814878e+01\n",
      "   8.97223489e+00   1.30357648e+10   7.00416079e+01   1.50129993e+01\n",
      "   2.07844529e+00]\n",
      "INFO:revrand.glm:Iter 14500: ELBO = -148632.0197025772, reg = 63.01907482400597, like_hypers = 44.64475365280733, basis_hypers = [  2.90501505e+00   4.25362598e+00   8.10810043e+02   1.78284153e+10\n",
      "   4.69318053e+00   2.74100762e+01   1.96641349e+00   2.64536786e+07\n",
      "   6.81157874e+00   1.73980535e+08   4.66164425e+00   1.36993291e+01\n",
      "   4.19422716e+00   3.18096853e+01   3.34667040e+00   9.46204204e+00\n",
      "   1.02395723e+01   1.37247464e+10   8.06213405e+01   1.44846050e+01\n",
      "   2.18144080e+00]\n",
      "INFO:revrand.glm:Iter 15000: ELBO = -134848.60293385194, reg = 64.11450250481448, like_hypers = 42.924220703614566, basis_hypers = [  2.81613201e+00   4.35697631e+00   2.28444852e+02   1.87578829e+10\n",
      "   4.06529962e+00   2.17228312e+01   1.77874171e+00   3.53199541e+07\n",
      "   5.39161373e+00   2.03916831e+08   5.62719752e+00   1.31193353e+01\n",
      "   4.02254109e+00   3.05342275e+01   3.32082137e+00   1.06036170e+01\n",
      "   1.00325513e+01   1.43334599e+10   1.18099570e+02   1.86236597e+01\n",
      "   2.03674913e+00]\n",
      "INFO:revrand.glm:Iter 15500: ELBO = -130388.88302796203, reg = 66.31838593538491, like_hypers = 38.04775103335586, basis_hypers = [  2.82188926e+00   4.17409202e+00   8.82765827e+01   1.96347498e+10\n",
      "   4.20745008e+00   2.20549860e+01   1.90746195e+00   4.66542507e+07\n",
      "   7.50942843e+00   1.93531046e+08   5.33534843e+00   1.39746825e+01\n",
      "   4.76048612e+00   2.26722477e+01   3.12112066e+00   9.84174963e+00\n",
      "   9.82787366e+00   1.49164902e+10   1.64017194e+02   1.99905077e+01\n",
      "   2.05649976e+00]\n"
     ]
    }
   ],
   "source": [
    "if not doGP:\n",
    "    alg.fit(X_train, y_train)\n",
    "else:\n",
    "    rnd = np.random.RandomState(random_state)\n",
    "    t_ind = rnd.choice(Ntrain, size=m, replace=False)\n",
    "    alg.fit(X_train[t_ind], y_train[t_ind])\n"
   ]
  },
  {
   "cell_type": "markdown",
   "metadata": {},
   "source": [
    "### Predict and score\n",
    "\n"
   ]
  },
  {
   "cell_type": "code",
   "execution_count": null,
   "metadata": {
    "collapsed": false
   },
   "outputs": [],
   "source": [
    "if not doGP:\n",
    "    Ey, Vf = alg.predict_moments(X_test)\n",
    "    Vy = Vf + alg.like_hypers_\n",
    "    Sy = np.sqrt(Vy)\n",
    "else:\n",
    "    Ey, Sy = alg.predict(X_test, return_std=True)\n",
    "    Vy = Sy**2\n",
    "\n",
    "print(\"SMSE = {}\".format(smse(y_test, Ey)))\n",
    "print(\"MSLL = {}\".format(msll(y_test, Ey, Vy, y_train)))\n",
    "\n",
    "# YY plot\n",
    "pl.figure(figsize=(15, 10))\n",
    "fancy_yyplot(y_test, Ey, Ey - 2 * Sy, Ey + 2 * Sy, \"Joint torque\")"
   ]
  },
  {
   "cell_type": "code",
   "execution_count": null,
   "metadata": {
    "collapsed": true
   },
   "outputs": [],
   "source": []
  }
 ],
 "metadata": {
  "kernelspec": {
   "display_name": "Python 3",
   "language": "python",
   "name": "python3"
  },
  "language_info": {
   "codemirror_mode": {
    "name": "ipython",
    "version": 3
   },
   "file_extension": ".py",
   "mimetype": "text/x-python",
   "name": "python",
   "nbconvert_exporter": "python",
   "pygments_lexer": "ipython3",
   "version": "3.6.0"
  }
 },
 "nbformat": 4,
 "nbformat_minor": 0
}
