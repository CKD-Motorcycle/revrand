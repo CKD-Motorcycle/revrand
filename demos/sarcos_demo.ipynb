{
 "cells": [
  {
   "cell_type": "markdown",
   "metadata": {},
   "source": [
    "# Comparison of *revrand*'s algorithms on the SARCOS dataset\n",
    "\n",
    "In this notebook we test how the GLM in *revrand* performs on the inverse dynamics experiment conducted in Gaussian Processes for Machine Learning, Chapter 8, page 182. In this experiment there are 21 dimensions, and 44,484 training examples. All GP's are using square exponential covariance functions, with a seperate lengthscale for each dimension."
   ]
  },
  {
   "cell_type": "code",
   "execution_count": 1,
   "metadata": {
    "collapsed": false
   },
   "outputs": [],
   "source": [
    "import logging\n",
    "import numpy as np\n",
    "from scipy.stats import gamma \n",
    "\n",
    "from sklearn.preprocessing import StandardScaler\n",
    "from sklearn.gaussian_process import GaussianProcessRegressor\n",
    "from sklearn.gaussian_process.kernels import WhiteKernel, RBF\n",
    "\n",
    "from revrand import GeneralizedLinearModel, Parameter, Positive\n",
    "from revrand.basis_functions import RandomRBF\n",
    "from revrand.likelihoods import Gaussian\n",
    "from revrand.metrics import smse, msll\n",
    "from revrand.utils.datasets import fetch_gpml_sarcos_data\n",
    "from revrand.optimize import Adam, AdaDelta\n",
    "\n",
    "from plotting import fancy_yyplot\n",
    "import matplotlib.pyplot as pl\n",
    "%matplotlib inline\n",
    "\n",
    "logging.basicConfig(level=logging.INFO)"
   ]
  },
  {
   "cell_type": "markdown",
   "metadata": {},
   "source": [
    "### Settings"
   ]
  },
  {
   "cell_type": "code",
   "execution_count": 2,
   "metadata": {
    "collapsed": false
   },
   "outputs": [],
   "source": [
    "lenscale = gamma(2, scale=50)\n",
    "regularizer = gamma(2, scale=10)\n",
    "var = gamma(2, scale=50)\n",
    "nbases = 512\n",
    "random_state = 100\n",
    "nsamples = 10\n",
    "\n",
    "batch_size = 10\n",
    "maxiter = int(1e6)\n",
    "updater = Adam()\n",
    "\n",
    "doGP = False\n",
    "m = 1024\n",
    "n_restarts=1"
   ]
  },
  {
   "cell_type": "markdown",
   "metadata": {},
   "source": [
    "### Load the data"
   ]
  },
  {
   "cell_type": "code",
   "execution_count": 3,
   "metadata": {
    "collapsed": false
   },
   "outputs": [
    {
     "name": "stdout",
     "output_type": "stream",
     "text": [
      "Training data shape = (44484, 21)\n",
      "Testing data shape = (4449, 21)\n"
     ]
    }
   ],
   "source": [
    "gpml_sarcos = fetch_gpml_sarcos_data()\n",
    "\n",
    "X_train = gpml_sarcos.train.data\n",
    "y_train = gpml_sarcos.train.targets\n",
    "\n",
    "X_test = gpml_sarcos.test.data\n",
    "y_test = gpml_sarcos.test.targets\n",
    "\n",
    "Ntrain, D = X_train.shape\n",
    "\n",
    "print(\"Training data shape = {}\".format(X_train.shape))\n",
    "print(\"Testing data shape = {}\".format(X_test.shape))\n"
   ]
  },
  {
   "cell_type": "markdown",
   "metadata": {},
   "source": [
    "### Transform targets and inputs\n",
    "As per GPML p23"
   ]
  },
  {
   "cell_type": "code",
   "execution_count": 4,
   "metadata": {
    "collapsed": false
   },
   "outputs": [],
   "source": [
    "# Targets\n",
    "ymean = y_train.mean()\n",
    "y_train -= ymean\n",
    "y_test -= ymean\n",
    "\n",
    "# Inputs\n",
    "Xscaler = StandardScaler()\n",
    "Xscaler.fit(X_train)\n",
    "X_train = Xscaler.transform(X_train)\n",
    "X_test = Xscaler.transform(X_test)"
   ]
  },
  {
   "cell_type": "markdown",
   "metadata": {},
   "source": [
    "### Initialise the algorithms"
   ]
  },
  {
   "cell_type": "code",
   "execution_count": 5,
   "metadata": {
    "collapsed": false
   },
   "outputs": [],
   "source": [
    "if not doGP:\n",
    "    lenscale_init = Parameter(lenscale, Positive(), shape=(D,))\n",
    "    var_init = Parameter(var, Positive())\n",
    "    regularizer_init = Parameter(regularizer, Positive())\n",
    "\n",
    "    base = RandomRBF(nbases=nbases,\n",
    "                     Xdim=D,\n",
    "                     lenscale=lenscale_init,\n",
    "                     random_state=random_state,\n",
    "                     regularizer=regularizer_init\n",
    "                    )\n",
    "    llhood = Gaussian(var=var_init)\n",
    "\n",
    "    alg = GeneralizedLinearModel(llhood,\n",
    "                                 base,\n",
    "                                 updater=updater,\n",
    "                                 batch_size=batch_size,\n",
    "                                 maxiter=maxiter,\n",
    "                                 nsamples=nsamples,\n",
    "                                 random_state=random_state\n",
    "                                )\n",
    "else:\n",
    "    kern = 3**2 * RBF(length_scale=np.ones(D), length_scale_bounds=(1e-3, 1e7)) \\\n",
    "        + WhiteKernel(noise_level=1)\n",
    "    alg = GaussianProcessRegressor(kernel=kern, n_restarts_optimizer=n_restarts)"
   ]
  },
  {
   "cell_type": "markdown",
   "metadata": {},
   "source": [
    "### Train the algorithms"
   ]
  },
  {
   "cell_type": "code",
   "execution_count": 6,
   "metadata": {
    "collapsed": false,
    "scrolled": true
   },
   "outputs": [
    {
     "name": "stderr",
     "output_type": "stream",
     "text": [
      "INFO:revrand.glm:Optimising parameters...\n",
      "INFO:revrand.optimize.decorators:Evaluating random starts...\n",
      "INFO:revrand.glm:Random starts: Iter -500: ELBO = -327177.86699434154, reg = 26.68796252095754, like_hypers = 128.63194666474095, basis_hypers = [ 133.98186912   83.14382722   69.22046829  101.82115024  241.24910791\n",
      "  138.95555941   95.52607268  336.55119088   56.49825177  115.51929154\n",
      "   82.2004983    53.48834491  169.0754097   260.75877363   85.60704294\n",
      "  197.3968828    46.33931996   84.25662107  126.52633985   70.41958317\n",
      "  225.34293751]\n",
      "INFO:revrand.optimize.decorators:Best start found with objective = 156185.74545855794\n",
      "INFO:revrand.glm:Iter 0: ELBO = -285023.3092345732, reg = 19.60797532544373, like_hypers = 107.98028964994161, basis_hypers = [  59.85141055   92.90899248   97.53840642  162.32263605   69.63342191\n",
      "   38.11699282  176.06884405  146.27274776   23.14897445   83.7642436\n",
      "  127.68675311  189.79868435   68.20685915   52.79900578   64.43069329\n",
      "   26.06088441  145.12518454   51.50973152  182.49566042   34.0385022\n",
      "  111.71624069]\n",
      "INFO:revrand.glm:Iter 500: ELBO = -174328.68917172236, reg = 5.695241292576581, like_hypers = 179.07752293985553, basis_hypers = [    5.03716558    11.73320328    72.3412274   1915.4268126     24.02156149\n",
      "     3.23251564    35.07270494   200.40154468    41.65371836   209.895505\n",
      "    58.65293882   328.2846086    142.73609179    66.26428771     3.14468591\n",
      "     6.17498278     8.08444322    16.27876958   667.75090022     5.7706564\n",
      "     4.15972712]\n",
      "INFO:revrand.glm:Iter 1000: ELBO = -176556.52576659172, reg = 10.245561774390358, like_hypers = 80.19665362298768, basis_hypers = [  3.28440499e+00   1.65726976e+01   1.32334907e+02   1.48234207e+04\n",
      "   1.09282614e+02   7.70762501e+00   1.93216662e+02   1.41515859e+02\n",
      "   1.11004276e+02   3.56602593e+02   1.49236358e+01   1.68949948e+02\n",
      "   5.74797058e+02   7.02579874e+01   2.98524198e+00   9.54944859e+00\n",
      "   1.72458205e+01   3.75383237e+00   3.40217494e+02   1.07883428e+01\n",
      "   6.27065246e+00]\n",
      "INFO:revrand.glm:Iter 1500: ELBO = -248425.0580110362, reg = 14.416474513984472, like_hypers = 55.454528640884575, basis_hypers = [  3.48069004e+00   2.56321499e+01   3.12202780e+02   4.44462196e+04\n",
      "   3.56672996e+02   1.06816554e+01   8.51173869e+02   1.72124199e+02\n",
      "   2.51871984e+02   6.66973697e+02   1.53918736e+01   1.25799865e+02\n",
      "   1.53877626e+03   5.70622628e+01   3.08545897e+00   1.77012252e+01\n",
      "   4.47121101e+01   3.22962947e+00   4.19038419e+01   2.02310632e+01\n",
      "   1.10535125e+01]\n",
      "INFO:revrand.glm:Iter 2000: ELBO = -140613.63246088897, reg = 17.28206675361742, like_hypers = 40.411109982187334, basis_hypers = [  3.75148201e+00   1.93245544e+01   8.18165019e+02   5.97904779e+04\n",
      "   1.33104671e+03   1.40603899e+01   2.97588105e+03   1.01881685e+02\n",
      "   3.52034719e+02   6.39110453e+02   1.46343515e+01   2.22407700e+02\n",
      "   4.82791336e+03   7.58389648e+01   3.31583472e+00   1.72094908e+01\n",
      "   9.98084132e+01   3.40630302e+00   1.14716870e+01   4.15563572e+01\n",
      "   1.11571588e+01]\n",
      "INFO:revrand.glm:Iter 2500: ELBO = -173556.62127264263, reg = 20.297164576723826, like_hypers = 40.751667489058704, basis_hypers = [  3.81503603e+00   2.48672741e+01   2.44206398e+03   3.62003909e+04\n",
      "   3.00680965e+03   1.89524568e+01   1.02412035e+04   8.94133764e+01\n",
      "   4.81441136e+02   1.04477340e+03   1.95432642e+01   2.91120331e+02\n",
      "   9.45496795e+03   9.86926752e+01   3.65841042e+00   1.45981039e+01\n",
      "   1.52313624e+02   3.42771964e+00   1.28300487e+01   5.88131242e+01\n",
      "   1.17719261e+01]\n",
      "INFO:revrand.glm:Iter 3000: ELBO = -144089.23134338768, reg = 22.721220685247168, like_hypers = 40.71078254029147, basis_hypers = [  3.77808847e+00   3.06679996e+01   7.20671911e+03   2.00359738e+04\n",
      "   7.46238156e+03   2.57613719e+01   3.39043430e+04   8.03056540e+01\n",
      "   6.35142004e+02   1.38673380e+03   1.66293597e+01   2.98253211e+02\n",
      "   1.73586442e+04   8.19333623e+01   3.75742033e+00   1.56038837e+01\n",
      "   2.92155345e+02   3.26733556e+00   1.07004509e+01   8.82369700e+01\n",
      "   9.36336579e+00]\n",
      "INFO:revrand.glm:Iter 3500: ELBO = -144345.65796565596, reg = 24.234084241059392, like_hypers = 31.271067869420865, basis_hypers = [  3.95266643e+00   2.87482430e+01   1.69619431e+04   8.37080356e+03\n",
      "   1.20540820e+04   2.93940901e+01   7.23215551e+04   4.40417835e+01\n",
      "   6.71635199e+02   1.27156856e+03   1.75019091e+01   3.58673965e+02\n",
      "   4.21962507e+04   1.01926943e+02   3.99821986e+00   1.64078669e+01\n",
      "   4.72866629e+02   3.31880957e+00   1.15746365e+01   1.29251642e+02\n",
      "   6.73913342e+00]\n",
      "INFO:revrand.glm:Iter 4000: ELBO = -158578.32196913502, reg = 25.90450164758433, like_hypers = 34.18995559825702, basis_hypers = [  3.95538552e+00   2.66753710e+01   4.50886848e+04   4.34860733e+03\n",
      "   1.94364204e+04   3.64447789e+01   1.69784476e+05   4.52121687e+01\n",
      "   1.03276519e+03   1.37867464e+03   1.64790151e+01   3.05919881e+02\n",
      "   8.07964310e+04   6.77839254e+01   4.14400777e+00   1.44673430e+01\n",
      "   8.70431084e+02   3.54523309e+00   1.46009906e+01   9.91033711e+01\n",
      "   8.18496676e+00]\n",
      "INFO:revrand.glm:Iter 4500: ELBO = -130906.02636969663, reg = 27.76722745915357, like_hypers = 32.49633911666384, basis_hypers = [  3.75380979e+00   3.22066744e+01   1.27923422e+05   2.36574210e+03\n",
      "   3.17053592e+04   3.65428750e+01   4.02489933e+05   3.69673459e+01\n",
      "   1.07704638e+03   2.10487602e+03   1.69548902e+01   2.87230393e+02\n",
      "   1.32161916e+05   6.66125688e+01   4.05162172e+00   1.61497298e+01\n",
      "   1.79750766e+03   3.58741302e+00   1.57501708e+01   1.11371658e+02\n",
      "   8.47335553e+00]\n",
      "INFO:revrand.glm:Iter 5000: ELBO = -134011.20203939074, reg = 28.73433067045981, like_hypers = 32.7005442192472, basis_hypers = [  3.79734581e+00   3.71597887e+01   3.27196925e+05   1.02865716e+03\n",
      "   3.47627867e+04   4.06099830e+01   6.06619192e+05   3.39142722e+01\n",
      "   1.51063158e+03   3.38931267e+03   1.80339220e+01   2.74813688e+02\n",
      "   2.32718543e+05   3.94355456e+01   4.22825690e+00   1.55297045e+01\n",
      "   3.77248454e+03   3.47694140e+00   1.64651070e+01   1.21553195e+02\n",
      "   8.71748121e+00]\n",
      "INFO:revrand.glm:Iter 5500: ELBO = -134269.9909844988, reg = 29.923880584109494, like_hypers = 31.800959520777067, basis_hypers = [  3.82022341e+00   4.01801274e+01   8.62672836e+05   4.61953367e+02\n",
      "   4.57333852e+04   4.58030008e+01   8.98288581e+05   2.41308714e+01\n",
      "   1.73838653e+03   4.10249940e+03   1.75712374e+01   3.24019324e+02\n",
      "   5.29192483e+05   3.66395015e+01   4.30040101e+00   1.18807692e+01\n",
      "   6.77552626e+03   3.56426310e+00   1.83867463e+01   1.41091967e+02\n",
      "   6.48922620e+00]\n",
      "INFO:revrand.glm:Iter 6000: ELBO = -151519.63166249418, reg = 30.958234125678857, like_hypers = 32.65869388330693, basis_hypers = [  3.91937545e+00   4.33637543e+01   2.66313632e+06   3.01786567e+02\n",
      "   5.91636247e+04   3.84566923e+01   2.06679830e+06   2.50504686e+01\n",
      "   2.22021937e+03   7.75225231e+03   2.31825347e+01   2.80880649e+02\n",
      "   6.51882994e+05   1.86220177e+01   4.18263379e+00   1.43189078e+01\n",
      "   1.33757950e+04   3.63722263e+00   1.56329090e+01   1.43109217e+02\n",
      "   8.16070004e+00]\n",
      "INFO:revrand.glm:Iter 6500: ELBO = -128438.44208975494, reg = 31.957629965795554, like_hypers = 29.799943848294035, basis_hypers = [  3.65881245e+00   5.23634935e+01   8.41366194e+06   1.19958542e+02\n",
      "   1.08214402e+05   5.47758510e+01   3.68877141e+06   1.79232642e+01\n",
      "   3.36880607e+03   1.15153484e+04   2.07292350e+01   1.78175494e+02\n",
      "   8.83002393e+05   1.31609960e+01   4.21001911e+00   1.28346359e+01\n",
      "   2.52025177e+04   3.50125535e+00   1.32986280e+01   1.56488238e+02\n",
      "   8.33056850e+00]\n",
      "INFO:revrand.glm:Iter 7000: ELBO = -150148.9906311307, reg = 32.3291615607664, like_hypers = 31.850295618258112, basis_hypers = [  4.26706919e+00   4.50318373e+01   2.32622671e+07   8.50180400e+01\n",
      "   1.67471684e+05   5.82792700e+01   6.26955826e+06   1.56743937e+01\n",
      "   3.71535033e+03   2.06372290e+04   2.30666870e+01   1.65816412e+02\n",
      "   1.08755270e+06   8.49999552e+00   4.19874713e+00   1.32363962e+01\n",
      "   4.69200827e+04   3.61682451e+00   1.53208635e+01   1.96817613e+02\n",
      "   8.33529254e+00]\n",
      "INFO:revrand.glm:Iter 7500: ELBO = -129549.00480866843, reg = 33.59644262162587, like_hypers = 34.67881844086019, basis_hypers = [  3.67535505e+00   4.40957066e+01   7.14339235e+07   3.49987211e+01\n",
      "   2.80426509e+05   6.25236990e+01   1.21520441e+07   1.85942676e+01\n",
      "   4.92715577e+03   3.74770508e+04   2.22426665e+01   1.40074993e+02\n",
      "   1.73078106e+06   7.49595627e+00   4.13713689e+00   1.39316250e+01\n",
      "   7.76295786e+04   3.47774604e+00   1.34106242e+01   2.06806870e+02\n",
      "   9.07686269e+00]\n",
      "INFO:revrand.glm:Iter 8000: ELBO = -139563.74639943952, reg = 33.82910757051663, like_hypers = 30.526050287455266, basis_hypers = [  3.99597817e+00   3.58518069e+01   1.63370113e+08   2.71904892e+01\n",
      "   3.86614771e+05   6.35202512e+01   1.98158009e+07   1.20110416e+01\n",
      "   8.10507888e+03   6.66333432e+04   2.03551074e+01   1.16489347e+02\n",
      "   2.15899908e+06   6.50364073e+00   4.54499658e+00   1.57753452e+01\n",
      "   1.71761337e+05   3.75639849e+00   1.32162266e+01   2.11454167e+02\n",
      "   8.48318627e+00]\n",
      "INFO:revrand.glm:Iter 8500: ELBO = -174075.52880302296, reg = 35.016507815389346, like_hypers = 31.51898690940073, basis_hypers = [  3.99103399e+00   2.70445120e+01   4.20420928e+08   1.49833112e+01\n",
      "   5.94778988e+05   5.61915531e+01   4.13526442e+07   9.63535429e+00\n",
      "   1.35133199e+04   1.27897116e+05   2.70662070e+01   8.38701356e+01\n",
      "   2.91638849e+06   6.08919243e+00   4.27015509e+00   1.60610572e+01\n",
      "   3.72908963e+05   3.57714604e+00   1.44976265e+01   2.93248304e+02\n",
      "   8.71991861e+00]\n",
      "INFO:revrand.glm:Iter 9000: ELBO = -124091.59635544692, reg = 35.21826397536297, like_hypers = 29.425545682634024, basis_hypers = [  4.24652129e+00   3.14160431e+01   6.93892854e+08   1.25555059e+01\n",
      "   6.77679450e+05   4.83485421e+01   7.29625437e+07   7.30628726e+00\n",
      "   1.63149836e+04   2.86502413e+05   2.47547894e+01   5.05091463e+01\n",
      "   4.13675686e+06   5.69438901e+00   4.39597048e+00   1.39723925e+01\n",
      "   7.22236648e+05   3.72232246e+00   1.88951084e+01   3.29312649e+02\n",
      "   8.07026826e+00]\n",
      "INFO:revrand.glm:Iter 9500: ELBO = -133775.2845026608, reg = 36.27223434309156, like_hypers = 33.206676975119215, basis_hypers = [  4.01746798e+00   2.68697755e+01   1.02927470e+09   1.03857814e+01\n",
      "   9.07392686e+05   4.52705998e+01   1.14733864e+08   6.95532569e+00\n",
      "   1.69610120e+04   6.06106762e+05   2.28473978e+01   4.31037557e+01\n",
      "   4.63483110e+06   6.30606751e+00   4.20512021e+00   1.54944755e+01\n",
      "   1.30292095e+06   3.71670417e+00   1.64081099e+01   3.17601269e+02\n",
      "   9.27548995e+00]\n"
     ]
    },
    {
     "ename": "KeyboardInterrupt",
     "evalue": "",
     "output_type": "error",
     "traceback": [
      "\u001b[0;31m---------------------------------------------------------------------------\u001b[0m",
      "\u001b[0;31mKeyboardInterrupt\u001b[0m                         Traceback (most recent call last)",
      "\u001b[0;32m<ipython-input-6-52d53d329c7c>\u001b[0m in \u001b[0;36m<module>\u001b[0;34m()\u001b[0m\n\u001b[1;32m      1\u001b[0m \u001b[0;32mif\u001b[0m \u001b[0;32mnot\u001b[0m \u001b[0mdoGP\u001b[0m\u001b[0;34m:\u001b[0m\u001b[0;34m\u001b[0m\u001b[0m\n\u001b[0;32m----> 2\u001b[0;31m     \u001b[0malg\u001b[0m\u001b[0;34m.\u001b[0m\u001b[0mfit\u001b[0m\u001b[0;34m(\u001b[0m\u001b[0mX_train\u001b[0m\u001b[0;34m,\u001b[0m \u001b[0my_train\u001b[0m\u001b[0;34m)\u001b[0m\u001b[0;34m\u001b[0m\u001b[0m\n\u001b[0m\u001b[1;32m      3\u001b[0m \u001b[0;32melse\u001b[0m\u001b[0;34m:\u001b[0m\u001b[0;34m\u001b[0m\u001b[0m\n\u001b[1;32m      4\u001b[0m     \u001b[0mrnd\u001b[0m \u001b[0;34m=\u001b[0m \u001b[0mnp\u001b[0m\u001b[0;34m.\u001b[0m\u001b[0mrandom\u001b[0m\u001b[0;34m.\u001b[0m\u001b[0mRandomState\u001b[0m\u001b[0;34m(\u001b[0m\u001b[0mrandom_state\u001b[0m\u001b[0;34m)\u001b[0m\u001b[0;34m\u001b[0m\u001b[0m\n\u001b[1;32m      5\u001b[0m     \u001b[0mt_ind\u001b[0m \u001b[0;34m=\u001b[0m \u001b[0mrnd\u001b[0m\u001b[0;34m.\u001b[0m\u001b[0mchoice\u001b[0m\u001b[0;34m(\u001b[0m\u001b[0mNtrain\u001b[0m\u001b[0;34m,\u001b[0m \u001b[0msize\u001b[0m\u001b[0;34m=\u001b[0m\u001b[0mm\u001b[0m\u001b[0;34m,\u001b[0m \u001b[0mreplace\u001b[0m\u001b[0;34m=\u001b[0m\u001b[0;32mFalse\u001b[0m\u001b[0;34m)\u001b[0m\u001b[0;34m\u001b[0m\u001b[0m\n",
      "\u001b[0;32m/home/dsteinberg/Code/revrand/revrand/glm.py\u001b[0m in \u001b[0;36mfit\u001b[0;34m(self, X, y, likelihood_args)\u001b[0m\n\u001b[1;32m    182\u001b[0m                    \u001b[0mbatch_size\u001b[0m\u001b[0;34m=\u001b[0m\u001b[0mself\u001b[0m\u001b[0;34m.\u001b[0m\u001b[0mbatch_size\u001b[0m\u001b[0;34m,\u001b[0m\u001b[0;34m\u001b[0m\u001b[0m\n\u001b[1;32m    183\u001b[0m                    \u001b[0mrandom_state\u001b[0m\u001b[0;34m=\u001b[0m\u001b[0mself\u001b[0m\u001b[0;34m.\u001b[0m\u001b[0mrandom_\u001b[0m\u001b[0;34m,\u001b[0m\u001b[0;34m\u001b[0m\u001b[0m\n\u001b[0;32m--> 184\u001b[0;31m                    \u001b[0mnstarts\u001b[0m\u001b[0;34m=\u001b[0m\u001b[0mself\u001b[0m\u001b[0;34m.\u001b[0m\u001b[0mnstarts\u001b[0m\u001b[0;34m\u001b[0m\u001b[0m\n\u001b[0m\u001b[1;32m    185\u001b[0m                    )\n\u001b[1;32m    186\u001b[0m \u001b[0;34m\u001b[0m\u001b[0m\n",
      "\u001b[0;32m/home/dsteinberg/Code/revrand/revrand/optimize/decorators.py\u001b[0m in \u001b[0;36mnew_sgd\u001b[0;34m(fun, parameters, data, eval_obj, batch_size, args, random_state, nstarts, **sgd_kwargs)\u001b[0m\n\u001b[1;32m    245\u001b[0m         result = sgd(new_fun, array1d, data=data, bounds=fbounds, args=args,\n\u001b[1;32m    246\u001b[0m                      \u001b[0meval_obj\u001b[0m\u001b[0;34m=\u001b[0m\u001b[0meval_obj\u001b[0m\u001b[0;34m,\u001b[0m \u001b[0mrandom_state\u001b[0m\u001b[0;34m=\u001b[0m\u001b[0mrandom_state\u001b[0m\u001b[0;34m,\u001b[0m\u001b[0;34m\u001b[0m\u001b[0m\n\u001b[0;32m--> 247\u001b[0;31m                      **sgd_kwargs)\n\u001b[0m\u001b[1;32m    248\u001b[0m \u001b[0;34m\u001b[0m\u001b[0m\n\u001b[1;32m    249\u001b[0m         \u001b[0mresult\u001b[0m\u001b[0;34m[\u001b[0m\u001b[0;34m'x'\u001b[0m\u001b[0;34m]\u001b[0m \u001b[0;34m=\u001b[0m \u001b[0mtuple\u001b[0m\u001b[0;34m(\u001b[0m\u001b[0munflatten\u001b[0m\u001b[0;34m(\u001b[0m\u001b[0mresult\u001b[0m\u001b[0;34m[\u001b[0m\u001b[0;34m'x'\u001b[0m\u001b[0;34m]\u001b[0m\u001b[0;34m,\u001b[0m \u001b[0mshapes\u001b[0m\u001b[0;34m)\u001b[0m\u001b[0;34m)\u001b[0m\u001b[0;34m\u001b[0m\u001b[0m\n",
      "\u001b[0;32m/home/dsteinberg/Code/revrand/revrand/optimize/decorators.py\u001b[0m in \u001b[0;36mnew_sgd\u001b[0;34m(fun, x0, data, bounds, eval_obj, **sgd_kwargs)\u001b[0m\n\u001b[1;32m    397\u001b[0m         \u001b[0;31m# Transform the final result\u001b[0m\u001b[0;34m\u001b[0m\u001b[0;34m\u001b[0m\u001b[0m\n\u001b[1;32m    398\u001b[0m         result = sgd(new_fun, logx(x0), data, bounds=bounds, eval_obj=eval_obj,\n\u001b[0;32m--> 399\u001b[0;31m                      **sgd_kwargs)\n\u001b[0m\u001b[1;32m    400\u001b[0m         \u001b[0mresult\u001b[0m\u001b[0;34m[\u001b[0m\u001b[0;34m'x'\u001b[0m\u001b[0;34m]\u001b[0m \u001b[0;34m=\u001b[0m \u001b[0mexpx\u001b[0m\u001b[0;34m(\u001b[0m\u001b[0mresult\u001b[0m\u001b[0;34m[\u001b[0m\u001b[0;34m'x'\u001b[0m\u001b[0;34m]\u001b[0m\u001b[0;34m)\u001b[0m\u001b[0;34m\u001b[0m\u001b[0m\n\u001b[1;32m    401\u001b[0m         \u001b[0;32mreturn\u001b[0m \u001b[0mresult\u001b[0m\u001b[0;34m\u001b[0m\u001b[0m\n",
      "\u001b[0;32m/home/dsteinberg/Code/revrand/revrand/optimize/sgd.py\u001b[0m in \u001b[0;36msgd\u001b[0;34m(fun, x0, data, args, bounds, batch_size, maxiter, updater, eval_obj, random_state)\u001b[0m\n\u001b[1;32m    357\u001b[0m             \u001b[0mgrad\u001b[0m \u001b[0;34m=\u001b[0m \u001b[0mfun\u001b[0m\u001b[0;34m(\u001b[0m\u001b[0mx\u001b[0m\u001b[0;34m,\u001b[0m \u001b[0;34m*\u001b[0m\u001b[0mchain\u001b[0m\u001b[0;34m(\u001b[0m\u001b[0mbatch\u001b[0m\u001b[0;34m,\u001b[0m \u001b[0margs\u001b[0m\u001b[0;34m)\u001b[0m\u001b[0;34m)\u001b[0m\u001b[0;34m\u001b[0m\u001b[0m\n\u001b[1;32m    358\u001b[0m         \u001b[0;32melse\u001b[0m\u001b[0;34m:\u001b[0m\u001b[0;34m\u001b[0m\u001b[0m\n\u001b[0;32m--> 359\u001b[0;31m             \u001b[0mobj\u001b[0m\u001b[0;34m,\u001b[0m \u001b[0mgrad\u001b[0m \u001b[0;34m=\u001b[0m \u001b[0mfun\u001b[0m\u001b[0;34m(\u001b[0m\u001b[0mx\u001b[0m\u001b[0;34m,\u001b[0m \u001b[0;34m*\u001b[0m\u001b[0mchain\u001b[0m\u001b[0;34m(\u001b[0m\u001b[0mbatch\u001b[0m\u001b[0;34m,\u001b[0m \u001b[0margs\u001b[0m\u001b[0;34m)\u001b[0m\u001b[0;34m)\u001b[0m\u001b[0;34m\u001b[0m\u001b[0m\n\u001b[0m\u001b[1;32m    360\u001b[0m             \u001b[0mobjs\u001b[0m\u001b[0;34m.\u001b[0m\u001b[0mappend\u001b[0m\u001b[0;34m(\u001b[0m\u001b[0mobj\u001b[0m\u001b[0;34m)\u001b[0m\u001b[0;34m\u001b[0m\u001b[0m\n\u001b[1;32m    361\u001b[0m \u001b[0;34m\u001b[0m\u001b[0m\n",
      "\u001b[0;32m/home/dsteinberg/Code/revrand/revrand/optimize/decorators.py\u001b[0m in \u001b[0;36mnew_fun\u001b[0;34m(x, *fargs, **fkwargs)\u001b[0m\n\u001b[1;32m    389\u001b[0m         \u001b[0;32mif\u001b[0m \u001b[0mbool\u001b[0m\u001b[0;34m(\u001b[0m\u001b[0meval_obj\u001b[0m\u001b[0;34m)\u001b[0m\u001b[0;34m:\u001b[0m\u001b[0;34m\u001b[0m\u001b[0m\n\u001b[1;32m    390\u001b[0m             \u001b[0;32mdef\u001b[0m \u001b[0mnew_fun\u001b[0m\u001b[0;34m(\u001b[0m\u001b[0mx\u001b[0m\u001b[0;34m,\u001b[0m \u001b[0;34m*\u001b[0m\u001b[0mfargs\u001b[0m\u001b[0;34m,\u001b[0m \u001b[0;34m**\u001b[0m\u001b[0mfkwargs\u001b[0m\u001b[0;34m)\u001b[0m\u001b[0;34m:\u001b[0m\u001b[0;34m\u001b[0m\u001b[0m\n\u001b[0;32m--> 391\u001b[0;31m                 \u001b[0mo\u001b[0m\u001b[0;34m,\u001b[0m \u001b[0mg\u001b[0m \u001b[0;34m=\u001b[0m \u001b[0mfun\u001b[0m\u001b[0;34m(\u001b[0m\u001b[0mexpx\u001b[0m\u001b[0;34m(\u001b[0m\u001b[0mx\u001b[0m\u001b[0;34m)\u001b[0m\u001b[0;34m,\u001b[0m \u001b[0;34m*\u001b[0m\u001b[0mfargs\u001b[0m\u001b[0;34m,\u001b[0m \u001b[0;34m**\u001b[0m\u001b[0mfkwargs\u001b[0m\u001b[0;34m)\u001b[0m\u001b[0;34m\u001b[0m\u001b[0m\n\u001b[0m\u001b[1;32m    392\u001b[0m                 \u001b[0;32mreturn\u001b[0m \u001b[0mo\u001b[0m\u001b[0;34m,\u001b[0m \u001b[0mgradx\u001b[0m\u001b[0;34m(\u001b[0m\u001b[0mg\u001b[0m\u001b[0;34m,\u001b[0m \u001b[0mx\u001b[0m\u001b[0;34m)\u001b[0m\u001b[0;34m\u001b[0m\u001b[0m\n\u001b[1;32m    393\u001b[0m         \u001b[0;32melse\u001b[0m\u001b[0;34m:\u001b[0m\u001b[0;34m\u001b[0m\u001b[0m\n",
      "\u001b[0;32m/home/dsteinberg/Code/revrand/revrand/optimize/decorators.py\u001b[0m in \u001b[0;36mnew_func\u001b[0;34m(*args, **kwargs)\u001b[0m\n\u001b[1;32m    479\u001b[0m     \u001b[0;34m@\u001b[0m\u001b[0mwraps\u001b[0m\u001b[0;34m(\u001b[0m\u001b[0mfunc\u001b[0m\u001b[0;34m)\u001b[0m\u001b[0;34m\u001b[0m\u001b[0m\n\u001b[1;32m    480\u001b[0m     \u001b[0;32mdef\u001b[0m \u001b[0mnew_func\u001b[0m\u001b[0;34m(\u001b[0m\u001b[0;34m*\u001b[0m\u001b[0margs\u001b[0m\u001b[0;34m,\u001b[0m \u001b[0;34m**\u001b[0m\u001b[0mkwargs\u001b[0m\u001b[0;34m)\u001b[0m\u001b[0;34m:\u001b[0m\u001b[0;34m\u001b[0m\u001b[0m\n\u001b[0;32m--> 481\u001b[0;31m         \u001b[0mval\u001b[0m\u001b[0;34m,\u001b[0m \u001b[0mgrad\u001b[0m \u001b[0;34m=\u001b[0m \u001b[0mfunc\u001b[0m\u001b[0;34m(\u001b[0m\u001b[0;34m*\u001b[0m\u001b[0margs\u001b[0m\u001b[0;34m,\u001b[0m \u001b[0;34m**\u001b[0m\u001b[0mkwargs\u001b[0m\u001b[0;34m)\u001b[0m\u001b[0;34m\u001b[0m\u001b[0m\n\u001b[0m\u001b[1;32m    482\u001b[0m         \u001b[0;32mreturn\u001b[0m \u001b[0mval\u001b[0m\u001b[0;34m,\u001b[0m \u001b[0mflatten\u001b[0m\u001b[0;34m(\u001b[0m\u001b[0mgrad\u001b[0m\u001b[0;34m,\u001b[0m \u001b[0mreturns_shapes\u001b[0m\u001b[0;34m=\u001b[0m\u001b[0;32mFalse\u001b[0m\u001b[0;34m)\u001b[0m\u001b[0;34m\u001b[0m\u001b[0m\n\u001b[1;32m    483\u001b[0m \u001b[0;34m\u001b[0m\u001b[0m\n",
      "\u001b[0;32m/home/dsteinberg/Code/revrand/revrand/optimize/decorators.py\u001b[0m in \u001b[0;36mnew_func\u001b[0;34m(array1d, *args, **kwargs)\u001b[0m\n\u001b[1;32m    528\u001b[0m         \u001b[0;32mdef\u001b[0m \u001b[0mnew_func\u001b[0m\u001b[0;34m(\u001b[0m\u001b[0marray1d\u001b[0m\u001b[0;34m,\u001b[0m \u001b[0;34m*\u001b[0m\u001b[0margs\u001b[0m\u001b[0;34m,\u001b[0m \u001b[0;34m**\u001b[0m\u001b[0mkwargs\u001b[0m\u001b[0;34m)\u001b[0m\u001b[0;34m:\u001b[0m\u001b[0;34m\u001b[0m\u001b[0m\n\u001b[1;32m    529\u001b[0m             \u001b[0margs\u001b[0m \u001b[0;34m=\u001b[0m \u001b[0mtuple\u001b[0m\u001b[0;34m(\u001b[0m\u001b[0munflatten\u001b[0m\u001b[0;34m(\u001b[0m\u001b[0marray1d\u001b[0m\u001b[0;34m,\u001b[0m \u001b[0mshapes\u001b[0m\u001b[0;34m)\u001b[0m\u001b[0;34m)\u001b[0m \u001b[0;34m+\u001b[0m \u001b[0margs\u001b[0m\u001b[0;34m\u001b[0m\u001b[0m\n\u001b[0;32m--> 530\u001b[0;31m             \u001b[0;32mreturn\u001b[0m \u001b[0mfunc\u001b[0m\u001b[0;34m(\u001b[0m\u001b[0;34m*\u001b[0m\u001b[0margs\u001b[0m\u001b[0;34m,\u001b[0m \u001b[0;34m**\u001b[0m\u001b[0mkwargs\u001b[0m\u001b[0;34m)\u001b[0m\u001b[0;34m\u001b[0m\u001b[0m\n\u001b[0m\u001b[1;32m    531\u001b[0m \u001b[0;34m\u001b[0m\u001b[0m\n\u001b[1;32m    532\u001b[0m         \u001b[0;32mreturn\u001b[0m \u001b[0mnew_func\u001b[0m\u001b[0;34m\u001b[0m\u001b[0m\n",
      "\u001b[0;32m/home/dsteinberg/Code/revrand/revrand/glm.py\u001b[0m in \u001b[0;36m_elbo\u001b[0;34m(self, m, C, reg, lpars, bpars, X, y, *largs)\u001b[0m\n\u001b[1;32m    242\u001b[0m             \u001b[0;31m# Sample expected likelihood and gradients\u001b[0m\u001b[0;34m\u001b[0m\u001b[0;34m\u001b[0m\u001b[0m\n\u001b[1;32m    243\u001b[0m             \u001b[0mEdmk\u001b[0m\u001b[0;34m,\u001b[0m \u001b[0mEdCk\u001b[0m\u001b[0;34m,\u001b[0m \u001b[0mEdPhik\u001b[0m\u001b[0;34m,\u001b[0m \u001b[0mEdlpars\u001b[0m\u001b[0;34m,\u001b[0m \u001b[0mEll\u001b[0m\u001b[0;34m[\u001b[0m\u001b[0mk\u001b[0m\u001b[0;34m]\u001b[0m \u001b[0;34m=\u001b[0m\u001b[0;31m \u001b[0m\u001b[0;31m\\\u001b[0m\u001b[0;34m\u001b[0m\u001b[0m\n\u001b[0;32m--> 244\u001b[0;31m                 \u001b[0mself\u001b[0m\u001b[0;34m.\u001b[0m\u001b[0m_reparam_k\u001b[0m\u001b[0;34m(\u001b[0m\u001b[0mm\u001b[0m\u001b[0;34m[\u001b[0m\u001b[0;34m:\u001b[0m\u001b[0;34m,\u001b[0m \u001b[0mk\u001b[0m\u001b[0;34m]\u001b[0m\u001b[0;34m,\u001b[0m \u001b[0mC\u001b[0m\u001b[0;34m[\u001b[0m\u001b[0;34m:\u001b[0m\u001b[0;34m,\u001b[0m \u001b[0mk\u001b[0m\u001b[0;34m]\u001b[0m\u001b[0;34m,\u001b[0m \u001b[0my\u001b[0m\u001b[0;34m,\u001b[0m \u001b[0mPhi\u001b[0m\u001b[0;34m,\u001b[0m \u001b[0mlargs\u001b[0m\u001b[0;34m,\u001b[0m \u001b[0mcalc_ll\u001b[0m\u001b[0;34m)\u001b[0m\u001b[0;34m\u001b[0m\u001b[0m\n\u001b[0m\u001b[1;32m    245\u001b[0m             \u001b[0mEdPhi\u001b[0m \u001b[0;34m+=\u001b[0m \u001b[0mEdPhik\u001b[0m \u001b[0;34m/\u001b[0m \u001b[0mK\u001b[0m\u001b[0;34m\u001b[0m\u001b[0m\n\u001b[1;32m    246\u001b[0m \u001b[0;34m\u001b[0m\u001b[0m\n",
      "\u001b[0;32m/home/dsteinberg/Code/revrand/revrand/glm.py\u001b[0m in \u001b[0;36m_reparam_k\u001b[0;34m(self, mk, Ck, y, Phi, largs, calc_ll)\u001b[0m\n\u001b[1;32m    310\u001b[0m \u001b[0;34m\u001b[0m\u001b[0m\n\u001b[1;32m    311\u001b[0m         \u001b[0;31m# Structured likelihood parameter gradients\u001b[0m\u001b[0;34m\u001b[0m\u001b[0;34m\u001b[0m\u001b[0m\n\u001b[0;32m--> 312\u001b[0;31m         \u001b[0mEdlpars\u001b[0m \u001b[0;34m=\u001b[0m \u001b[0matleast_list\u001b[0m\u001b[0;34m(\u001b[0m\u001b[0mself\u001b[0m\u001b[0;34m.\u001b[0m\u001b[0mlikelihood\u001b[0m\u001b[0;34m.\u001b[0m\u001b[0mdp\u001b[0m\u001b[0;34m(\u001b[0m\u001b[0my\u001b[0m\u001b[0;34m,\u001b[0m \u001b[0mfs\u001b[0m\u001b[0;34m,\u001b[0m \u001b[0;34m*\u001b[0m\u001b[0mlargs\u001b[0m\u001b[0;34m)\u001b[0m\u001b[0;34m)\u001b[0m\u001b[0;34m\u001b[0m\u001b[0m\n\u001b[0m\u001b[1;32m    313\u001b[0m         \u001b[0;32mfor\u001b[0m \u001b[0mi\u001b[0m\u001b[0;34m,\u001b[0m \u001b[0mEdlpar\u001b[0m \u001b[0;32min\u001b[0m \u001b[0menumerate\u001b[0m\u001b[0;34m(\u001b[0m\u001b[0mEdlpars\u001b[0m\u001b[0;34m)\u001b[0m\u001b[0;34m:\u001b[0m\u001b[0;34m\u001b[0m\u001b[0m\n\u001b[1;32m    314\u001b[0m             \u001b[0mEdlpars\u001b[0m\u001b[0;34m[\u001b[0m\u001b[0mi\u001b[0m\u001b[0;34m]\u001b[0m \u001b[0;34m=\u001b[0m \u001b[0mEdlpar\u001b[0m\u001b[0;34m.\u001b[0m\u001b[0msum\u001b[0m\u001b[0;34m(\u001b[0m\u001b[0;34m)\u001b[0m \u001b[0;34m/\u001b[0m \u001b[0mself\u001b[0m\u001b[0;34m.\u001b[0m\u001b[0mnsamples\u001b[0m\u001b[0;34m\u001b[0m\u001b[0m\n",
      "\u001b[0;32m/home/dsteinberg/Code/revrand/revrand/likelihoods.py\u001b[0m in \u001b[0;36mdp\u001b[0;34m(self, y, f, var)\u001b[0m\n\u001b[1;32m    388\u001b[0m         \"\"\"\n\u001b[1;32m    389\u001b[0m         \u001b[0mvar\u001b[0m \u001b[0;34m=\u001b[0m \u001b[0mself\u001b[0m\u001b[0;34m.\u001b[0m\u001b[0m_check_param\u001b[0m\u001b[0;34m(\u001b[0m\u001b[0mvar\u001b[0m\u001b[0;34m)\u001b[0m\u001b[0;34m\u001b[0m\u001b[0m\n\u001b[0;32m--> 390\u001b[0;31m         \u001b[0my\u001b[0m\u001b[0;34m,\u001b[0m \u001b[0mf\u001b[0m \u001b[0;34m=\u001b[0m \u001b[0mnp\u001b[0m\u001b[0;34m.\u001b[0m\u001b[0mbroadcast_arrays\u001b[0m\u001b[0;34m(\u001b[0m\u001b[0my\u001b[0m\u001b[0;34m,\u001b[0m \u001b[0mf\u001b[0m\u001b[0;34m)\u001b[0m\u001b[0;34m\u001b[0m\u001b[0m\n\u001b[0m\u001b[1;32m    391\u001b[0m         \u001b[0mivar\u001b[0m \u001b[0;34m=\u001b[0m \u001b[0;36m1.\u001b[0m \u001b[0;34m/\u001b[0m \u001b[0mvar\u001b[0m\u001b[0;34m\u001b[0m\u001b[0m\n\u001b[1;32m    392\u001b[0m         \u001b[0;32mreturn\u001b[0m \u001b[0;36m0.5\u001b[0m \u001b[0;34m*\u001b[0m \u001b[0;34m(\u001b[0m\u001b[0;34m(\u001b[0m\u001b[0;34m(\u001b[0m\u001b[0my\u001b[0m \u001b[0;34m-\u001b[0m \u001b[0mf\u001b[0m\u001b[0;34m)\u001b[0m \u001b[0;34m*\u001b[0m \u001b[0mivar\u001b[0m\u001b[0;34m)\u001b[0m\u001b[0;34m**\u001b[0m\u001b[0;36m2\u001b[0m \u001b[0;34m-\u001b[0m \u001b[0mivar\u001b[0m\u001b[0;34m)\u001b[0m\u001b[0;34m\u001b[0m\u001b[0m\n",
      "\u001b[0;32m/usr/lib/python3.5/site-packages/numpy/lib/stride_tricks.py\u001b[0m in \u001b[0;36mbroadcast_arrays\u001b[0;34m(*args, **kwargs)\u001b[0m\n\u001b[1;32m    198\u001b[0m     \u001b[0;31m# broadcast_to. This will require a deprecation cycle.\u001b[0m\u001b[0;34m\u001b[0m\u001b[0;34m\u001b[0m\u001b[0m\n\u001b[1;32m    199\u001b[0m     return [_broadcast_to(array, shape, subok=subok, readonly=False)\n\u001b[0;32m--> 200\u001b[0;31m             for array in args]\n\u001b[0m",
      "\u001b[0;32m/usr/lib/python3.5/site-packages/numpy/lib/stride_tricks.py\u001b[0m in \u001b[0;36m<listcomp>\u001b[0;34m(.0)\u001b[0m\n\u001b[1;32m    198\u001b[0m     \u001b[0;31m# broadcast_to. This will require a deprecation cycle.\u001b[0m\u001b[0;34m\u001b[0m\u001b[0;34m\u001b[0m\u001b[0m\n\u001b[1;32m    199\u001b[0m     return [_broadcast_to(array, shape, subok=subok, readonly=False)\n\u001b[0;32m--> 200\u001b[0;31m             for array in args]\n\u001b[0m",
      "\u001b[0;32m/usr/lib/python3.5/site-packages/numpy/lib/stride_tricks.py\u001b[0m in \u001b[0;36m_broadcast_to\u001b[0;34m(array, shape, subok, readonly)\u001b[0m\n\u001b[1;32m     68\u001b[0m     broadcast = np.nditer(\n\u001b[1;32m     69\u001b[0m         \u001b[0;34m(\u001b[0m\u001b[0marray\u001b[0m\u001b[0;34m,\u001b[0m\u001b[0;34m)\u001b[0m\u001b[0;34m,\u001b[0m \u001b[0mflags\u001b[0m\u001b[0;34m=\u001b[0m\u001b[0;34m[\u001b[0m\u001b[0;34m'multi_index'\u001b[0m\u001b[0;34m,\u001b[0m \u001b[0;34m'refs_ok'\u001b[0m\u001b[0;34m,\u001b[0m \u001b[0;34m'zerosize_ok'\u001b[0m\u001b[0;34m]\u001b[0m \u001b[0;34m+\u001b[0m \u001b[0mextras\u001b[0m\u001b[0;34m,\u001b[0m\u001b[0;34m\u001b[0m\u001b[0m\n\u001b[0;32m---> 70\u001b[0;31m         op_flags=[op_flag], itershape=shape, order='C').itviews[0]\n\u001b[0m\u001b[1;32m     71\u001b[0m     \u001b[0mresult\u001b[0m \u001b[0;34m=\u001b[0m \u001b[0m_maybe_view_as_subclass\u001b[0m\u001b[0;34m(\u001b[0m\u001b[0marray\u001b[0m\u001b[0;34m,\u001b[0m \u001b[0mbroadcast\u001b[0m\u001b[0;34m)\u001b[0m\u001b[0;34m\u001b[0m\u001b[0m\n\u001b[1;32m     72\u001b[0m     \u001b[0;32mif\u001b[0m \u001b[0mneeds_writeable\u001b[0m \u001b[0;32mand\u001b[0m \u001b[0;32mnot\u001b[0m \u001b[0mresult\u001b[0m\u001b[0;34m.\u001b[0m\u001b[0mflags\u001b[0m\u001b[0;34m.\u001b[0m\u001b[0mwriteable\u001b[0m\u001b[0;34m:\u001b[0m\u001b[0;34m\u001b[0m\u001b[0m\n",
      "\u001b[0;31mKeyboardInterrupt\u001b[0m: "
     ]
    }
   ],
   "source": [
    "if not doGP:\n",
    "    alg.fit(X_train, y_train)\n",
    "else:\n",
    "    rnd = np.random.RandomState(random_state)\n",
    "    t_ind = rnd.choice(Ntrain, size=m, replace=False)\n",
    "    alg.fit(X_train[t_ind], y_train[t_ind])\n"
   ]
  },
  {
   "cell_type": "markdown",
   "metadata": {},
   "source": [
    "### Predict and score\n",
    "\n"
   ]
  },
  {
   "cell_type": "code",
   "execution_count": 7,
   "metadata": {
    "collapsed": false
   },
   "outputs": [
    {
     "ename": "NotFittedError",
     "evalue": "This GeneralizedLinearModel instance is not fitted yet. Call 'fit' with appropriate arguments before using this method.",
     "output_type": "error",
     "traceback": [
      "\u001b[0;31m---------------------------------------------------------------------------\u001b[0m",
      "\u001b[0;31mNotFittedError\u001b[0m                            Traceback (most recent call last)",
      "\u001b[0;32m<ipython-input-7-4b89f7867987>\u001b[0m in \u001b[0;36m<module>\u001b[0;34m()\u001b[0m\n\u001b[1;32m      1\u001b[0m \u001b[0;32mif\u001b[0m \u001b[0;32mnot\u001b[0m \u001b[0mdoGP\u001b[0m\u001b[0;34m:\u001b[0m\u001b[0;34m\u001b[0m\u001b[0m\n\u001b[0;32m----> 2\u001b[0;31m     \u001b[0mEy\u001b[0m\u001b[0;34m,\u001b[0m \u001b[0mVf\u001b[0m \u001b[0;34m=\u001b[0m \u001b[0malg\u001b[0m\u001b[0;34m.\u001b[0m\u001b[0mpredict_moments\u001b[0m\u001b[0;34m(\u001b[0m\u001b[0mX_test\u001b[0m\u001b[0;34m)\u001b[0m\u001b[0;34m\u001b[0m\u001b[0m\n\u001b[0m\u001b[1;32m      3\u001b[0m     \u001b[0mVy\u001b[0m \u001b[0;34m=\u001b[0m \u001b[0mVf\u001b[0m \u001b[0;34m+\u001b[0m \u001b[0malg\u001b[0m\u001b[0;34m.\u001b[0m\u001b[0mlike_hypers_\u001b[0m\u001b[0;34m\u001b[0m\u001b[0m\n\u001b[1;32m      4\u001b[0m     \u001b[0mSy\u001b[0m \u001b[0;34m=\u001b[0m \u001b[0mnp\u001b[0m\u001b[0;34m.\u001b[0m\u001b[0msqrt\u001b[0m\u001b[0;34m(\u001b[0m\u001b[0mVy\u001b[0m\u001b[0;34m)\u001b[0m\u001b[0;34m\u001b[0m\u001b[0m\n\u001b[1;32m      5\u001b[0m \u001b[0;32melse\u001b[0m\u001b[0;34m:\u001b[0m\u001b[0;34m\u001b[0m\u001b[0m\n",
      "\u001b[0;32m/home/dsteinberg/Code/revrand/revrand/glm.py\u001b[0m in \u001b[0;36mpredict_moments\u001b[0;34m(self, X, nsamples, likelihood_args)\u001b[0m\n\u001b[1;32m    404\u001b[0m         \u001b[0mN\u001b[0m \u001b[0;34m=\u001b[0m \u001b[0mX\u001b[0m\u001b[0;34m.\u001b[0m\u001b[0mshape\u001b[0m\u001b[0;34m[\u001b[0m\u001b[0;36m0\u001b[0m\u001b[0;34m]\u001b[0m\u001b[0;34m\u001b[0m\u001b[0m\n\u001b[1;32m    405\u001b[0m         \u001b[0mys\u001b[0m \u001b[0;34m=\u001b[0m \u001b[0mnp\u001b[0m\u001b[0;34m.\u001b[0m\u001b[0mempty\u001b[0m\u001b[0;34m(\u001b[0m\u001b[0;34m(\u001b[0m\u001b[0mN\u001b[0m\u001b[0;34m,\u001b[0m \u001b[0mnsamples\u001b[0m\u001b[0;34m)\u001b[0m\u001b[0;34m)\u001b[0m\u001b[0;34m\u001b[0m\u001b[0m\n\u001b[0;32m--> 406\u001b[0;31m         \u001b[0mfsamples\u001b[0m \u001b[0;34m=\u001b[0m \u001b[0mself\u001b[0m\u001b[0;34m.\u001b[0m\u001b[0m_sample_func\u001b[0m\u001b[0;34m(\u001b[0m\u001b[0mX\u001b[0m\u001b[0;34m,\u001b[0m \u001b[0mnsamples\u001b[0m\u001b[0;34m)\u001b[0m\u001b[0;34m\u001b[0m\u001b[0m\n\u001b[0m\u001b[1;32m    407\u001b[0m \u001b[0;34m\u001b[0m\u001b[0m\n\u001b[1;32m    408\u001b[0m         \u001b[0;31m# Push samples though likelihood expected value\u001b[0m\u001b[0;34m\u001b[0m\u001b[0;34m\u001b[0m\u001b[0m\n",
      "\u001b[0;32m/home/dsteinberg/Code/revrand/revrand/glm.py\u001b[0m in \u001b[0;36m_sample_func\u001b[0;34m(self, X, nsamples, genaxis)\u001b[0m\n\u001b[1;32m    597\u001b[0m         \"\"\"\n\u001b[1;32m    598\u001b[0m         check_is_fitted(self, ['weights_', 'covariance_', 'basis_hypers_',\n\u001b[0;32m--> 599\u001b[0;31m                                'like_hypers_', 'regularizer_'])\n\u001b[0m\u001b[1;32m    600\u001b[0m         \u001b[0mX\u001b[0m \u001b[0;34m=\u001b[0m \u001b[0mcheck_array\u001b[0m\u001b[0;34m(\u001b[0m\u001b[0mX\u001b[0m\u001b[0;34m)\u001b[0m\u001b[0;34m\u001b[0m\u001b[0m\n\u001b[1;32m    601\u001b[0m         \u001b[0mD\u001b[0m\u001b[0;34m,\u001b[0m \u001b[0mK\u001b[0m \u001b[0;34m=\u001b[0m \u001b[0mself\u001b[0m\u001b[0;34m.\u001b[0m\u001b[0mweights_\u001b[0m\u001b[0;34m.\u001b[0m\u001b[0mshape\u001b[0m\u001b[0;34m\u001b[0m\u001b[0m\n",
      "\u001b[0;32m/home/dsteinberg/.virtualenvs/revrand/lib/python3.5/site-packages/sklearn/utils/validation.py\u001b[0m in \u001b[0;36mcheck_is_fitted\u001b[0;34m(estimator, attributes, msg, all_or_any)\u001b[0m\n\u001b[1;32m    688\u001b[0m     \u001b[0;32mif\u001b[0m \u001b[0;32mnot\u001b[0m \u001b[0mall_or_any\u001b[0m\u001b[0;34m(\u001b[0m\u001b[0;34m[\u001b[0m\u001b[0mhasattr\u001b[0m\u001b[0;34m(\u001b[0m\u001b[0mestimator\u001b[0m\u001b[0;34m,\u001b[0m \u001b[0mattr\u001b[0m\u001b[0;34m)\u001b[0m \u001b[0;32mfor\u001b[0m \u001b[0mattr\u001b[0m \u001b[0;32min\u001b[0m \u001b[0mattributes\u001b[0m\u001b[0;34m]\u001b[0m\u001b[0;34m)\u001b[0m\u001b[0;34m:\u001b[0m\u001b[0;34m\u001b[0m\u001b[0m\n\u001b[1;32m    689\u001b[0m         \u001b[0;31m# FIXME NotFittedError_ --> NotFittedError in 0.19\u001b[0m\u001b[0;34m\u001b[0m\u001b[0;34m\u001b[0m\u001b[0m\n\u001b[0;32m--> 690\u001b[0;31m         \u001b[0;32mraise\u001b[0m \u001b[0m_NotFittedError\u001b[0m\u001b[0;34m(\u001b[0m\u001b[0mmsg\u001b[0m \u001b[0;34m%\u001b[0m \u001b[0;34m{\u001b[0m\u001b[0;34m'name'\u001b[0m\u001b[0;34m:\u001b[0m \u001b[0mtype\u001b[0m\u001b[0;34m(\u001b[0m\u001b[0mestimator\u001b[0m\u001b[0;34m)\u001b[0m\u001b[0;34m.\u001b[0m\u001b[0m__name__\u001b[0m\u001b[0;34m}\u001b[0m\u001b[0;34m)\u001b[0m\u001b[0;34m\u001b[0m\u001b[0m\n\u001b[0m\u001b[1;32m    691\u001b[0m \u001b[0;34m\u001b[0m\u001b[0m\n\u001b[1;32m    692\u001b[0m \u001b[0;34m\u001b[0m\u001b[0m\n",
      "\u001b[0;31mNotFittedError\u001b[0m: This GeneralizedLinearModel instance is not fitted yet. Call 'fit' with appropriate arguments before using this method."
     ]
    }
   ],
   "source": [
    "if not doGP:\n",
    "    Ey, Vf = alg.predict_moments(X_test)\n",
    "    Vy = Vf + alg.like_hypers_\n",
    "    Sy = np.sqrt(Vy)\n",
    "else:\n",
    "    Ey, Sy = alg.predict(X_test, return_std=True)\n",
    "    Vy = Sy**2\n",
    "\n",
    "print(\"SMSE = {}\".format(smse(y_test, Ey)))\n",
    "print(\"MSLL = {}\".format(msll(y_test, Ey, Vy, y_train)))\n",
    "\n",
    "# YY plot\n",
    "pl.figure(figsize=(15, 10))\n",
    "fancy_yyplot(y_test, Ey, Ey - 2 * Sy, Ey + 2 * Sy, \"Joint torque\")"
   ]
  },
  {
   "cell_type": "code",
   "execution_count": null,
   "metadata": {
    "collapsed": true
   },
   "outputs": [],
   "source": []
  }
 ],
 "metadata": {
  "kernelspec": {
   "display_name": "Python 3",
   "language": "python",
   "name": "python3"
  },
  "language_info": {
   "codemirror_mode": {
    "name": "ipython",
    "version": 3
   },
   "file_extension": ".py",
   "mimetype": "text/x-python",
   "name": "python",
   "nbconvert_exporter": "python",
   "pygments_lexer": "ipython3",
   "version": "3.5.2"
  }
 },
 "nbformat": 4,
 "nbformat_minor": 0
}
