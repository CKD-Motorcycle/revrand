{
 "cells": [
  {
   "cell_type": "markdown",
   "metadata": {},
   "source": [
    "# Comparison of *revrand*'s algorithms on the SARCOS dataset\n",
    "\n",
    "In this notebook we test how the GLM in *revrand* performs on the inverse dynamics experiment conducted in Gaussian Processes for Machine Learning, Chapter 8, page 182. In this experiment there are 21 dimensions, and 44,484 training examples. All GP's are using square exponential covariance functions, with a seperate lengthscale for each dimension."
   ]
  },
  {
   "cell_type": "code",
   "execution_count": 1,
   "metadata": {
    "collapsed": false
   },
   "outputs": [],
   "source": [
    "import logging\n",
    "import numpy as np\n",
    "from scipy.stats import gamma \n",
    "\n",
    "from sklearn.preprocessing import StandardScaler\n",
    "from sklearn.gaussian_process import GaussianProcessRegressor\n",
    "from sklearn.gaussian_process.kernels import WhiteKernel, RBF\n",
    "\n",
    "from revrand import GeneralizedLinearModel, Parameter, Positive\n",
    "from revrand.basis_functions import RandomRBF\n",
    "from revrand.likelihoods import Gaussian\n",
    "from revrand.metrics import smse, msll\n",
    "from revrand.utils.datasets import fetch_gpml_sarcos_data\n",
    "from revrand.optimize import Adam, AdaDelta\n",
    "\n",
    "from plotting import fancy_yyplot\n",
    "import matplotlib.pyplot as pl\n",
    "%matplotlib inline\n",
    "\n",
    "logging.basicConfig(level=logging.INFO)"
   ]
  },
  {
   "cell_type": "markdown",
   "metadata": {},
   "source": [
    "### Settings"
   ]
  },
  {
   "cell_type": "code",
   "execution_count": 2,
   "metadata": {
    "collapsed": false
   },
   "outputs": [],
   "source": [
    "lenscale = gamma(2, scale=50)\n",
    "regularizer = gamma(2, scale=10)\n",
    "var = gamma(2, scale=50)\n",
    "nbases = 8192\n",
    "random_state = 100\n",
    "nsamples = 10\n",
    "\n",
    "batch_size = 10\n",
    "maxiter = int(1e6)\n",
    "updater = Adam()\n",
    "\n",
    "doGP = False\n",
    "m = 1024\n",
    "n_restarts=1"
   ]
  },
  {
   "cell_type": "markdown",
   "metadata": {},
   "source": [
    "### Load the data"
   ]
  },
  {
   "cell_type": "code",
   "execution_count": 3,
   "metadata": {
    "collapsed": false
   },
   "outputs": [
    {
     "name": "stdout",
     "output_type": "stream",
     "text": [
      "Training data shape = (44484, 21)\n",
      "Testing data shape = (4449, 21)\n"
     ]
    }
   ],
   "source": [
    "gpml_sarcos = fetch_gpml_sarcos_data()\n",
    "\n",
    "X_train = gpml_sarcos.train.data\n",
    "y_train = gpml_sarcos.train.targets\n",
    "\n",
    "X_test = gpml_sarcos.test.data\n",
    "y_test = gpml_sarcos.test.targets\n",
    "\n",
    "Ntrain, D = X_train.shape\n",
    "\n",
    "print(\"Training data shape = {}\".format(X_train.shape))\n",
    "print(\"Testing data shape = {}\".format(X_test.shape))\n"
   ]
  },
  {
   "cell_type": "markdown",
   "metadata": {},
   "source": [
    "### Transform targets and inputs\n",
    "As per GPML p23"
   ]
  },
  {
   "cell_type": "code",
   "execution_count": 4,
   "metadata": {
    "collapsed": false
   },
   "outputs": [],
   "source": [
    "# Targets\n",
    "ymean = y_train.mean()\n",
    "y_train -= ymean\n",
    "y_test -= ymean\n",
    "\n",
    "# Inputs\n",
    "Xscaler = StandardScaler()\n",
    "Xscaler.fit(X_train)\n",
    "X_train = Xscaler.transform(X_train)\n",
    "X_test = Xscaler.transform(X_test)"
   ]
  },
  {
   "cell_type": "markdown",
   "metadata": {},
   "source": [
    "### Initialise the algorithms"
   ]
  },
  {
   "cell_type": "code",
   "execution_count": null,
   "metadata": {
    "collapsed": false
   },
   "outputs": [],
   "source": [
    "if not doGP:\n",
    "    lenscale_init = Parameter(lenscale, Positive(), shape=(D,))\n",
    "    var_init = Parameter(var, Positive())\n",
    "    regularizer_init = Parameter(regularizer, Positive())\n",
    "\n",
    "    base = RandomRBF(nbases=nbases,\n",
    "                     Xdim=D,\n",
    "                     lenscale=lenscale_init,\n",
    "                     random_state=random_state,\n",
    "                     regularizer=regularizer_init\n",
    "                    )\n",
    "    llhood = Gaussian(var=var_init)\n",
    "\n",
    "    alg = GeneralizedLinearModel(llhood,\n",
    "                                 base,\n",
    "                                 updater=updater,\n",
    "                                 batch_size=batch_size,\n",
    "                                 maxiter=maxiter,\n",
    "                                 nsamples=nsamples,\n",
    "                                 random_state=random_state\n",
    "                                )\n",
    "else:\n",
    "    kern = 3**2 * RBF(length_scale=np.ones(D), length_scale_bounds=(1e-3, 1e7)) \\\n",
    "        + WhiteKernel(noise_level=1)\n",
    "    alg = GaussianProcessRegressor(kernel=kern, n_restarts_optimizer=n_restarts)"
   ]
  },
  {
   "cell_type": "markdown",
   "metadata": {},
   "source": [
    "### Train the algorithms"
   ]
  },
  {
   "cell_type": "code",
   "execution_count": null,
   "metadata": {
    "collapsed": false,
    "scrolled": true
   },
   "outputs": [
    {
     "name": "stderr",
     "output_type": "stream",
     "text": [
      "INFO:revrand.glm:Optimising parameters...\n",
      "INFO:revrand.optimize.decorators:Evaluating random starts...\n",
      "INFO:revrand.glm:Random starts: Iter -500: ELBO = -820520.8555837772, reg = 24.313851361153127, like_hypers = 33.47730588874769, basis_hypers = [  76.42996497   65.56696126   25.91213202   36.27129218   25.54476686\n",
      "  176.24633782   45.13426946  141.04295011  100.81517553  129.93048633\n",
      "   22.55087162   27.58728302   88.12230696   14.77830918  170.05437885\n",
      "   33.39068582   33.88680412   25.89050631  165.22872133   35.50657709\n",
      "  141.1611294 ]\n"
     ]
    }
   ],
   "source": [
    "if not doGP:\n",
    "    alg.fit(X_train, y_train)\n",
    "else:\n",
    "    rnd = np.random.RandomState(random_state)\n",
    "    t_ind = rnd.choice(Ntrain, size=m, replace=False)\n",
    "    alg.fit(X_train[t_ind], y_train[t_ind])\n"
   ]
  },
  {
   "cell_type": "markdown",
   "metadata": {},
   "source": [
    "### Predict and score\n",
    "\n"
   ]
  },
  {
   "cell_type": "code",
   "execution_count": null,
   "metadata": {
    "collapsed": false
   },
   "outputs": [],
   "source": [
    "if not doGP:\n",
    "    Ey, Vf = alg.predict_moments(X_test)\n",
    "    Vy = Vf + alg.like_hypers_\n",
    "    Sy = np.sqrt(Vy)\n",
    "else:\n",
    "    Ey, Sy = alg.predict(X_test, return_std=True)\n",
    "    Vy = Sy**2\n",
    "\n",
    "print(\"SMSE = {}\".format(smse(y_test, Ey)))\n",
    "print(\"MSLL = {}\".format(msll(y_test, Ey, Vy, y_train)))\n",
    "\n",
    "# YY plot\n",
    "pl.figure(figsize=(15, 10))\n",
    "fancy_yyplot(y_test, Ey, Ey - 2 * Sy, Ey + 2 * Sy, \"Joint torque\")"
   ]
  },
  {
   "cell_type": "code",
   "execution_count": null,
   "metadata": {
    "collapsed": true
   },
   "outputs": [],
   "source": []
  }
 ],
 "metadata": {
  "kernelspec": {
   "display_name": "Python 3",
   "language": "python",
   "name": "python3"
  },
  "language_info": {
   "codemirror_mode": {
    "name": "ipython",
    "version": 3
   },
   "file_extension": ".py",
   "mimetype": "text/x-python",
   "name": "python",
   "nbconvert_exporter": "python",
   "pygments_lexer": "ipython3",
   "version": "3.5.2"
  }
 },
 "nbformat": 4,
 "nbformat_minor": 0
}
