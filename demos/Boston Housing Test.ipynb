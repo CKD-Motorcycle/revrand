{
 "cells": [
  {
   "cell_type": "markdown",
   "metadata": {},
   "source": [
    "Boston Housing Dataset Test\n",
    "===========================\n",
    "\n",
    "In this notebook we test revrand's ARD basis functions on the Boston housing dataset."
   ]
  },
  {
   "cell_type": "code",
   "execution_count": 1,
   "metadata": {
    "collapsed": false
   },
   "outputs": [],
   "source": [
    "import numpy as np\n",
    "from sklearn.datasets import load_boston\n",
    "from sklearn.cross_validation import KFold\n",
    "\n",
    "import revrand.basis_functions as bf\n",
    "from revrand.metrics import smse, msll\n",
    "from revrand.slm import learn, predict\n",
    "from revrand.btypes import Parameter, Positive, Bound\n",
    "\n",
    "# Log output to the terminal attached to this notebook\n",
    "import logging\n",
    "logger = logging.getLogger()\n",
    "logger.setLevel(logging.DEBUG)\n",
    "logging.debug(\"test\")\n"
   ]
  },
  {
   "cell_type": "code",
   "execution_count": 2,
   "metadata": {
    "collapsed": false
   },
   "outputs": [],
   "source": [
    "# Load the data\n",
    "boston = load_boston()\n",
    "X = boston.data\n",
    "y = boston.target - boston.target.mean()\n",
    "\n",
    "N, D = X.shape\n",
    "lenscale = 10.\n",
    "nbases = 200\n",
    "lenARD = lenscale * np.ones(D)\n"
   ]
  },
  {
   "cell_type": "code",
   "execution_count": 3,
   "metadata": {
    "collapsed": false
   },
   "outputs": [],
   "source": [
    "# Construct basis functions\n",
    "base = bf.RandomMatern32(Xdim=D, nbases=nbases, lenscale_init=Parameter(lenARD, Positive())) + \\\n",
    "    bf.LinearBasis(onescol=True)\n",
    "#base = bf.spectralmixture(Xdim=D, bases_per_component=5, lenscales_init=[Parameter(l, Positive()) for l in lenARD]) + \\\n",
    "#    bf.LinearBasis(onescol=True)\n",
    "#base = bf.SigmoidalBasis(centres=X[np.random.choice(N, 10), :], lenscale_init=Parameter(lenARD, Positive())) + \\\n",
    "#    bf.LinearBasis(onescol=True)\n",
    "#base = bf.FastFoodRBF(Xdim=D, nbases=nbases, lenscale_init=Parameter(lenARD, Positive())) + \\\n",
    "#    bf.LinearBasis(onescol=True)\n",
    "    "
   ]
  },
  {
   "cell_type": "code",
   "execution_count": 4,
   "metadata": {
    "collapsed": false
   },
   "outputs": [
    {
     "name": "stdout",
     "output_type": "stream",
     "text": [
      "Fold: 0,\n",
      "\trevrand: SMSE = 0.18841881037678757, MSLL = -0.7647662838713496\n",
      "Fold: 1,\n",
      "\trevrand: SMSE = 0.30787083891819134, MSLL = -0.48176210061086716\n",
      "Fold: 2,\n",
      "\trevrand: SMSE = 0.2538624993036456, MSLL = -0.7362161127359302\n"
     ]
    },
    {
     "name": "stderr",
     "output_type": "stream",
     "text": [
      "/home/dsteinberg/Code/revrand/revrand/optimize/base.py:547: RuntimeWarning: overflow encountered in exp\n",
      "  for xi, pos in zip(x, ispos)])\n",
      "/home/dsteinberg/Code/revrand/revrand/optimize/base.py:549: RuntimeWarning: overflow encountered in exp\n",
      "  for lxi, gi, pos in zip(logx, g, ispos)])\n",
      "/home/dsteinberg/Code/revrand/revrand/optimize/base.py:549: RuntimeWarning: invalid value encountered in double_scalars\n",
      "  for lxi, gi, pos in zip(logx, g, ispos)])\n"
     ]
    },
    {
     "name": "stdout",
     "output_type": "stream",
     "text": [
      "Fold: 3,\n",
      "\trevrand: SMSE = 0.13717082494172678, MSLL = -1.0092322929288136\n"
     ]
    },
    {
     "name": "stderr",
     "output_type": "stream",
     "text": [
      "/home/dsteinberg/Code/revrand/revrand/basis_functions.py:682: RuntimeWarning: overflow encountered in square\n",
      "  dWX = np.outer(X[:, i], - self.W[i, :] / l**2)\n"
     ]
    },
    {
     "name": "stdout",
     "output_type": "stream",
     "text": [
      "Fold: 4,\n",
      "\trevrand: SMSE = 0.33261668579433284, MSLL = -0.36967354439035344\n"
     ]
    }
   ],
   "source": [
    "# Cross val\n",
    "folds = 5\n",
    "av_smse, av_msll = 0., 0.\n",
    "av_smse_gp, av_msll_gp = 0., 0\n",
    "\n",
    "for i, (tr_ind, ts_ind) in enumerate(KFold(len(y), n_folds=folds, shuffle=True)):\n",
    "    \n",
    "    # Training\n",
    "    params = learn(X[tr_ind], y[tr_ind], base)\n",
    "    \n",
    "    # Prediction\n",
    "    Ey, Vf, Vy = predict(X[ts_ind], base, *params)\n",
    "\n",
    "    # Validation\n",
    "    f_smse, f_msll = smse(y[ts_ind], Ey), msll(y[ts_ind], Ey, Vy, y[tr_ind])\n",
    "\n",
    "    av_smse += f_smse\n",
    "    av_msll += f_msll\n",
    "    \n",
    "    print(\"Fold: {},\\n\\trevrand: SMSE = {}, MSLL = {}\".format(i, f_smse, f_msll))\n",
    "    \n",
    "av_smse /= folds\n",
    "av_msll /= folds\n"
   ]
  },
  {
   "cell_type": "code",
   "execution_count": 7,
   "metadata": {
    "collapsed": false
   },
   "outputs": [
    {
     "name": "stdout",
     "output_type": "stream",
     "text": [
      "Final:\n",
      "\trevrand: SMSE = 0.24398793186693682, MSLL = -0.6723300669074628\n"
     ]
    }
   ],
   "source": [
    "# Print results\n",
    "print(\"Final:\\n\\trevrand: SMSE = {}, MSLL = {}\".format(av_smse, av_msll))\n"
   ]
  },
  {
   "cell_type": "code",
   "execution_count": null,
   "metadata": {
    "collapsed": true
   },
   "outputs": [],
   "source": []
  }
 ],
 "metadata": {
  "kernelspec": {
   "display_name": "Python 3",
   "language": "python",
   "name": "python3"
  },
  "language_info": {
   "codemirror_mode": {
    "name": "ipython",
    "version": 3
   },
   "file_extension": ".py",
   "mimetype": "text/x-python",
   "name": "python",
   "nbconvert_exporter": "python",
   "pygments_lexer": "ipython3",
   "version": "3.5.1"
  }
 },
 "nbformat": 4,
 "nbformat_minor": 0
}
