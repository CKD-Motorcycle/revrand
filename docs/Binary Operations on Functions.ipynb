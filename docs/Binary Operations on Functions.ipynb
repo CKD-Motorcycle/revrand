{
 "cells": [
  {
   "cell_type": "markdown",
   "metadata": {},
   "source": [
    "### Adding support for operations on functions in Python\n",
    "\n",
    "This notebook looks at how we can support operations on functions. Some operations include\n",
    "\n",
    "#### Arithmetic operations\n",
    "\n",
    "$$\n",
    "(f+g)(x) = f(x) + g(x)\n",
    "$$\n",
    "\n",
    "$$\n",
    "(f - g)(x) = f(x) - g(x)\n",
    "$$\n",
    "\n",
    "$$\n",
    "(f \\cdot g)(x) = f(x) \\cdot g(x)\n",
    "$$\n",
    "\n",
    "$$\n",
    "\\left(\\frac{f}{g}\\right)(x) = \\frac{f(x)}{g(x)}\n",
    "$$\n",
    "\n",
    "etc ...\n",
    "\n",
    "#### Additional operations\n",
    "\n",
    "Augmentation (concatenation)\n",
    "$$\n",
    "(f | g)(x) = \\begin{bmatrix} f(x) & g(x) \\end{bmatrix}\n",
    "$$\n",
    "\n",
    "Composition\n",
    "$$\n",
    "(f \\circ g)(x) = f(g(x))\n",
    "$$"
   ]
  },
  {
   "cell_type": "code",
   "execution_count": 1,
   "metadata": {
    "collapsed": true
   },
   "outputs": [],
   "source": [
    "def f(x):\n",
    "    return 4*x"
   ]
  },
  {
   "cell_type": "code",
   "execution_count": 2,
   "metadata": {
    "collapsed": true
   },
   "outputs": [],
   "source": [
    "def g(x): \n",
    "    return x+5"
   ]
  },
  {
   "cell_type": "code",
   "execution_count": 3,
   "metadata": {
    "collapsed": false
   },
   "outputs": [
    {
     "data": {
      "text/plain": [
       "20"
      ]
     },
     "execution_count": 3,
     "metadata": {},
     "output_type": "execute_result"
    }
   ],
   "source": [
    "f(5)"
   ]
  },
  {
   "cell_type": "code",
   "execution_count": 4,
   "metadata": {
    "collapsed": false
   },
   "outputs": [
    {
     "data": {
      "text/plain": [
       "10"
      ]
     },
     "execution_count": 4,
     "metadata": {},
     "output_type": "execute_result"
    }
   ],
   "source": [
    "g(5)"
   ]
  },
  {
   "cell_type": "code",
   "execution_count": 5,
   "metadata": {
    "collapsed": false
   },
   "outputs": [
    {
     "data": {
      "text/plain": [
       "30"
      ]
     },
     "execution_count": 5,
     "metadata": {},
     "output_type": "execute_result"
    }
   ],
   "source": [
    "f(5)+g(5)"
   ]
  },
  {
   "cell_type": "markdown",
   "metadata": {},
   "source": [
    "Obviously, we can't do this yet because first-class functions do not support arithmetic operations "
   ]
  },
  {
   "cell_type": "code",
   "execution_count": 6,
   "metadata": {
    "collapsed": false,
    "scrolled": true
   },
   "outputs": [
    {
     "ename": "TypeError",
     "evalue": "unsupported operand type(s) for +: 'function' and 'function'",
     "output_type": "error",
     "traceback": [
      "\u001b[0;31m---------------------------------------------------------------------------\u001b[0m",
      "\u001b[0;31mTypeError\u001b[0m                                 Traceback (most recent call last)",
      "\u001b[0;32m<ipython-input-6-de9dec55d2f0>\u001b[0m in \u001b[0;36m<module>\u001b[0;34m()\u001b[0m\n\u001b[0;32m----> 1\u001b[0;31m \u001b[0;34m(\u001b[0m\u001b[0mf\u001b[0m\u001b[0;34m+\u001b[0m\u001b[0mg\u001b[0m\u001b[0;34m)\u001b[0m\u001b[0;34m(\u001b[0m\u001b[0;36m5\u001b[0m\u001b[0;34m)\u001b[0m\u001b[0;34m\u001b[0m\u001b[0m\n\u001b[0m",
      "\u001b[0;31mTypeError\u001b[0m: unsupported operand type(s) for +: 'function' and 'function'"
     ]
    }
   ],
   "source": [
    "(f+g)(5)"
   ]
  },
  {
   "cell_type": "markdown",
   "metadata": {},
   "source": [
    "We write a decorator that augments a function (callable) with arithmetic operations "
   ]
  },
  {
   "cell_type": "code",
   "execution_count": 7,
   "metadata": {
    "collapsed": true
   },
   "outputs": [],
   "source": [
    "class FunctionWrapper:\n",
    "    \n",
    "    def __init__(self, fn):\n",
    "        self.fn = fn\n",
    "        \n",
    "    def __call__(self, *args, **kwargs):\n",
    "        return self.fn(*args, **kwargs)\n",
    "\n",
    "    def __add__(self, other):\n",
    "        return lambda *args, **kwargs: self(*args, **kwargs).__add__(other(*args, **kwargs))\n",
    "    \n",
    "    def __sub__(self, other):\n",
    "        return lambda *args, **kwargs: self(*args, **kwargs).__sub__(other(*args, **kwargs))\n",
    "\n",
    "    def __mul__(self, other):\n",
    "        return lambda *args, **kwargs: self(*args, **kwargs).__mul__(other(*args, **kwargs))\n",
    "    \n",
    "    def __div__(self, other): \n",
    "        return lambda *args, **kwargs: self(*args, **kwargs).__div__(other(*args, **kwargs))\n",
    "    \n",
    "    # etc ..."
   ]
  },
  {
   "cell_type": "code",
   "execution_count": 8,
   "metadata": {
    "collapsed": true
   },
   "outputs": [],
   "source": [
    "@FunctionWrapper\n",
    "def f(x):\n",
    "    return 4*x"
   ]
  },
  {
   "cell_type": "code",
   "execution_count": 9,
   "metadata": {
    "collapsed": true
   },
   "outputs": [],
   "source": [
    "@FunctionWrapper\n",
    "def g(x): \n",
    "    return x+5"
   ]
  },
  {
   "cell_type": "code",
   "execution_count": 10,
   "metadata": {
    "collapsed": false
   },
   "outputs": [
    {
     "data": {
      "text/plain": [
       "10"
      ]
     },
     "execution_count": 10,
     "metadata": {},
     "output_type": "execute_result"
    }
   ],
   "source": [
    "g(5)"
   ]
  },
  {
   "cell_type": "code",
   "execution_count": 11,
   "metadata": {
    "collapsed": false
   },
   "outputs": [
    {
     "data": {
      "text/plain": [
       "30"
      ]
     },
     "execution_count": 11,
     "metadata": {},
     "output_type": "execute_result"
    }
   ],
   "source": [
    "(f+g)(5)"
   ]
  },
  {
   "cell_type": "code",
   "execution_count": 12,
   "metadata": {
    "collapsed": false
   },
   "outputs": [
    {
     "data": {
      "text/plain": [
       "200"
      ]
     },
     "execution_count": 12,
     "metadata": {},
     "output_type": "execute_result"
    }
   ],
   "source": [
    "(f*g)(5)"
   ]
  },
  {
   "cell_type": "code",
   "execution_count": 13,
   "metadata": {
    "collapsed": false
   },
   "outputs": [
    {
     "data": {
      "text/plain": [
       "300"
      ]
     },
     "execution_count": 13,
     "metadata": {},
     "output_type": "execute_result"
    }
   ],
   "source": [
    "f(5)*g(5)+g(5)*g(5)"
   ]
  },
  {
   "cell_type": "code",
   "execution_count": 14,
   "metadata": {
    "collapsed": false
   },
   "outputs": [
    {
     "ename": "TypeError",
     "evalue": "unsupported operand type(s) for +: 'function' and 'function'",
     "output_type": "error",
     "traceback": [
      "\u001b[0;31m---------------------------------------------------------------------------\u001b[0m",
      "\u001b[0;31mTypeError\u001b[0m                                 Traceback (most recent call last)",
      "\u001b[0;32m<ipython-input-14-1203266aebef>\u001b[0m in \u001b[0;36m<module>\u001b[0;34m()\u001b[0m\n\u001b[0;32m----> 1\u001b[0;31m \u001b[0;34m(\u001b[0m\u001b[0mf\u001b[0m\u001b[0;34m*\u001b[0m\u001b[0mg\u001b[0m\u001b[0;34m+\u001b[0m\u001b[0mg\u001b[0m\u001b[0;34m*\u001b[0m\u001b[0mg\u001b[0m\u001b[0;34m)\u001b[0m\u001b[0;34m(\u001b[0m\u001b[0;36m5\u001b[0m\u001b[0;34m)\u001b[0m\u001b[0;34m\u001b[0m\u001b[0m\n\u001b[0m",
      "\u001b[0;31mTypeError\u001b[0m: unsupported operand type(s) for +: 'function' and 'function'"
     ]
    }
   ],
   "source": [
    "(f*g+g*g)(5)"
   ]
  },
  {
   "cell_type": "markdown",
   "metadata": {},
   "source": [
    "This breaks down as functions that result from operations on functions are not augmented. E.g. in the example above, `f*g` and `g*g` are now just first-class functions which of course do not support arithmetic operations."
   ]
  },
  {
   "cell_type": "markdown",
   "metadata": {},
   "source": [
    "### Recursive class definitions"
   ]
  },
  {
   "cell_type": "markdown",
   "metadata": {},
   "source": [
    "This is easily remedied with recursive class definitions."
   ]
  },
  {
   "cell_type": "code",
   "execution_count": 15,
   "metadata": {
    "collapsed": true
   },
   "outputs": [],
   "source": [
    "class FunctionWrapper:\n",
    "    \n",
    "    def __init__(self, fn):\n",
    "        self.fn = fn\n",
    "        \n",
    "    def __call__(self, *args, **kwargs):\n",
    "        return self.fn(*args, **kwargs)\n",
    "\n",
    "    def __add__(self, other):\n",
    "        return FunctionWrapper(lambda *args, **kwargs: self(*args, **kwargs).__add__(other(*args, **kwargs)))\n",
    "    \n",
    "    def __sub__(self, other):\n",
    "        return FunctionWrapper(lambda *args, **kwargs: self(*args, **kwargs).__sub__(other(*args, **kwargs)))\n",
    "\n",
    "    def __mul__(self, other):\n",
    "        return FunctionWrapper(lambda *args, **kwargs: self(*args, **kwargs).__mul__(other(*args, **kwargs)))\n",
    "    \n",
    "    def __div__(self, other): \n",
    "        return FunctionWrapper(lambda *args, **kwargs: self(*args, **kwargs).__div__(other(*args, **kwargs)))\n",
    "    \n",
    "    # etc ..."
   ]
  },
  {
   "cell_type": "code",
   "execution_count": 16,
   "metadata": {
    "collapsed": false
   },
   "outputs": [],
   "source": [
    "@FunctionWrapper\n",
    "def f(x):\n",
    "    return 4*x"
   ]
  },
  {
   "cell_type": "code",
   "execution_count": 17,
   "metadata": {
    "collapsed": true
   },
   "outputs": [],
   "source": [
    "@FunctionWrapper\n",
    "def g(x): \n",
    "    return x+5"
   ]
  },
  {
   "cell_type": "code",
   "execution_count": 18,
   "metadata": {
    "collapsed": false
   },
   "outputs": [
    {
     "data": {
      "text/plain": [
       "300"
      ]
     },
     "execution_count": 18,
     "metadata": {},
     "output_type": "execute_result"
    }
   ],
   "source": [
    "(f*g+g*g)(5)"
   ]
  },
  {
   "cell_type": "code",
   "execution_count": 19,
   "metadata": {
    "collapsed": false
   },
   "outputs": [],
   "source": [
    "h = f*g+g*g"
   ]
  },
  {
   "cell_type": "code",
   "execution_count": 20,
   "metadata": {
    "collapsed": false
   },
   "outputs": [
    {
     "data": {
      "text/plain": [
       "300"
      ]
     },
     "execution_count": 20,
     "metadata": {},
     "output_type": "execute_result"
    }
   ],
   "source": [
    "h(5)"
   ]
  },
  {
   "cell_type": "markdown",
   "metadata": {},
   "source": [
    "We can even create constant functions."
   ]
  },
  {
   "cell_type": "code",
   "execution_count": 21,
   "metadata": {
    "collapsed": false
   },
   "outputs": [
    {
     "data": {
      "text/plain": [
       "505"
      ]
     },
     "execution_count": 21,
     "metadata": {},
     "output_type": "execute_result"
    }
   ],
   "source": [
    "2*f(5)*g(5)+g(5)*g(5)+5"
   ]
  },
  {
   "cell_type": "code",
   "execution_count": 22,
   "metadata": {
    "collapsed": true
   },
   "outputs": [],
   "source": [
    "h = FunctionWrapper(lambda _: 2)*f*g+g*g+FunctionWrapper(lambda _: 5)"
   ]
  },
  {
   "cell_type": "code",
   "execution_count": 23,
   "metadata": {
    "collapsed": false
   },
   "outputs": [
    {
     "data": {
      "text/plain": [
       "505"
      ]
     },
     "execution_count": 23,
     "metadata": {},
     "output_type": "execute_result"
    }
   ],
   "source": [
    "h(5)"
   ]
  },
  {
   "cell_type": "markdown",
   "metadata": {},
   "source": [
    "We can support this directly by implementing an alternative constructor"
   ]
  },
  {
   "cell_type": "code",
   "execution_count": 24,
   "metadata": {
    "collapsed": true
   },
   "outputs": [],
   "source": [
    "class FunctionWrapper:\n",
    "    \n",
    "    def __init__(self, fn):\n",
    "        self.fn = fn\n",
    "        \n",
    "    @classmethod\n",
    "    def const(cls, c):\n",
    "        return cls(lambda _: c)\n",
    "        \n",
    "    def __call__(self, *args, **kwargs):\n",
    "        return self.fn(*args, **kwargs)\n",
    "\n",
    "    def __add__(self, other):\n",
    "        return FunctionWrapper(lambda *args, **kwargs: self(*args, **kwargs).__add__(other(*args, **kwargs)))\n",
    "    \n",
    "    def __sub__(self, other):\n",
    "        return FunctionWrapper(lambda *args, **kwargs: self(*args, **kwargs).__sub__(other(*args, **kwargs)))\n",
    "\n",
    "    def __mul__(self, other):\n",
    "        return FunctionWrapper(lambda *args, **kwargs: self(*args, **kwargs).__mul__(other(*args, **kwargs)))\n",
    "    \n",
    "    def __div__(self, other): \n",
    "        return FunctionWrapper(lambda *args, **kwargs: self(*args, **kwargs).__div__(other(*args, **kwargs)))\n",
    "    \n",
    "    # etc ..."
   ]
  },
  {
   "cell_type": "code",
   "execution_count": 25,
   "metadata": {
    "collapsed": false
   },
   "outputs": [],
   "source": [
    "h = FunctionWrapper.const(2)*f*g+g*g+FunctionWrapper.const(5)"
   ]
  },
  {
   "cell_type": "code",
   "execution_count": 26,
   "metadata": {
    "collapsed": false
   },
   "outputs": [
    {
     "data": {
      "text/plain": [
       "505"
      ]
     },
     "execution_count": 26,
     "metadata": {},
     "output_type": "execute_result"
    }
   ],
   "source": [
    "h(5)"
   ]
  },
  {
   "cell_type": "markdown",
   "metadata": {},
   "source": [
    "This is a lot of repetitive code. We can greatly simplify this with a metaclass."
   ]
  },
  {
   "cell_type": "markdown",
   "metadata": {},
   "source": [
    "#### Dynamically obtaining binary operators "
   ]
  },
  {
   "cell_type": "markdown",
   "metadata": {},
   "source": [
    "The metaclasses approach works because we are able to get magic methods dynamically"
   ]
  },
  {
   "cell_type": "code",
   "execution_count": 27,
   "metadata": {
    "collapsed": false
   },
   "outputs": [
    {
     "data": {
      "text/plain": [
       "True"
      ]
     },
     "execution_count": 27,
     "metadata": {},
     "output_type": "execute_result"
    }
   ],
   "source": [
    "6 + 8 == getattr(6, '__add__')(8)"
   ]
  },
  {
   "cell_type": "code",
   "execution_count": 28,
   "metadata": {
    "collapsed": false
   },
   "outputs": [
    {
     "data": {
      "text/plain": [
       "True"
      ]
     },
     "execution_count": 28,
     "metadata": {},
     "output_type": "execute_result"
    }
   ],
   "source": [
    "6 * 8 == getattr(6, '__mul__')(8)"
   ]
  },
  {
   "cell_type": "markdown",
   "metadata": {},
   "source": [
    "### Metaclasses to the rescue"
   ]
  },
  {
   "cell_type": "code",
   "execution_count": 29,
   "metadata": {
    "collapsed": true
   },
   "outputs": [],
   "source": [
    "class FunctionWrapperMeta(type):\n",
    "    \n",
    "    def __new__(cls, name, bases, dct):\n",
    "        for method in dct['methods']:\n",
    "            dct[method] = lambda self, other: lambda *args, **kwargs: getattr(self(*args, **kwargs), method)(other(*args, **kwargs))\n",
    "        return super(FunctionWrapperMeta, cls).__new__(cls, name, bases, dct)"
   ]
  },
  {
   "cell_type": "code",
   "execution_count": 30,
   "metadata": {
    "collapsed": false
   },
   "outputs": [],
   "source": [
    "class FunctionWrapper:\n",
    "    __metaclass__ = FunctionWrapperMeta\n",
    "    \n",
    "    methods = ['__add__', '__mul__', '__sub__', '__div__']\n",
    "    \n",
    "    def __init__(self, fn):\n",
    "        self.fn = fn\n",
    "        \n",
    "    def __call__(self, *args, **kwargs):\n",
    "        return self.fn(*args, **kwargs)"
   ]
  },
  {
   "cell_type": "code",
   "execution_count": 31,
   "metadata": {
    "collapsed": false
   },
   "outputs": [],
   "source": [
    "@FunctionWrapper\n",
    "def f(x):\n",
    "    return 4*x"
   ]
  },
  {
   "cell_type": "code",
   "execution_count": 32,
   "metadata": {
    "collapsed": false
   },
   "outputs": [],
   "source": [
    "@FunctionWrapper\n",
    "def g(x): \n",
    "    return x+5"
   ]
  },
  {
   "cell_type": "code",
   "execution_count": 33,
   "metadata": {
    "collapsed": false
   },
   "outputs": [
    {
     "data": {
      "text/plain": [
       "20"
      ]
     },
     "execution_count": 33,
     "metadata": {},
     "output_type": "execute_result"
    }
   ],
   "source": [
    "f(5)"
   ]
  },
  {
   "cell_type": "code",
   "execution_count": 34,
   "metadata": {
    "collapsed": false
   },
   "outputs": [
    {
     "data": {
      "text/plain": [
       "10"
      ]
     },
     "execution_count": 34,
     "metadata": {},
     "output_type": "execute_result"
    }
   ],
   "source": [
    "g(5)"
   ]
  },
  {
   "cell_type": "code",
   "execution_count": 35,
   "metadata": {
    "collapsed": false
   },
   "outputs": [
    {
     "data": {
      "text/plain": [
       "2"
      ]
     },
     "execution_count": 35,
     "metadata": {},
     "output_type": "execute_result"
    }
   ],
   "source": [
    "(f+g)(5)"
   ]
  },
  {
   "cell_type": "code",
   "execution_count": 36,
   "metadata": {
    "collapsed": false
   },
   "outputs": [
    {
     "data": {
      "text/plain": [
       "2"
      ]
     },
     "execution_count": 36,
     "metadata": {},
     "output_type": "execute_result"
    }
   ],
   "source": [
    "(f-g)(5)"
   ]
  },
  {
   "cell_type": "code",
   "execution_count": 37,
   "metadata": {
    "collapsed": false
   },
   "outputs": [
    {
     "data": {
      "text/plain": [
       "2"
      ]
     },
     "execution_count": 37,
     "metadata": {},
     "output_type": "execute_result"
    }
   ],
   "source": [
    "(f*g)(5)"
   ]
  },
  {
   "cell_type": "code",
   "execution_count": 38,
   "metadata": {
    "collapsed": false
   },
   "outputs": [
    {
     "data": {
      "text/plain": [
       "2"
      ]
     },
     "execution_count": 38,
     "metadata": {},
     "output_type": "execute_result"
    }
   ],
   "source": [
    "(f/g)(5)"
   ]
  },
  {
   "cell_type": "code",
   "execution_count": 39,
   "metadata": {
    "collapsed": false
   },
   "outputs": [
    {
     "data": {
      "text/plain": [
       "2"
      ]
     },
     "execution_count": 39,
     "metadata": {},
     "output_type": "execute_result"
    }
   ],
   "source": [
    "f(5)/g(5)"
   ]
  },
  {
   "cell_type": "markdown",
   "metadata": {},
   "source": [
    "#### GOTCHA: Python's closures are late binding!"
   ]
  },
  {
   "cell_type": "code",
   "execution_count": 40,
   "metadata": {
    "collapsed": true
   },
   "outputs": [],
   "source": [
    "def multipliers(n):\n",
    "    fns = []\n",
    "    for m in range(n):\n",
    "        fns.append(lambda x: m*x)\n",
    "    return fns"
   ]
  },
  {
   "cell_type": "code",
   "execution_count": 41,
   "metadata": {
    "collapsed": false
   },
   "outputs": [
    {
     "name": "stdout",
     "output_type": "stream",
     "text": [
      "12\n",
      "12\n",
      "12\n",
      "12\n",
      "12\n"
     ]
    }
   ],
   "source": [
    "for mul in multipliers(5):\n",
    "    print mul(3)"
   ]
  },
  {
   "cell_type": "markdown",
   "metadata": {},
   "source": [
    "#### Solution"
   ]
  },
  {
   "cell_type": "code",
   "execution_count": 45,
   "metadata": {
    "collapsed": true
   },
   "outputs": [],
   "source": [
    "make_fn = lambda m: lambda x: m*x"
   ]
  },
  {
   "cell_type": "code",
   "execution_count": 48,
   "metadata": {
    "collapsed": false
   },
   "outputs": [],
   "source": [
    "def multipliers(n):\n",
    "    fns = []\n",
    "    for m in range(n):\n",
    "        fns.append(make_fn(m))\n",
    "    return fns"
   ]
  },
  {
   "cell_type": "code",
   "execution_count": 49,
   "metadata": {
    "collapsed": false
   },
   "outputs": [
    {
     "name": "stdout",
     "output_type": "stream",
     "text": [
      "0\n",
      "3\n",
      "6\n",
      "9\n",
      "12\n"
     ]
    }
   ],
   "source": [
    "for mul in multipliers(5):\n",
    "    print mul(3)"
   ]
  },
  {
   "cell_type": "code",
   "execution_count": 50,
   "metadata": {
    "collapsed": true
   },
   "outputs": [],
   "source": [
    "make_method = lambda method: lambda self, other: lambda *args, **kwargs: getattr(self(*args, **kwargs), method)(other(*args, **kwargs))"
   ]
  },
  {
   "cell_type": "code",
   "execution_count": 51,
   "metadata": {
    "collapsed": true
   },
   "outputs": [],
   "source": [
    "class FunctionWrapperMeta(type):\n",
    "    \n",
    "    def __new__(cls, name, bases, dct):\n",
    "        for method in dct['methods']:\n",
    "            dct[method] = make_method(method)\n",
    "        return super(FunctionWrapperMeta, cls).__new__(cls, name, bases, dct)"
   ]
  },
  {
   "cell_type": "code",
   "execution_count": 52,
   "metadata": {
    "collapsed": true
   },
   "outputs": [],
   "source": [
    "class FunctionWrapper:\n",
    "    __metaclass__ = FunctionWrapperMeta\n",
    "    \n",
    "    methods = ['__add__', '__mul__', '__sub__', '__div__']\n",
    "    \n",
    "    def __init__(self, fn):\n",
    "        self.fn = fn\n",
    "\n",
    "    def __call__(self, *args, **kwargs):\n",
    "        return self.fn(*args, **kwargs)"
   ]
  },
  {
   "cell_type": "code",
   "execution_count": 53,
   "metadata": {
    "collapsed": true
   },
   "outputs": [],
   "source": [
    "@FunctionWrapper\n",
    "def f(x):\n",
    "    return 4*x"
   ]
  },
  {
   "cell_type": "code",
   "execution_count": 54,
   "metadata": {
    "collapsed": true
   },
   "outputs": [],
   "source": [
    "@FunctionWrapper\n",
    "def g(x): \n",
    "    return x+5"
   ]
  },
  {
   "cell_type": "code",
   "execution_count": 55,
   "metadata": {
    "collapsed": false
   },
   "outputs": [
    {
     "data": {
      "text/plain": [
       "20"
      ]
     },
     "execution_count": 55,
     "metadata": {},
     "output_type": "execute_result"
    }
   ],
   "source": [
    "f(5)"
   ]
  },
  {
   "cell_type": "code",
   "execution_count": 56,
   "metadata": {
    "collapsed": false
   },
   "outputs": [
    {
     "data": {
      "text/plain": [
       "10"
      ]
     },
     "execution_count": 56,
     "metadata": {},
     "output_type": "execute_result"
    }
   ],
   "source": [
    "g(5)"
   ]
  },
  {
   "cell_type": "code",
   "execution_count": 57,
   "metadata": {
    "collapsed": false
   },
   "outputs": [
    {
     "data": {
      "text/plain": [
       "30"
      ]
     },
     "execution_count": 57,
     "metadata": {},
     "output_type": "execute_result"
    }
   ],
   "source": [
    "(f+g)(5)"
   ]
  },
  {
   "cell_type": "code",
   "execution_count": 58,
   "metadata": {
    "collapsed": false
   },
   "outputs": [
    {
     "data": {
      "text/plain": [
       "10"
      ]
     },
     "execution_count": 58,
     "metadata": {},
     "output_type": "execute_result"
    }
   ],
   "source": [
    "(f-g)(5)"
   ]
  },
  {
   "cell_type": "code",
   "execution_count": 59,
   "metadata": {
    "collapsed": false
   },
   "outputs": [
    {
     "data": {
      "text/plain": [
       "200"
      ]
     },
     "execution_count": 59,
     "metadata": {},
     "output_type": "execute_result"
    }
   ],
   "source": [
    "(f*g)(5)"
   ]
  },
  {
   "cell_type": "code",
   "execution_count": 60,
   "metadata": {
    "collapsed": false
   },
   "outputs": [
    {
     "data": {
      "text/plain": [
       "2"
      ]
     },
     "execution_count": 60,
     "metadata": {},
     "output_type": "execute_result"
    }
   ],
   "source": [
    "(f/g)(5)"
   ]
  },
  {
   "cell_type": "markdown",
   "metadata": {},
   "source": [
    "# TODO: Recursive class definition"
   ]
  },
  {
   "cell_type": "markdown",
   "metadata": {},
   "source": [
    "### Beyond scalar functions: vector/matrix-valued functions"
   ]
  },
  {
   "cell_type": "markdown",
   "metadata": {},
   "source": [
    "This extends trivially to vector and matrix-valued functions. Specifically, an operation on any arbitrary function will work as long as the operation is well-defined on the return type of the function."
   ]
  },
  {
   "cell_type": "code",
   "execution_count": 62,
   "metadata": {
    "collapsed": true
   },
   "outputs": [],
   "source": [
    "import numpy as np\n",
    "from scipy.spatial.distance import cdist"
   ]
  },
  {
   "cell_type": "code",
   "execution_count": 63,
   "metadata": {
    "collapsed": false
   },
   "outputs": [],
   "source": [
    "@FunctionWrapper\n",
    "def polynomial_basis(X, deg=2):\n",
    "    return X**np.arange(deg+1)"
   ]
  },
  {
   "cell_type": "code",
   "execution_count": 64,
   "metadata": {
    "collapsed": false
   },
   "outputs": [
    {
     "data": {
      "text/plain": [
       "array([[5],\n",
       "       [5],\n",
       "       [1],\n",
       "       [1],\n",
       "       [6],\n",
       "       [6],\n",
       "       [7],\n",
       "       [9],\n",
       "       [4],\n",
       "       [1]])"
      ]
     },
     "execution_count": 64,
     "metadata": {},
     "output_type": "execute_result"
    }
   ],
   "source": [
    "X = np.random.randint(10, size=(10, 1)); X"
   ]
  },
  {
   "cell_type": "code",
   "execution_count": 65,
   "metadata": {
    "collapsed": false
   },
   "outputs": [
    {
     "data": {
      "text/plain": [
       "array([[ 1,  5, 25],\n",
       "       [ 1,  5, 25],\n",
       "       [ 1,  1,  1],\n",
       "       [ 1,  1,  1],\n",
       "       [ 1,  6, 36],\n",
       "       [ 1,  6, 36],\n",
       "       [ 1,  7, 49],\n",
       "       [ 1,  9, 81],\n",
       "       [ 1,  4, 16],\n",
       "       [ 1,  1,  1]])"
      ]
     },
     "execution_count": 65,
     "metadata": {},
     "output_type": "execute_result"
    }
   ],
   "source": [
    "polynomial_basis(X)"
   ]
  },
  {
   "cell_type": "code",
   "execution_count": 66,
   "metadata": {
    "collapsed": false
   },
   "outputs": [
    {
     "data": {
      "text/plain": [
       "array([[  2,  10,  50],\n",
       "       [  2,  10,  50],\n",
       "       [  2,   2,   2],\n",
       "       [  2,   2,   2],\n",
       "       [  2,  12,  72],\n",
       "       [  2,  12,  72],\n",
       "       [  2,  14,  98],\n",
       "       [  2,  18, 162],\n",
       "       [  2,   8,  32],\n",
       "       [  2,   2,   2]])"
      ]
     },
     "execution_count": 66,
     "metadata": {},
     "output_type": "execute_result"
    }
   ],
   "source": [
    "(polynomial_basis+polynomial_basis)(X)"
   ]
  },
  {
   "cell_type": "markdown",
   "metadata": {},
   "source": [
    "#### Example: Covariance functions"
   ]
  },
  {
   "cell_type": "code",
   "execution_count": 67,
   "metadata": {
    "collapsed": true
   },
   "outputs": [],
   "source": [
    "@FunctionWrapper\n",
    "def sqr_exp(x_p, x_q=None, len_scale=1.):\n",
    "\n",
    "    if x_q is None:\n",
    "        return np.ones_like(x_p).ravel()\n",
    "    r_sq = cdist(x_p, x_q, 'sqeuclidean')\n",
    "    return np.exp(-0.5*r_sq/len_scale**2)"
   ]
  },
  {
   "cell_type": "code",
   "execution_count": 68,
   "metadata": {
    "collapsed": true
   },
   "outputs": [],
   "source": [
    "@FunctionWrapper\n",
    "def matern32(x_p, x_q=None, len_scale=1.):\n",
    "\n",
    "    if x_q is None:\n",
    "        return np.ones_like(x_p).ravel()\n",
    "    r = cdist(x_p, x_q, 'euclidean')\n",
    "    s = np.sqrt(3)*r/len_scale\n",
    "    return (1+s)*np.exp(-s)"
   ]
  },
  {
   "cell_type": "code",
   "execution_count": 69,
   "metadata": {
    "collapsed": true
   },
   "outputs": [],
   "source": [
    "x_p = np.array([[ 0.25],\n",
    "                [ 0.75]])"
   ]
  },
  {
   "cell_type": "code",
   "execution_count": 70,
   "metadata": {
    "collapsed": true
   },
   "outputs": [],
   "source": [
    "x_q = np.array([[ 0.60],\n",
    "                [ 0.12],\n",
    "                [ 0.75]])"
   ]
  },
  {
   "cell_type": "code",
   "execution_count": 71,
   "metadata": {
    "collapsed": false
   },
   "outputs": [
    {
     "data": {
      "text/plain": [
       "array([[ 0.78,  0.97,  0.61],\n",
       "       [ 0.96,  0.45,  1.  ]])"
      ]
     },
     "execution_count": 71,
     "metadata": {},
     "output_type": "execute_result"
    }
   ],
   "source": [
    "sqr_exp(x_p, x_q, 0.5).round(2)"
   ]
  },
  {
   "cell_type": "code",
   "execution_count": 72,
   "metadata": {
    "collapsed": false
   },
   "outputs": [
    {
     "data": {
      "text/plain": [
       "array([[ 0.66,  0.92,  0.48],\n",
       "       [ 0.9 ,  0.36,  1.  ]])"
      ]
     },
     "execution_count": 72,
     "metadata": {},
     "output_type": "execute_result"
    }
   ],
   "source": [
    "matern32(x_p, x_q, 0.5).round(2)"
   ]
  },
  {
   "cell_type": "code",
   "execution_count": 73,
   "metadata": {
    "collapsed": false
   },
   "outputs": [
    {
     "data": {
      "text/plain": [
       "array([[ 1.44,  1.89,  1.09],\n",
       "       [ 1.86,  0.81,  2.  ]])"
      ]
     },
     "execution_count": 73,
     "metadata": {},
     "output_type": "execute_result"
    }
   ],
   "source": [
    "(sqr_exp(x_p, x_q, 0.5)+matern32(x_p, x_q, 0.5)).round(2)"
   ]
  },
  {
   "cell_type": "code",
   "execution_count": 74,
   "metadata": {
    "collapsed": false
   },
   "outputs": [
    {
     "data": {
      "text/plain": [
       "array([[ 1.44,  1.89,  1.09],\n",
       "       [ 1.86,  0.81,  2.  ]])"
      ]
     },
     "execution_count": 74,
     "metadata": {},
     "output_type": "execute_result"
    }
   ],
   "source": [
    "(sqr_exp + matern32)(x_p, x_q, 0.5).round(2)"
   ]
  },
  {
   "cell_type": "markdown",
   "metadata": {},
   "source": [
    "#### Problem: Functions with heterogenous parameters/arguments"
   ]
  },
  {
   "cell_type": "code",
   "execution_count": 75,
   "metadata": {
    "collapsed": false
   },
   "outputs": [],
   "source": [
    "class PolynomialBasis:\n",
    "\n",
    "    def __init__(self, degree=2., include_bias=True):\n",
    "        self.include_bias = include_bias\n",
    "        self.degree = degree\n",
    "\n",
    "    def __call__(self, X):\n",
    "        powers = np.arange(self.degree+1)\n",
    "        if not self.include_bias:\n",
    "            powers = powers[1:]\n",
    "        return X**powers"
   ]
  },
  {
   "cell_type": "code",
   "execution_count": 76,
   "metadata": {
    "collapsed": true
   },
   "outputs": [],
   "source": [
    "class RadialBasis:\n",
    "\n",
    "    def __init__(self, mu=0., s=1.):\n",
    "        self.mu = mu\n",
    "        self.s = s\n",
    "\n",
    "    def __call__(self, X):\n",
    "        return np.exp(-cdist(X, self.mu, 'sqeuclidean')/(2*self.s**2))"
   ]
  },
  {
   "cell_type": "markdown",
   "metadata": {},
   "source": [
    "Note that *instances* of these Basis classes are callable, not the classes themselves. So we must decorate *instances* of these bases."
   ]
  },
  {
   "cell_type": "code",
   "execution_count": 80,
   "metadata": {
    "collapsed": false
   },
   "outputs": [],
   "source": [
    "f = FunctionWrapper(PolynomialBasis())"
   ]
  },
  {
   "cell_type": "code",
   "execution_count": 81,
   "metadata": {
    "collapsed": false
   },
   "outputs": [],
   "source": [
    "g = FunctionWrapper(RadialBasis(mu=np.arange(4, 7).reshape(-1, 1)))"
   ]
  },
  {
   "cell_type": "code",
   "execution_count": 82,
   "metadata": {
    "collapsed": false
   },
   "outputs": [
    {
     "data": {
      "text/plain": [
       "array([[  1.,   5.,  25.],\n",
       "       [  1.,   5.,  25.],\n",
       "       [  1.,   1.,   1.],\n",
       "       [  1.,   1.,   1.],\n",
       "       [  1.,   6.,  36.],\n",
       "       [  1.,   6.,  36.],\n",
       "       [  1.,   7.,  49.],\n",
       "       [  1.,   9.,  81.],\n",
       "       [  1.,   4.,  16.],\n",
       "       [  1.,   1.,   1.]])"
      ]
     },
     "execution_count": 82,
     "metadata": {},
     "output_type": "execute_result"
    }
   ],
   "source": [
    "f(X)"
   ]
  },
  {
   "cell_type": "code",
   "execution_count": 83,
   "metadata": {
    "collapsed": false
   },
   "outputs": [
    {
     "data": {
      "text/plain": [
       "array([[ 0.61,  1.  ,  0.61],\n",
       "       [ 0.61,  1.  ,  0.61],\n",
       "       [ 0.01,  0.  ,  0.  ],\n",
       "       [ 0.01,  0.  ,  0.  ],\n",
       "       [ 0.14,  0.61,  1.  ],\n",
       "       [ 0.14,  0.61,  1.  ],\n",
       "       [ 0.01,  0.14,  0.61],\n",
       "       [ 0.  ,  0.  ,  0.01],\n",
       "       [ 1.  ,  0.61,  0.14],\n",
       "       [ 0.01,  0.  ,  0.  ]])"
      ]
     },
     "execution_count": 83,
     "metadata": {},
     "output_type": "execute_result"
    }
   ],
   "source": [
    "g(X).round(2)"
   ]
  },
  {
   "cell_type": "code",
   "execution_count": 84,
   "metadata": {
    "collapsed": false
   },
   "outputs": [
    {
     "data": {
      "text/plain": [
       "array([[  1.61,   6.  ,  25.61],\n",
       "       [  1.61,   6.  ,  25.61],\n",
       "       [  1.01,   1.  ,   1.  ],\n",
       "       [  1.01,   1.  ,   1.  ],\n",
       "       [  1.14,   6.61,  37.  ],\n",
       "       [  1.14,   6.61,  37.  ],\n",
       "       [  1.01,   7.14,  49.61],\n",
       "       [  1.  ,   9.  ,  81.01],\n",
       "       [  2.  ,   4.61,  16.14],\n",
       "       [  1.01,   1.  ,   1.  ]])"
      ]
     },
     "execution_count": 84,
     "metadata": {},
     "output_type": "execute_result"
    }
   ],
   "source": [
    "(f(X)+g(X)).round(2)"
   ]
  },
  {
   "cell_type": "code",
   "execution_count": 85,
   "metadata": {
    "collapsed": false
   },
   "outputs": [
    {
     "data": {
      "text/plain": [
       "array([[  1.61,   6.  ,  25.61],\n",
       "       [  1.61,   6.  ,  25.61],\n",
       "       [  1.01,   1.  ,   1.  ],\n",
       "       [  1.01,   1.  ,   1.  ],\n",
       "       [  1.14,   6.61,  37.  ],\n",
       "       [  1.14,   6.61,  37.  ],\n",
       "       [  1.01,   7.14,  49.61],\n",
       "       [  1.  ,   9.  ,  81.01],\n",
       "       [  2.  ,   4.61,  16.14],\n",
       "       [  1.01,   1.  ,   1.  ]])"
      ]
     },
     "execution_count": 85,
     "metadata": {},
     "output_type": "execute_result"
    }
   ],
   "source": [
    "h = f+g\n",
    "h(X).round(2)"
   ]
  },
  {
   "cell_type": "markdown",
   "metadata": {},
   "source": [
    "Since instances of these basis classes implement `__call__`, and are therefore callable, we can actually do away with having to decorate instances of basis classes and directly specify `FunctionWrapperMeta` as the metaclass of the basis class."
   ]
  },
  {
   "cell_type": "code",
   "execution_count": 120,
   "metadata": {
    "collapsed": true
   },
   "outputs": [],
   "source": [
    "class PolynomialBasis:\n",
    "\n",
    "    __metaclass__ = FunctionWrapperMeta\n",
    "\n",
    "    methods = ['__add__', '__mul__', '__sub__', '__div__']\n",
    "\n",
    "    def __init__(self, degree=2., include_bias=True):\n",
    "        self.include_bias = include_bias\n",
    "        self.degree = degree\n",
    "\n",
    "    def __call__(self, X):\n",
    "        powers = np.arange(self.degree+1)\n",
    "        if not self.include_bias:\n",
    "            powers = powers[1:]\n",
    "        return X**powers"
   ]
  },
  {
   "cell_type": "code",
   "execution_count": 121,
   "metadata": {
    "collapsed": true
   },
   "outputs": [],
   "source": [
    "class RadialBasis:\n",
    "\n",
    "    __metaclass__ = FunctionWrapperMeta\n",
    "\n",
    "    methods = ['__add__', '__mul__', '__sub__', '__div__']\n",
    " \n",
    "    def __init__(self, mu=0., s=1.):\n",
    "        self.mu = mu\n",
    "        self.s = s\n",
    "        \n",
    "    def __call__(self, X):\n",
    "        return np.exp(-cdist(X, self.mu, 'sqeuclidean')/(2*self.s**2))"
   ]
  },
  {
   "cell_type": "markdown",
   "metadata": {},
   "source": [
    "Now we needn't worry about decorating basis functions to support operations. It is done automatically at class creation (not object creation) time."
   ]
  },
  {
   "cell_type": "code",
   "execution_count": 129,
   "metadata": {
    "collapsed": true
   },
   "outputs": [],
   "source": [
    "f = PolynomialBasis()"
   ]
  },
  {
   "cell_type": "code",
   "execution_count": 130,
   "metadata": {
    "collapsed": true
   },
   "outputs": [],
   "source": [
    "g = RadialBasis(mu=np.arange(4, 7).reshape(-1, 1))"
   ]
  },
  {
   "cell_type": "code",
   "execution_count": 131,
   "metadata": {
    "collapsed": false
   },
   "outputs": [
    {
     "data": {
      "text/plain": [
       "array([[  1.,   5.,  25.],\n",
       "       [  1.,   5.,  25.],\n",
       "       [  1.,   1.,   1.],\n",
       "       [  1.,   1.,   1.],\n",
       "       [  1.,   6.,  36.],\n",
       "       [  1.,   6.,  36.],\n",
       "       [  1.,   7.,  49.],\n",
       "       [  1.,   9.,  81.],\n",
       "       [  1.,   4.,  16.],\n",
       "       [  1.,   1.,   1.]])"
      ]
     },
     "execution_count": 131,
     "metadata": {},
     "output_type": "execute_result"
    }
   ],
   "source": [
    "f(X)"
   ]
  },
  {
   "cell_type": "code",
   "execution_count": 132,
   "metadata": {
    "collapsed": false
   },
   "outputs": [
    {
     "data": {
      "text/plain": [
       "array([[ 0.61,  1.  ,  0.61],\n",
       "       [ 0.61,  1.  ,  0.61],\n",
       "       [ 0.01,  0.  ,  0.  ],\n",
       "       [ 0.01,  0.  ,  0.  ],\n",
       "       [ 0.14,  0.61,  1.  ],\n",
       "       [ 0.14,  0.61,  1.  ],\n",
       "       [ 0.01,  0.14,  0.61],\n",
       "       [ 0.  ,  0.  ,  0.01],\n",
       "       [ 1.  ,  0.61,  0.14],\n",
       "       [ 0.01,  0.  ,  0.  ]])"
      ]
     },
     "execution_count": 132,
     "metadata": {},
     "output_type": "execute_result"
    }
   ],
   "source": [
    "g(X).round(2)"
   ]
  },
  {
   "cell_type": "code",
   "execution_count": 133,
   "metadata": {
    "collapsed": false
   },
   "outputs": [
    {
     "data": {
      "text/plain": [
       "array([[  1.61,   6.  ,  25.61],\n",
       "       [  1.61,   6.  ,  25.61],\n",
       "       [  1.01,   1.  ,   1.  ],\n",
       "       [  1.01,   1.  ,   1.  ],\n",
       "       [  1.14,   6.61,  37.  ],\n",
       "       [  1.14,   6.61,  37.  ],\n",
       "       [  1.01,   7.14,  49.61],\n",
       "       [  1.  ,   9.  ,  81.01],\n",
       "       [  2.  ,   4.61,  16.14],\n",
       "       [  1.01,   1.  ,   1.  ]])"
      ]
     },
     "execution_count": 133,
     "metadata": {},
     "output_type": "execute_result"
    }
   ],
   "source": [
    "(f(X)+g(X)).round(2)"
   ]
  },
  {
   "cell_type": "code",
   "execution_count": 134,
   "metadata": {
    "collapsed": false
   },
   "outputs": [
    {
     "data": {
      "text/plain": [
       "array([[  1.61,   6.  ,  25.61],\n",
       "       [  1.61,   6.  ,  25.61],\n",
       "       [  1.01,   1.  ,   1.  ],\n",
       "       [  1.01,   1.  ,   1.  ],\n",
       "       [  1.14,   6.61,  37.  ],\n",
       "       [  1.14,   6.61,  37.  ],\n",
       "       [  1.01,   7.14,  49.61],\n",
       "       [  1.  ,   9.  ,  81.01],\n",
       "       [  2.  ,   4.61,  16.14],\n",
       "       [  1.01,   1.  ,   1.  ]])"
      ]
     },
     "execution_count": 134,
     "metadata": {},
     "output_type": "execute_result"
    }
   ],
   "source": [
    "h = f+g\n",
    "h(X).round(2)"
   ]
  },
  {
   "cell_type": "markdown",
   "metadata": {},
   "source": [
    "# TODO: Concatenation, composition"
   ]
  },
  {
   "cell_type": "markdown",
   "metadata": {},
   "source": [
    "# TODO\n",
    "### Appendix: Mind-bending experiments"
   ]
  },
  {
   "cell_type": "code",
   "execution_count": 102,
   "metadata": {
    "collapsed": true
   },
   "outputs": [],
   "source": [
    "identity = lambda s: s"
   ]
  },
  {
   "cell_type": "code",
   "execution_count": 104,
   "metadata": {
    "collapsed": false
   },
   "outputs": [
    {
     "data": {
      "text/plain": [
       "'hello hello hello hello hello hello '"
      ]
     },
     "execution_count": 104,
     "metadata": {},
     "output_type": "execute_result"
    }
   ],
   "source": [
    "(FunctionWrapper(identity) * FunctionWrapper(len))('hello ')"
   ]
  },
  {
   "cell_type": "code",
   "execution_count": 118,
   "metadata": {
    "collapsed": false
   },
   "outputs": [],
   "source": [
    "def strange_repeat(s):\n",
    "    return s * len(s) + s.rjust(20)"
   ]
  },
  {
   "cell_type": "code",
   "execution_count": 119,
   "metadata": {
    "collapsed": false
   },
   "outputs": [
    {
     "data": {
      "text/plain": [
       "'ATCGATCGATCGATCG                ATCG'"
      ]
     },
     "execution_count": 119,
     "metadata": {},
     "output_type": "execute_result"
    }
   ],
   "source": [
    " strange_repeat('ATCG')"
   ]
  },
  {
   "cell_type": "code",
   "execution_count": null,
   "metadata": {
    "collapsed": true
   },
   "outputs": [],
   "source": []
  }
 ],
 "metadata": {
  "kernelspec": {
   "display_name": "Python 2",
   "language": "python",
   "name": "python2"
  },
  "language_info": {
   "codemirror_mode": {
    "name": "ipython",
    "version": 2
   },
   "file_extension": ".py",
   "mimetype": "text/x-python",
   "name": "python",
   "nbconvert_exporter": "python",
   "pygments_lexer": "ipython2",
   "version": "2.7.10"
  }
 },
 "nbformat": 4,
 "nbformat_minor": 0
}
